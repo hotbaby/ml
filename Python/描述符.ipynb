{
 "cells": [
  {
   "cell_type": "markdown",
   "metadata": {},
   "source": [
    "# 描述符"
   ]
  },
  {
   "cell_type": "markdown",
   "metadata": {},
   "source": [
    "参考文献：\n",
    "\n",
    "* https://docs.python.org/3/reference/datamodel.html#implementing-descriptors"
   ]
  },
  {
   "cell_type": "markdown",
   "metadata": {},
   "source": [
    "描述符协议"
   ]
  },
  {
   "cell_type": "markdown",
   "metadata": {},
   "source": [
    "* `def __get__(self, instance, owner=None)`\n",
    "* `def __set__(self, instance, value)`\n",
    "* `def __del__(self, instance)`"
   ]
  },
  {
   "cell_type": "code",
   "execution_count": 1,
   "metadata": {},
   "outputs": [],
   "source": [
    "class myclassmethod:\n",
    "    \n",
    "    def __init__(self, func):\n",
    "        self.f = func\n",
    "        \n",
    "    def __get__(self, instance, kclass=None):\n",
    "        if kclass is None:\n",
    "            kclass = type(instance)\n",
    "            \n",
    "        def new_func(*args, **kwargs):\n",
    "            return self.f(kclass, *args, **kwargs)\n",
    "        \n",
    "        return new_func"
   ]
  },
  {
   "cell_type": "code",
   "execution_count": 2,
   "metadata": {},
   "outputs": [],
   "source": [
    "class mystaicmethod:\n",
    "    \n",
    "    def __init__(self, func):\n",
    "        self.f = func\n",
    "        \n",
    "    def __get__(self, intance, kclass=None):\n",
    "        return self.f"
   ]
  },
  {
   "cell_type": "code",
   "execution_count": 3,
   "metadata": {},
   "outputs": [],
   "source": [
    "class Fake:\n",
    "    \n",
    "    @myclassmethod\n",
    "    def classmethod(cls, *args, **kwargs):\n",
    "        print(args, kwargs)\n",
    "        \n",
    "    @mystaicmethod\n",
    "    def staticmethod(*args, **kwargs):\n",
    "        print(args, kwargs)"
   ]
  },
  {
   "cell_type": "code",
   "execution_count": 4,
   "metadata": {},
   "outputs": [
    {
     "name": "stdout",
     "output_type": "stream",
     "text": [
      "('param1', 'param2') {'name1': 'value1'}\n",
      "('param3', 'param4') {'name2': 'value2'}\n"
     ]
    }
   ],
   "source": [
    "Fake.classmethod('param1', 'param2', name1='value1')\n",
    "Fake.staticmethod('param3', 'param4', name2='value2')"
   ]
  }
 ],
 "metadata": {
  "kernelspec": {
   "display_name": "Python 3",
   "language": "python",
   "name": "python3"
  },
  "language_info": {
   "codemirror_mode": {
    "name": "ipython",
    "version": 3
   },
   "file_extension": ".py",
   "mimetype": "text/x-python",
   "name": "python",
   "nbconvert_exporter": "python",
   "pygments_lexer": "ipython3",
   "version": "3.7.3"
  },
  "toc": {
   "base_numbering": 1,
   "nav_menu": {},
   "number_sections": true,
   "sideBar": true,
   "skip_h1_title": false,
   "title_cell": "Table of Contents",
   "title_sidebar": "Contents",
   "toc_cell": false,
   "toc_position": {},
   "toc_section_display": true,
   "toc_window_display": false
  }
 },
 "nbformat": 4,
 "nbformat_minor": 4
}
