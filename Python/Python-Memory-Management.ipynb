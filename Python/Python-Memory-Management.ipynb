{
 "cells": [
  {
   "cell_type": "markdown",
   "metadata": {},
   "source": [
    "# Python 内存管理"
   ]
  },
  {
   "cell_type": "markdown",
   "metadata": {},
   "source": [
    "## 内存管理架构"
   ]
  },
  {
   "cell_type": "markdown",
   "metadata": {},
   "source": [
    "![](https://img3.doubanio.com/view/ark_works_pic/common-largeshow/public/179342.jpg)"
   ]
  },
  {
   "cell_type": "markdown",
   "metadata": {},
   "source": [
    "## 数据结构"
   ]
  },
  {
   "cell_type": "markdown",
   "metadata": {},
   "source": [
    "### block 数据结构"
   ]
  },
  {
   "cell_type": "markdown",
   "metadata": {},
   "source": [
    "```c\n",
    "typedef uchar block;\n",
    "```"
   ]
  },
  {
   "cell_type": "markdown",
   "metadata": {},
   "source": [
    "### pool 数据结构"
   ]
  },
  {
   "cell_type": "markdown",
   "metadata": {},
   "source": [
    "```c\n",
    "/* Pool for small blocks. */\n",
    "struct pool_header {\n",
    "    union { block *_padding;\n",
    "            uint count} ref;       /* number of allocated blocks */\n",
    "    block *freeblock;              /* pool's free list head */\n",
    "    struct pool_header *nextpool;  /* next pool of this size class */\n",
    "    struct pool_header *prevpool;  /* previous pool of this size class */\n",
    "    uint arenaindex;               /* index into arenas of base adr */\n",
    "    uint szidx;                    /* block size class index */\n",
    "    uint nextoffset;               /* bytes to virgin block */\n",
    "    uint maxnextoffset;            /* largest valid nextoffset */\n",
    "};\n",
    "```"
   ]
  },
  {
   "cell_type": "markdown",
   "metadata": {},
   "source": [
    "### arena 数据结构"
   ]
  },
  {
   "cell_type": "markdown",
   "metadata": {},
   "source": [
    "```c\n",
    "struct arena_object {\n",
    "    /* The address of the arena, as returned by malloc.  Note that 0\n",
    "     * will never be returned by a successful malloc, and is used\n",
    "     * here to mark an arena_object that doesn't correspond to an\n",
    "     * allocated arena.\n",
    "     */\n",
    "    uptr address;\n",
    "    \n",
    "    /* Pool-aligned pointer to the next pool to be carbed off. */\n",
    "    block* pool_address;\n",
    "    \n",
    "    /* The number of available pools in the arena: free pools + never-allocated pools */\n",
    "    uint nfreepools;\n",
    "    \n",
    "    /* The total number of pools in the arena, whether or not available. */\n",
    "    uint ntotalpools;\n",
    "    \n",
    "    /* Singly-linked list of available pools. */\n",
    "    struct pool_header* freepools;\n",
    "    \n",
    "    /* Whenever this arena_object is not assosicated with an allocated\n",
    "     * arena, the nextarena member is used to link all unassociated \n",
    "     * arena_objects in the single-linked `unused_arena_objects` list.\n",
    "     * The prevarena member is unused in this case.\n",
    "     * \n",
    "     * When this arena_object is associated with an allocated arena\n",
    "     * with at least one available pool, both members are used in the \n",
    "     * doubly-linked `usable_arenas` list, which is maintained in increasing\n",
    "     * order of `nfreepools` values.\n",
    "     *\n",
    "     * Else this arena_object is associated with an allocated arena all of \n",
    "     * whose pools are in use. `nextarena` and `prevarena` are both meaningless\n",
    "     * in this case.\n",
    "     */\n",
    "    struct arena_object *nextarena;\n",
    "    struct arena_object *prevarena;\n",
    "};\n",
    "```"
   ]
  },
  {
   "cell_type": "markdown",
   "metadata": {},
   "source": [
    "## pool"
   ]
  },
  {
   "cell_type": "markdown",
   "metadata": {},
   "source": [
    "pool内存空间布局"
   ]
  },
  {
   "cell_type": "markdown",
   "metadata": {},
   "source": [
    "![](https://img3.doubanio.com/view/ark_works_pic/common-largeshow/public/179373.jpg)"
   ]
  },
  {
   "cell_type": "markdown",
   "metadata": {},
   "source": [
    "## arena"
   ]
  },
  {
   "cell_type": "markdown",
   "metadata": {},
   "source": [
    "arena内存空间布局"
   ]
  },
  {
   "cell_type": "markdown",
   "metadata": {},
   "source": [
    "![](https://img1.doubanio.com/view/ark_works_pic/common-largeshow/public/180219.jpg)"
   ]
  },
  {
   "cell_type": "markdown",
   "metadata": {},
   "source": [
    "pool与arena内存空间布局对比"
   ]
  },
  {
   "cell_type": "markdown",
   "metadata": {},
   "source": [
    "![](https://img1.doubanio.com/view/ark_works_pic/common-largeshow/public/180217.jpg)"
   ]
  },
  {
   "cell_type": "markdown",
   "metadata": {},
   "source": [
    "arenas, usable_arenas, unused_arena_objects"
   ]
  },
  {
   "cell_type": "markdown",
   "metadata": {},
   "source": [
    "![](https://img1.doubanio.com/view/ark_works_pic/common-largeshow/public/180218.jpg)"
   ]
  },
  {
   "cell_type": "markdown",
   "metadata": {},
   "source": [
    "## PyObject_Malloc 函数概览"
   ]
  },
  {
   "cell_type": "markdown",
   "metadata": {},
   "source": [
    "`Objects/obmalloc.c`"
   ]
  },
  {
   "cell_type": "markdown",
   "metadata": {},
   "source": [
    "```c\n",
    "void* PyObject_Malloc(size_t nbytes)\n",
    "{\n",
    "    block *bp;\n",
    "    poolp pool;\n",
    "    poolp next;\n",
    "    uint size;\n",
    "    \n",
    "    // 如果申请的内存小于SMALL_REQUEST_THRESHOLD, 使用Python的小块内存的内存池，否则，转向malloc\n",
    "    if ((nbytes - 1) < SMALL_REQUEST_THRESHOLD) {\n",
    "        // 根据申请内存的大小获得对应的size class index\n",
    "        size = (unit)(nbytes - 1) >> ALIGNMENT_SHIFT;\n",
    "        pool = usedpools[size + size];\n",
    "        // 如果usedpools中有可用的pool，使用这个pool来分配block\n",
    "        if (pool != pool-> nextpool) {\n",
    "            // 在pool中分配block，分配结束后，如果pool中的block都被分配了，将pool从usedpools中摘除\n",
    "            next = pool->nextpool;\n",
    "            pool = pool-prepool;\n",
    "            next->prevpool = pool;\n",
    "            pool->nextpool = next;\n",
    "            return (void*)bp;\n",
    "        }\n",
    "    }\n",
    "    \n",
    "    //usedpools中没有可用的pool，从usable_arenas中获取pool\n",
    "    if (usable_arenas == NULL) {\n",
    "        //usable_arenas中没有可用的arena，开始申请arena\n",
    "        usable_arenas = new_arena();\n",
    "        usable_arenas->nextarena = usable_arenas->prevarena = NULL;\n",
    "    }\n",
    "    \n",
    "    //从usable_arenas的第一个arena中获取一个pool\n",
    "    pool = usable_arenas->freepools;\n",
    "    if (pool != NULL) {\n",
    "\n",
    "init_pool:\n",
    "        //获取pool成功，惊醒init pool的动作，将pool放入used_pools中，并返回分配的block\n",
    "        ......\n",
    "            \n",
    "        goto init_pool;\n",
    "    }\n",
    "\n",
    "redirect:\n",
    "    //如果申请的内存不小于SMALL_REQUEST_THRESHOLD，使用malloc\n",
    "    if (nbytes == 0):\n",
    "        nbytes = 1\n",
    "    return (void*)malloc(nbytes);\n",
    "}\n",
    "```"
   ]
  },
  {
   "cell_type": "markdown",
   "metadata": {},
   "source": [
    "## 小块内存池全景"
   ]
  },
  {
   "cell_type": "markdown",
   "metadata": {},
   "source": [
    "![](https://img9.doubanio.com/view/ark_works_pic/common-largeshow/public/180245.jpg)"
   ]
  }
 ],
 "metadata": {
  "kernelspec": {
   "display_name": "Python 3",
   "language": "python",
   "name": "python3"
  },
  "language_info": {
   "codemirror_mode": {
    "name": "ipython",
    "version": 3
   },
   "file_extension": ".py",
   "mimetype": "text/x-python",
   "name": "python",
   "nbconvert_exporter": "python",
   "pygments_lexer": "ipython3",
   "version": "3.7.3"
  },
  "toc": {
   "base_numbering": 1,
   "nav_menu": {},
   "number_sections": true,
   "sideBar": true,
   "skip_h1_title": false,
   "title_cell": "Table of Contents",
   "title_sidebar": "Contents",
   "toc_cell": false,
   "toc_position": {},
   "toc_section_display": true,
   "toc_window_display": true
  }
 },
 "nbformat": 4,
 "nbformat_minor": 4
}
