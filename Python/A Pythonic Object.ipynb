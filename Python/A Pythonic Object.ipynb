{
 "cells": [
  {
   "cell_type": "markdown",
   "metadata": {},
   "source": [
    "# A Pythonic Object"
   ]
  },
  {
   "cell_type": "markdown",
   "metadata": {},
   "source": [
    "## Vector Classs"
   ]
  },
  {
   "cell_type": "code",
   "execution_count": 1,
   "metadata": {},
   "outputs": [],
   "source": [
    "from array import array\n",
    "import math"
   ]
  },
  {
   "cell_type": "code",
   "execution_count": 2,
   "metadata": {},
   "outputs": [],
   "source": [
    "class Vector2d:\n",
    "    typecode = 'd'\n",
    "    \n",
    "    def __init__(self, x, y):\n",
    "        self.x = float(x)\n",
    "        self.y = float(y)\n",
    "        \n",
    "    def __iter__(self):\n",
    "        return (i for i in (self.x, self.y))\n",
    "    \n",
    "    def __repr__(self):\n",
    "        class_name = type(self).__name__\n",
    "        return '{}{!r}, {!r}'.format(class_name, *self)\n",
    "    \n",
    "    def __str__(self):\n",
    "        return str(tuple(self))\n",
    "    \n",
    "    def __bytes__(self):\n",
    "        return (bytes([ord(self.typecode)]) + bytes(array(self.typecode, self)))\n",
    "    \n",
    "    def __eq__(self, other):\n",
    "        return tuple(self) == tuple(other)\n",
    "    \n",
    "    def __abs__(self):\n",
    "        return math.hypot(self.x, self.y)\n",
    "    \n",
    "    def __bool__(self):\n",
    "        return bool(abs(self))"
   ]
  },
  {
   "cell_type": "markdown",
   "metadata": {},
   "source": [
    "> typecode是类属性，在Vector2d实例和字节序列之间转换时使用"
   ]
  },
  {
   "cell_type": "markdown",
   "metadata": {},
   "source": [
    "## An Alternative Constructor"
   ]
  },
  {
   "cell_type": "markdown",
   "metadata": {},
   "source": [
    "```python\n",
    "@classmethod\n",
    "def frombytes(cls, octets):\n",
    "    typecode = chr(octets[0])\n",
    "    memv = memoryview(octets[1:]).cast(typecode)\n",
    "    return cls(*memv)\n",
    "```"
   ]
  },
  {
   "cell_type": "markdown",
   "metadata": {},
   "source": [
    "## classmethod and staticmethod"
   ]
  },
  {
   "cell_type": "markdown",
   "metadata": {},
   "source": [
    "classmethod定义操作类，而不是操作实例的方法。classmethod改变了调用方法的方式，因此类方法的第一个参数时类本事，而不是实例。classmethod最常见的用途是定义备选构造方法。"
   ]
  },
  {
   "cell_type": "markdown",
   "metadata": {},
   "source": [
    "staticmethod装饰器也会改变调用方式，但是第一个参数不是特殊值。静态方法就是普通的函数，只是放在类的定义体中。"
   ]
  },
  {
   "cell_type": "markdown",
   "metadata": {},
   "source": [
    "## Formatted Display"
   ]
  },
  {
   "cell_type": "markdown",
   "metadata": {},
   "source": [
    "[PEP Advanced String Formatting](https://www.python.org/dev/peps/pep-3101/)"
   ]
  },
  {
   "cell_type": "markdown",
   "metadata": {},
   "source": [
    "格式规范语言为一些内置类型提供了专用的表示代码。比如，b和x分别表示二进制和十六进制的int类型，f表示小数形式的float类型，而%表示百分数形式。"
   ]
  },
  {
   "cell_type": "code",
   "execution_count": 9,
   "metadata": {},
   "outputs": [
    {
     "name": "stdout",
     "output_type": "stream",
     "text": [
      "Help on built-in function format in module builtins:\n",
      "\n",
      "format(value, format_spec='', /)\n",
      "    Return value.__format__(format_spec)\n",
      "    \n",
      "    format_spec defaults to the empty string.\n",
      "    See the Format Specification Mini-Language section of help('FORMATTING') for\n",
      "    details.\n",
      "\n"
     ]
    }
   ],
   "source": [
    "help(format)"
   ]
  },
  {
   "cell_type": "code",
   "execution_count": 7,
   "metadata": {},
   "outputs": [
    {
     "data": {
      "text/plain": [
       "'101010'"
      ]
     },
     "execution_count": 7,
     "metadata": {},
     "output_type": "execute_result"
    }
   ],
   "source": [
    "format(42, 'b')"
   ]
  },
  {
   "cell_type": "code",
   "execution_count": 12,
   "metadata": {},
   "outputs": [
    {
     "data": {
      "text/plain": [
       "'66.67%'"
      ]
     },
     "execution_count": 12,
     "metadata": {},
     "output_type": "execute_result"
    }
   ],
   "source": [
    "format(2/3, '.2%')"
   ]
  },
  {
   "cell_type": "markdown",
   "metadata": {},
   "source": [
    "格式规范语言是扩展的，因为各个类可以自行决定如何解释format_spec参数。例如：datetime模块中类，它们的`__format__`方法使用的格式嗲吗与strftime()函数一样。"
   ]
  },
  {
   "cell_type": "code",
   "execution_count": 32,
   "metadata": {},
   "outputs": [
    {
     "data": {
      "text/plain": [
       "'16:45:13'"
      ]
     },
     "execution_count": 32,
     "metadata": {},
     "output_type": "execute_result"
    }
   ],
   "source": [
    "import datetime\n",
    "\n",
    "now = datetime.datetime.now()\n",
    "format(now, '%H%:%M:%S')"
   ]
  },
  {
   "cell_type": "code",
   "execution_count": 35,
   "metadata": {},
   "outputs": [
    {
     "data": {
      "text/plain": [
       "\"It's now 04:45 PM\""
      ]
     },
     "execution_count": 35,
     "metadata": {},
     "output_type": "execute_result"
    }
   ],
   "source": [
    "\"It's now {:%I:%M %p}\".format(now)"
   ]
  },
  {
   "cell_type": "markdown",
   "metadata": {},
   "source": [
    "如果类没有定义`__format__`方法，从object继承的方法会返回str(my_object)。我们为Vector2d定义了`__str__`方法："
   ]
  },
  {
   "cell_type": "code",
   "execution_count": 36,
   "metadata": {},
   "outputs": [
    {
     "data": {
      "text/plain": [
       "'(3.0, 4.0)'"
      ]
     },
     "execution_count": 36,
     "metadata": {},
     "output_type": "execute_result"
    }
   ],
   "source": [
    "v1 = Vector2d(3, 4)\n",
    "format(v1)"
   ]
  },
  {
   "cell_type": "markdown",
   "metadata": {},
   "source": [
    "然而，如果传入格式说明符，`object.__format__`方法会抛出TypeError:"
   ]
  },
  {
   "cell_type": "code",
   "execution_count": 38,
   "metadata": {},
   "outputs": [
    {
     "ename": "TypeError",
     "evalue": "unsupported format string passed to Vector2d.__format__",
     "output_type": "error",
     "traceback": [
      "\u001b[0;31m---------------------------------------------------------------------------\u001b[0m",
      "\u001b[0;31mTypeError\u001b[0m                                 Traceback (most recent call last)",
      "\u001b[0;32m<ipython-input-38-9f7764dc3848>\u001b[0m in \u001b[0;36m<module>\u001b[0;34m\u001b[0m\n\u001b[0;32m----> 1\u001b[0;31m \u001b[0mformat\u001b[0m\u001b[0;34m(\u001b[0m\u001b[0mv1\u001b[0m\u001b[0;34m,\u001b[0m \u001b[0;34m'.3f'\u001b[0m\u001b[0;34m)\u001b[0m\u001b[0;34m\u001b[0m\u001b[0;34m\u001b[0m\u001b[0m\n\u001b[0m",
      "\u001b[0;31mTypeError\u001b[0m: unsupported format string passed to Vector2d.__format__"
     ]
    }
   ],
   "source": [
    "format(v1, '.3f')"
   ]
  },
  {
   "cell_type": "markdown",
   "metadata": {},
   "source": [
    "```python\n",
    "def __format__(self, fmt_spec=''):\n",
    "    components = (format(c, fmt_spec) for c in self)\n",
    "    return '({}, {})'.format(*components)\n",
    "```"
   ]
  },
  {
   "cell_type": "markdown",
   "metadata": {},
   "source": [
    "## A Hashed Vector2d"
   ]
  },
  {
   "cell_type": "markdown",
   "metadata": {},
   "source": [
    "注意，我们让这些向量不可变是有原因的，因为这样才能实现`__hash__`方法。这个方法应该返回一个整数，理想情况下还要考虑对象属性的散列值(`__eq__`方法也要使用)，因为相等的对象应该具有相同的散列值。根据特殊方法`__hash__`的文档，最好使用位运算符异或（^）混合各分量的散列值。"
   ]
  },
  {
   "cell_type": "markdown",
   "metadata": {},
   "source": [
    "```python\n",
    "def __hash__(self):\n",
    "    return hash(self.x) ^ hash(self.y)\n",
    "```"
   ]
  },
  {
   "cell_type": "markdown",
   "metadata": {},
   "source": [
    "> 要想创建可散列的类型，不一定要实现特性，也不一定保护实例属性。只需正确的实现`__hash__`和`__eq__`方法即可。但是，实例的散列值绝不应该变化。"
   ]
  },
  {
   "cell_type": "markdown",
   "metadata": {},
   "source": [
    "## Reference"
   ]
  },
  {
   "cell_type": "markdown",
   "metadata": {},
   "source": [
    "* [Advanced String Formatting](https://www.python.org/dev/peps/pep-3101/)"
   ]
  }
 ],
 "metadata": {
  "kernelspec": {
   "display_name": "Python 3",
   "language": "python",
   "name": "python3"
  },
  "language_info": {
   "codemirror_mode": {
    "name": "ipython",
    "version": 3
   },
   "file_extension": ".py",
   "mimetype": "text/x-python",
   "name": "python",
   "nbconvert_exporter": "python",
   "pygments_lexer": "ipython3",
   "version": "3.7.6"
  },
  "toc": {
   "base_numbering": 1,
   "nav_menu": {},
   "number_sections": true,
   "sideBar": true,
   "skip_h1_title": false,
   "title_cell": "Table of Contents",
   "title_sidebar": "Contents",
   "toc_cell": false,
   "toc_position": {},
   "toc_section_display": true,
   "toc_window_display": false
  }
 },
 "nbformat": 4,
 "nbformat_minor": 4
}
