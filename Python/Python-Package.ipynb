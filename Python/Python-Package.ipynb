{
 "cells": [
  {
   "cell_type": "markdown",
   "metadata": {},
   "source": [
    "**Python Package**"
   ]
  },
  {
   "cell_type": "markdown",
   "metadata": {},
   "source": [
    "# 背景"
   ]
  },
  {
   "cell_type": "markdown",
   "metadata": {},
   "source": [
    "目前Python项目存在大量功能可复用的代码，在这部分公共代码新增功能或修复问题，应用到各个项目时，都需要修改多次，工作重复且容易引入BUG。\n",
    "\n",
    "为了解决此问题，将Python项目中重复代码提取出来，以Python Package的形式发布代码，各个Python项目通过导入Python Package来调用相关接口或函数。新增功能、问题修复只在Python Package中进行，Python项目只做版本升级即可。\n",
    "\n",
    "本文档分两个部分描述Python Package，一部分描述了如何构建、发布和安装Python Package，一部分描述了如何开发Python Package。"
   ]
  },
  {
   "cell_type": "markdown",
   "metadata": {},
   "source": [
    "# Python Package"
   ]
  },
  {
   "cell_type": "markdown",
   "metadata": {},
   "source": [
    "## Python Package构建、发布和安装"
   ]
  },
  {
   "cell_type": "markdown",
   "metadata": {},
   "source": [
    "Python包仓库[The Python Package Index (PyPI)](https://pypi.org/)，开发者可以将自己开发的Python包发布到PyPI，供其他开发者调用，实现代码共享，避免重复发明轮子。"
   ]
  },
  {
   "cell_type": "markdown",
   "metadata": {},
   "source": [
    "### 目录结构"
   ]
  },
  {
   "cell_type": "markdown",
   "metadata": {},
   "source": [
    "```\n",
    "├── LICENSE\n",
    "├── README.md\n",
    "├── package_name\n",
    "│   ├── __init__.py\n",
    "│   ├── exceptions.py\n",
    "│   ├── feature.py\n",
    "│   ├── settings.py\n",
    "├── pytest.ini\n",
    "├── requirements.txt\n",
    "├── setup.py\n",
    "├── tests\n",
    "│   ├── __init__.py\n",
    "│   ├── test_feature.py\n",
    "│   └── test_settings.py\n",
    "```"
   ]
  },
  {
   "cell_type": "markdown",
   "metadata": {},
   "source": [
    "### 构建"
   ]
  },
  {
   "cell_type": "markdown",
   "metadata": {},
   "source": [
    "```shell\n",
    "$ python setup.py check;\n",
    "$ python setup.py sdist;\n",
    "```"
   ]
  },
  {
   "cell_type": "markdown",
   "metadata": {},
   "source": [
    "### 发布"
   ]
  },
  {
   "cell_type": "markdown",
   "metadata": {},
   "source": [
    "注册PyPI账号"
   ]
  },
  {
   "cell_type": "markdown",
   "metadata": {},
   "source": [
    "https://pypi.org/account/register/"
   ]
  },
  {
   "cell_type": "markdown",
   "metadata": {},
   "source": [
    "创建用户认证文件`~/.pypirc`"
   ]
  },
  {
   "cell_type": "markdown",
   "metadata": {},
   "source": [
    "```\n",
    "[distutils]\n",
    "index-servers=pypi\n",
    "\n",
    "[pypi]\n",
    "repository = https://upload.pypi.org/legacy/\n",
    "username = <username>\n",
    "password = <password>\n",
    "```"
   ]
  },
  {
   "cell_type": "markdown",
   "metadata": {},
   "source": [
    "上传"
   ]
  },
  {
   "cell_type": "markdown",
   "metadata": {},
   "source": [
    "```shell\n",
    "$ twine upload dist/package-version.egg\n",
    "```"
   ]
  },
  {
   "cell_type": "markdown",
   "metadata": {},
   "source": [
    "### 安装"
   ]
  },
  {
   "cell_type": "markdown",
   "metadata": {},
   "source": [
    "```shell\n",
    "# 直接安装\n",
    "$ pip install requests==2.24.0\n",
    "\n",
    "# 通过git安装，且可以指定分支或tag(版本)\n",
    "$ pip install git+https://github.com/psf/requests.git@master#egg=requests\n",
    "$ pip install git+git://github.com/psf/requests.git@master#egg=requests\n",
    "```"
   ]
  },
  {
   "cell_type": "markdown",
   "metadata": {},
   "source": [
    "## 如何开发Python Package"
   ]
  },
  {
   "cell_type": "markdown",
   "metadata": {},
   "source": [
    "简单描述Pyhon Package的目录结构，异常、配置和测试用例等组成部分，并定义了一些约束规范。"
   ]
  },
  {
   "cell_type": "markdown",
   "metadata": {},
   "source": [
    "### 命名规范"
   ]
  },
  {
   "cell_type": "markdown",
   "metadata": {},
   "source": [
    "**bdp-{package}-py**\n",
    "* bdp数据获取所有项目都以bdp开头，类似名字空间概念\n",
    "* package表示实现的功能\n",
    "* py标识是一个Python Package."
   ]
  },
  {
   "cell_type": "markdown",
   "metadata": {},
   "source": [
    "### 目录结构"
   ]
  },
  {
   "cell_type": "markdown",
   "metadata": {},
   "source": [
    "以`bdp-proxy-py`项目为例，说明Python Package目录的结构。"
   ]
  },
  {
   "cell_type": "markdown",
   "metadata": {},
   "source": [
    "```shell\n",
    "├── LICENSE\n",
    "├── README.md\n",
    "├── bdp_proxy\n",
    "│   ├── __init__.py\n",
    "│   ├── exceptions.py\n",
    "│   ├── proxy.py\n",
    "│   ├── settings.py\n",
    "├── pytest.ini\n",
    "├── requirements.txt\n",
    "├── setup.py\n",
    "├── tests\n",
    "│   ├── __init__.py\n",
    "│   ├── test_proxy.py\n",
    "```"
   ]
  },
  {
   "cell_type": "markdown",
   "metadata": {},
   "source": [
    "* bdp_proxy 是Python Package核心实现功能\n",
    "* bdp_proxy/exceptions.py Python Package内部定义的异常\n",
    "* bdp_proxy/settings.py Python Package对应配置\n",
    "* pytest.ini pytest测试用例配置，例如`DJANGO_SETTINGS_MODULE`配置\n",
    "* setup.py 包管理工具，定义了Python Package的名称、版本、依赖等信息\n",
    "* tests/ Python包功能对应的测试用例"
   ]
  },
  {
   "cell_type": "markdown",
   "metadata": {},
   "source": [
    "### 核心功能"
   ]
  },
  {
   "cell_type": "markdown",
   "metadata": {},
   "source": [
    "**功能模块**"
   ]
  },
  {
   "cell_type": "markdown",
   "metadata": {},
   "source": [
    "略"
   ]
  },
  {
   "cell_type": "markdown",
   "metadata": {},
   "source": [
    "**配置管理**"
   ]
  },
  {
   "cell_type": "markdown",
   "metadata": {},
   "source": [
    "通过Django settings管理配置。"
   ]
  },
  {
   "cell_type": "markdown",
   "metadata": {},
   "source": [
    "`bdp_proxy/settings.py`示例："
   ]
  },
  {
   "cell_type": "markdown",
   "metadata": {},
   "source": [
    "```python\n",
    "from django.conf import settings as django_settings\n",
    "\n",
    "\n",
    "# proxy provider\n",
    "BDP_PROXY_PROVIDER_DLY = 'DaiLiYun'\n",
    "BDP_PROXY_PROVIDER_CACHE_KEY = 'bdp-proxy-provider-35a5b8'\n",
    "BDP_PROXY_PROVIDER = getattr(django_settings, 'BDP_PROXY_PROVIDER', BDP_PROXY_PROVIDER_DLY)\n",
    "...\n",
    "```"
   ]
  },
  {
   "cell_type": "markdown",
   "metadata": {},
   "source": [
    "**异常管理**"
   ]
  },
  {
   "cell_type": "markdown",
   "metadata": {},
   "source": [
    "**定义一个继承`Exception`基础异常（例如：`class ProxyBaseException(Exception): pass`），Package内部所有自定义异常都继承此异常。**"
   ]
  },
  {
   "cell_type": "markdown",
   "metadata": {},
   "source": [
    "> 程序内部尽量不要捕获`Exception`异常"
   ]
  },
  {
   "cell_type": "markdown",
   "metadata": {},
   "source": [
    "### 测试用例"
   ]
  },
  {
   "cell_type": "markdown",
   "metadata": {},
   "source": [
    "**为什么要写测试用例？**"
   ]
  },
  {
   "cell_type": "markdown",
   "metadata": {},
   "source": [
    "写出更高质量的程序，且能防止版本迭代过程中引入BUG。"
   ]
  },
  {
   "cell_type": "markdown",
   "metadata": {},
   "source": [
    "**测试用例框架**"
   ]
  },
  {
   "cell_type": "markdown",
   "metadata": {},
   "source": [
    "选用`pytest`作为编写测试用例的框架。\n",
    "\n",
    "pytest简单、功能完备，兼容`nose`, `unitest`测试框架，另外，还是支持很多插件，例如：常用的`pytest-django`, `pytest-pep8`, `pytest-pep8`。"
   ]
  },
  {
   "cell_type": "markdown",
   "metadata": {},
   "source": [
    "**如何写测试用例？**"
   ]
  },
  {
   "cell_type": "markdown",
   "metadata": {},
   "source": [
    "暂不展开详细讨论，可以参考pytest官网文档，也可以参考`bdp-proxy-py`项目的测试用例。"
   ]
  },
  {
   "cell_type": "markdown",
   "metadata": {},
   "source": [
    "**运行测试用例**"
   ]
  },
  {
   "cell_type": "markdown",
   "metadata": {},
   "source": [
    "```shell\n",
    "$ pytest tests -cov=bdp_proxy --pep8\n",
    "```"
   ]
  },
  {
   "cell_type": "markdown",
   "metadata": {},
   "source": [
    "# 参考文献"
   ]
  },
  {
   "cell_type": "markdown",
   "metadata": {},
   "source": [
    "* [Python Package User Guide](https://packaging.python.org/)\n",
    "* [Pytest Documents](https://docs.pytest.org/en/stable/)\n",
    "* [Python Package exmaple bdp-proxy-py](http://hcgit.hengchang6.com/sys_deploy/bdp-proxy-py)"
   ]
  }
 ],
 "metadata": {
  "kernelspec": {
   "display_name": "Python 3",
   "language": "python",
   "name": "python3"
  },
  "language_info": {
   "codemirror_mode": {
    "name": "ipython",
    "version": 3
   },
   "file_extension": ".py",
   "mimetype": "text/x-python",
   "name": "python",
   "nbconvert_exporter": "python",
   "pygments_lexer": "ipython3",
   "version": "3.7.3"
  },
  "toc": {
   "base_numbering": 1,
   "nav_menu": {},
   "number_sections": true,
   "sideBar": true,
   "skip_h1_title": false,
   "title_cell": "Table of Contents",
   "title_sidebar": "Contents",
   "toc_cell": false,
   "toc_position": {},
   "toc_section_display": true,
   "toc_window_display": false
  }
 },
 "nbformat": 4,
 "nbformat_minor": 4
}
