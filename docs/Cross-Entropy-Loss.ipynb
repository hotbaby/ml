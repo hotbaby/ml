{
 "cells": [
  {
   "cell_type": "markdown",
   "id": "accredited-bidding",
   "metadata": {},
   "source": [
    "# Cross Entropy Loss"
   ]
  },
  {
   "cell_type": "code",
   "execution_count": 1,
   "id": "lesbian-desert",
   "metadata": {},
   "outputs": [],
   "source": [
    "import torch\n",
    "import torch.nn as nn\n",
    "import torch.nn.functional as F"
   ]
  },
  {
   "cell_type": "markdown",
   "id": "northern-virtue",
   "metadata": {},
   "source": [
    "Cross Entropy"
   ]
  },
  {
   "cell_type": "markdown",
   "id": "angry-excellence",
   "metadata": {},
   "source": [
    "$$Cross Entropy = - \\sum p(x) \\cdot \\log q(x)$$"
   ]
  },
  {
   "cell_type": "markdown",
   "id": "abandoned-limitation",
   "metadata": {},
   "source": [
    "## `nn.CrossEntropyLoss`"
   ]
  },
  {
   "cell_type": "code",
   "execution_count": 2,
   "id": "operational-bryan",
   "metadata": {},
   "outputs": [],
   "source": [
    "inputs = torch.randn(3, 5)\n",
    "labels = torch.tensor([1, 0, 1], dtype=torch.long)"
   ]
  },
  {
   "cell_type": "code",
   "execution_count": 3,
   "id": "solar-break",
   "metadata": {},
   "outputs": [
    {
     "data": {
      "text/plain": [
       "(tensor([[-0.6722,  0.0933, -0.7828, -0.5380, -0.3814],\n",
       "         [-1.0644, -0.0649,  0.6899, -0.5077, -0.4502],\n",
       "         [-1.7857, -0.0663,  0.4620,  0.8843, -0.4773]]), tensor([1, 0, 1]))"
      ]
     },
     "execution_count": 3,
     "metadata": {},
     "output_type": "execute_result"
    }
   ],
   "source": [
    "inputs, labels"
   ]
  },
  {
   "cell_type": "code",
   "execution_count": 4,
   "id": "minor-constraint",
   "metadata": {},
   "outputs": [
    {
     "data": {
      "text/plain": [
       "tensor([1.1104, 2.5718, 1.8125])"
      ]
     },
     "execution_count": 4,
     "metadata": {},
     "output_type": "execute_result"
    }
   ],
   "source": [
    "nn.CrossEntropyLoss(reduction='none')(inputs, labels)"
   ]
  },
  {
   "cell_type": "code",
   "execution_count": 5,
   "id": "fossil-liquid",
   "metadata": {},
   "outputs": [
    {
     "data": {
      "text/plain": [
       "tensor(1.8316)"
      ]
     },
     "execution_count": 5,
     "metadata": {},
     "output_type": "execute_result"
    }
   ],
   "source": [
    "nn.CrossEntropyLoss()(inputs, labels)"
   ]
  },
  {
   "cell_type": "markdown",
   "id": "southwest-homework",
   "metadata": {},
   "source": [
    "解释"
   ]
  },
  {
   "cell_type": "code",
   "execution_count": 6,
   "id": "collected-roberts",
   "metadata": {},
   "outputs": [
    {
     "data": {
      "text/plain": [
       "tensor([[0.1532, 0.3294, 0.1372, 0.1752, 0.2049],\n",
       "        [0.0764, 0.2076, 0.4415, 0.1333, 0.1412],\n",
       "        [0.0293, 0.1632, 0.2769, 0.4224, 0.1082]])"
      ]
     },
     "execution_count": 6,
     "metadata": {},
     "output_type": "execute_result"
    }
   ],
   "source": [
    "F.softmax(inputs, 1)"
   ]
  },
  {
   "cell_type": "code",
   "execution_count": 7,
   "id": "focal-theta",
   "metadata": {},
   "outputs": [
    {
     "data": {
      "text/plain": [
       "tensor(1.1104)"
      ]
     },
     "execution_count": 7,
     "metadata": {},
     "output_type": "execute_result"
    }
   ],
   "source": [
    "-torch.log(F.softmax(inputs, 1))[0,1]"
   ]
  },
  {
   "cell_type": "code",
   "execution_count": 8,
   "id": "offshore-provincial",
   "metadata": {},
   "outputs": [
    {
     "data": {
      "text/plain": [
       "tensor(1.1104)"
      ]
     },
     "execution_count": 8,
     "metadata": {},
     "output_type": "execute_result"
    }
   ],
   "source": [
    "F.nll_loss(F.log_softmax(inputs, 1), labels, reduction='none')[0]"
   ]
  },
  {
   "cell_type": "code",
   "execution_count": 9,
   "id": "excited-personality",
   "metadata": {},
   "outputs": [
    {
     "data": {
      "text/plain": [
       "tensor([1.1104, 2.5718, 1.8125])"
      ]
     },
     "execution_count": 9,
     "metadata": {},
     "output_type": "execute_result"
    }
   ],
   "source": [
    "F.nll_loss(F.log_softmax(inputs, 1), labels, reduction='none')"
   ]
  },
  {
   "cell_type": "code",
   "execution_count": 10,
   "id": "standing-oxide",
   "metadata": {},
   "outputs": [
    {
     "data": {
      "text/plain": [
       "tensor(1.8316)"
      ]
     },
     "execution_count": 10,
     "metadata": {},
     "output_type": "execute_result"
    }
   ],
   "source": [
    "F.nll_loss(F.log_softmax(inputs, 1), labels)"
   ]
  },
  {
   "cell_type": "markdown",
   "id": "silver-fabric",
   "metadata": {},
   "source": [
    "* `softmax` 转换成概率分布\n",
    "* `log` 概率分布转化成信息量\n",
    "* `negative log likelyhood` 损失"
   ]
  },
  {
   "cell_type": "markdown",
   "id": "presidential-cassette",
   "metadata": {},
   "source": [
    "> 自信息$I(x) = -\\log p(x)$"
   ]
  },
  {
   "cell_type": "markdown",
   "id": "caring-valley",
   "metadata": {},
   "source": [
    "## `nn.BCELoss`"
   ]
  },
  {
   "cell_type": "markdown",
   "id": "attractive-hypothetical",
   "metadata": {},
   "source": [
    "$$Loss = y_n \\cdot \\log (x_n) + (1 - y_n) \\cdot \\log(1-x_n)$$"
   ]
  },
  {
   "cell_type": "code",
   "execution_count": 11,
   "id": "hindu-chuck",
   "metadata": {},
   "outputs": [],
   "source": [
    "inputs = torch.randn(3)\n",
    "labels = torch.empty(3).random_(2)"
   ]
  },
  {
   "cell_type": "code",
   "execution_count": 12,
   "id": "upper-modem",
   "metadata": {},
   "outputs": [
    {
     "data": {
      "text/plain": [
       "(tensor([0.2211, 0.8756, 2.4896]), tensor([0., 0., 0.]))"
      ]
     },
     "execution_count": 12,
     "metadata": {},
     "output_type": "execute_result"
    }
   ],
   "source": [
    "inputs, labels"
   ]
  },
  {
   "cell_type": "code",
   "execution_count": 13,
   "id": "tender-president",
   "metadata": {},
   "outputs": [
    {
     "data": {
      "text/plain": [
       "tensor([0.8098, 1.2238, 2.5693])"
      ]
     },
     "execution_count": 13,
     "metadata": {},
     "output_type": "execute_result"
    }
   ],
   "source": [
    "nn.BCELoss(reduction='none')(torch.sigmoid(inputs), labels)"
   ]
  },
  {
   "cell_type": "code",
   "execution_count": 14,
   "id": "equipped-steam",
   "metadata": {},
   "outputs": [
    {
     "data": {
      "text/plain": [
       "tensor(1.5343)"
      ]
     },
     "execution_count": 14,
     "metadata": {},
     "output_type": "execute_result"
    }
   ],
   "source": [
    "nn.BCELoss()(torch.sigmoid(inputs), labels)"
   ]
  },
  {
   "cell_type": "markdown",
   "id": "framed-ballet",
   "metadata": {},
   "source": [
    "解释"
   ]
  },
  {
   "cell_type": "code",
   "execution_count": 15,
   "id": "supreme-processor",
   "metadata": {},
   "outputs": [
    {
     "data": {
      "text/plain": [
       "tensor([0.5551, 0.7059, 0.9234])"
      ]
     },
     "execution_count": 15,
     "metadata": {},
     "output_type": "execute_result"
    }
   ],
   "source": [
    "torch.sigmoid(inputs)"
   ]
  },
  {
   "cell_type": "code",
   "execution_count": 16,
   "id": "british-zoning",
   "metadata": {},
   "outputs": [
    {
     "data": {
      "text/plain": [
       "tensor([0.5887, 0.3483, 0.0797])"
      ]
     },
     "execution_count": 16,
     "metadata": {},
     "output_type": "execute_result"
    }
   ],
   "source": [
    "-torch.log(torch.sigmoid(inputs))"
   ]
  },
  {
   "cell_type": "code",
   "execution_count": 17,
   "id": "faced-percentage",
   "metadata": {},
   "outputs": [
    {
     "data": {
      "text/plain": [
       "tensor([0.8098, 1.2238, 2.5693])"
      ]
     },
     "execution_count": 17,
     "metadata": {},
     "output_type": "execute_result"
    }
   ],
   "source": [
    "-torch.log(torch.ones_like(inputs) - torch.sigmoid(inputs))"
   ]
  },
  {
   "cell_type": "code",
   "execution_count": 18,
   "id": "quiet-individual",
   "metadata": {},
   "outputs": [
    {
     "data": {
      "text/plain": [
       "tensor([0.8098, 1.2238, 2.5693])"
      ]
     },
     "execution_count": 18,
     "metadata": {},
     "output_type": "execute_result"
    }
   ],
   "source": [
    "F.binary_cross_entropy(torch.sigmoid(inputs), labels, reduction='none')"
   ]
  },
  {
   "cell_type": "markdown",
   "id": "sitting-spray",
   "metadata": {},
   "source": [
    "## `nn.BCEWithLogitsLoss`"
   ]
  },
  {
   "cell_type": "code",
   "execution_count": 19,
   "id": "moral-voltage",
   "metadata": {},
   "outputs": [],
   "source": [
    "inputs = torch.randn(3)\n",
    "labels = torch.empty(3).random_(2)"
   ]
  },
  {
   "cell_type": "code",
   "execution_count": 20,
   "id": "attractive-representation",
   "metadata": {},
   "outputs": [
    {
     "data": {
      "text/plain": [
       "(tensor([ 0.5454,  0.9473, -0.5845]), tensor([1., 0., 0.]))"
      ]
     },
     "execution_count": 20,
     "metadata": {},
     "output_type": "execute_result"
    }
   ],
   "source": [
    "inputs, labels"
   ]
  },
  {
   "cell_type": "code",
   "execution_count": 21,
   "id": "frank-passing",
   "metadata": {},
   "outputs": [
    {
     "data": {
      "text/plain": [
       "tensor([0.4572, 1.2750, 0.4430])"
      ]
     },
     "execution_count": 21,
     "metadata": {},
     "output_type": "execute_result"
    }
   ],
   "source": [
    "nn.BCEWithLogitsLoss(reduction='none')(inputs, labels)"
   ]
  },
  {
   "cell_type": "code",
   "execution_count": 22,
   "id": "impressive-compression",
   "metadata": {},
   "outputs": [
    {
     "data": {
      "text/plain": [
       "tensor(0.7251)"
      ]
     },
     "execution_count": 22,
     "metadata": {},
     "output_type": "execute_result"
    }
   ],
   "source": [
    "nn.BCEWithLogitsLoss()(inputs, labels)"
   ]
  },
  {
   "cell_type": "code",
   "execution_count": 23,
   "id": "forty-progressive",
   "metadata": {},
   "outputs": [
    {
     "data": {
      "text/plain": [
       "tensor(0.7251)"
      ]
     },
     "execution_count": 23,
     "metadata": {},
     "output_type": "execute_result"
    }
   ],
   "source": [
    "nn.BCEWithLogitsLoss(reduction='sum')(inputs,labels) / labels.shape[0]"
   ]
  }
 ],
 "metadata": {
  "kernelspec": {
   "display_name": "Python 3",
   "language": "python",
   "name": "python3"
  },
  "language_info": {
   "codemirror_mode": {
    "name": "ipython",
    "version": 3
   },
   "file_extension": ".py",
   "mimetype": "text/x-python",
   "name": "python",
   "nbconvert_exporter": "python",
   "pygments_lexer": "ipython3",
   "version": "3.7.9"
  },
  "toc": {
   "base_numbering": 1,
   "nav_menu": {},
   "number_sections": true,
   "sideBar": true,
   "skip_h1_title": false,
   "title_cell": "Table of Contents",
   "title_sidebar": "Contents",
   "toc_cell": false,
   "toc_position": {},
   "toc_section_display": true,
   "toc_window_display": false
  },
  "varInspector": {
   "cols": {
    "lenName": 16,
    "lenType": 16,
    "lenVar": 40
   },
   "kernels_config": {
    "python": {
     "delete_cmd_postfix": "",
     "delete_cmd_prefix": "del ",
     "library": "var_list.py",
     "varRefreshCmd": "print(var_dic_list())"
    },
    "r": {
     "delete_cmd_postfix": ") ",
     "delete_cmd_prefix": "rm(",
     "library": "var_list.r",
     "varRefreshCmd": "cat(var_dic_list()) "
    }
   },
   "types_to_exclude": [
    "module",
    "function",
    "builtin_function_or_method",
    "instance",
    "_Feature"
   ],
   "window_display": false
  }
 },
 "nbformat": 4,
 "nbformat_minor": 5
}
