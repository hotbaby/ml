{
 "cells": [
  {
   "cell_type": "markdown",
   "metadata": {},
   "source": [
    "# Machine Learning Project Checklist"
   ]
  },
  {
   "cell_type": "markdown",
   "metadata": {},
   "source": [
    "This checklist can guide you through your Machine Learning projects. There are eight main steps:\n",
    "\n",
    "1. Frame the problem and look at the big picture\n",
    "2. Get the data\n",
    "3. Explore the data to gain insights\n",
    "4. Prepare the data to better expose the underlying data pattens to Machine Learning Algorithms.\n",
    "5. Expore many different models and short-list the best\n",
    "6. Fine-tune your models and combine them to great solution\n",
    "7. Present your solution\n",
    "8. Launch, monitor, and maintain your system"
   ]
  },
  {
   "cell_type": "markdown",
   "metadata": {},
   "source": [
    "## Frame the Problem and Look at the Big Picture"
   ]
  },
  {
   "cell_type": "markdown",
   "metadata": {},
   "source": [
    "1. Define the ojective in business terms.\n",
    "2. How will your solution be used?\n",
    "3. What are the current solution/workarounds?\n",
    "4. How should you frame this problem(supervised/unsupervised, online/offline, etc)?\n",
    "5. How should perfomance should be measured?\n",
    "6. Is the performance measure aligned with the business objective?\n",
    "7. What would be the minimum performance needed to reach the business objective?\n",
    "8. What are comparable problems? Can you reuse experiences or tools?\n",
    "9. Is human expertise avaiable?\n",
    "10. How would you solve the problem manually?\n",
    "11. List the assumptions you have made so far.\n",
    "12. Verify assumptions if possible."
   ]
  },
  {
   "cell_type": "markdown",
   "metadata": {},
   "source": [
    "## Get the Data"
   ]
  },
  {
   "cell_type": "markdown",
   "metadata": {},
   "source": [
    "> Note: automate as much as possible so you can easily get fresh data."
   ]
  },
  {
   "cell_type": "markdown",
   "metadata": {},
   "source": [
    "1. List the data you need and how much you need\n",
    "2. Find and document where you can get the data\n",
    "3. Check how much space it will take\n",
    "4. Check legal obigations, and get authorization if necessary\n",
    "5. Get access authorizations\n",
    "6. Create a workspace(with enough storage space)\n",
    "7. Get the data\n",
    "8. Convert the data to a format you can easily manipulate(without changing the data itself)\n",
    "9. Ensure sensitive information is deleted or protected\n",
    "10. Check the size and type of data(time series, sample, geographical, etc.)\n",
    "11. Sample a test set, put is aside, and never look at it(no data snooping)"
   ]
  },
  {
   "cell_type": "markdown",
   "metadata": {},
   "source": [
    "## Explore the Data"
   ]
  },
  {
   "cell_type": "markdown",
   "metadata": {},
   "source": [
    "> Note: try to get insights from a field expert for these steps"
   ]
  },
  {
   "cell_type": "markdown",
   "metadata": {},
   "source": [
    "1. Create a copy of the data for exploration\n",
    "2. Create a Jupyter notebook to keep a record of you data exploration\n",
    "3. Study each attribute and its characteristcis:\n",
    "    * Name\n",
    "    * Type(categorical, int/float, bounded/unbounded, text, structed, etc.)\n",
    "    * % of missing values\n",
    "    * Noiseness and type of noise(stochastic, outlies, rounding errors, etc)\n",
    "    * Possibly useful for the task?\n",
    "    * Type of distribution(Guassain, uniform, logarithmic, etc)\n",
    "4. For supervised learning tasks, identify the target attributes\n",
    "5. Visualize the data\n",
    "6. Study the correlations between attributes\n",
    "7. Study how you would solve the problem manually\n",
    "8. Identify the promissing transformations you may want to apply\n",
    "9. Idnetify extra data that would be useful\n",
    "10. Document what you have learnd"
   ]
  },
  {
   "cell_type": "markdown",
   "metadata": {},
   "source": [
    "## Prepare the Data"
   ]
  },
  {
   "cell_type": "markdown",
   "metadata": {},
   "source": [
    "Notes:\n",
    "\n",
    "* **Work on copies of the data (keep the original dataset intact)**\n",
    "* **Write functions for all data transfromations you apply**, for five reasons:\n",
    "    * So you can easily prepare the data the next time you get a fresh dataset\n",
    "    * So you can apply these transformations in future projects\n",
    "    * To clean and prepare the test set\n",
    "    * To clean and prepare new data instances once you solution is live\n",
    "    * To make ti easy to treat your preparation choices as hyperparameters"
   ]
  },
  {
   "cell_type": "markdown",
   "metadata": {},
   "source": [
    "1. Data cleaning:\n",
    "    * Fix or remove outlies\n",
    "    * Fill in missing values or drop their rows(or columns)\n",
    "2. Feature selection(optional)\n",
    "    * Drop the attributes that provide no useful information for the task\n",
    "3. Feature engineering, where appropriate:\n",
    "    * Discretize continous features\n",
    "    * Decompose features(e.g., categorical, date/time, etc.)\n",
    "    * Add promissing transformations of features\n",
    "    * Aggregate features into promissing new features\n",
    "4. Feature scaling: standardize or normalize features"
   ]
  },
  {
   "cell_type": "markdown",
   "metadata": {},
   "source": [
    "## Short-List Promising Models"
   ]
  },
  {
   "cell_type": "markdown",
   "metadata": {},
   "source": [
    "Notes:\n",
    "\n",
    "* If the data is huge, you may want to sample smaller training sets so you can traini many different models in a reasonable time(be aware that this penalizes complex model such as large neural nets or Random Forests)\n",
    "* Once again, try to automate these steps as much as possible\n"
   ]
  },
  {
   "cell_type": "markdown",
   "metadata": {},
   "source": [
    "1. Train many quick and dirty models from different categories(e.g., linear, naive Bayes, SVM, Random Forests, neural nets, etc.) using standard parameters\n",
    "2. Measure and compare theire performance\n",
    "    * For each model, use N-fold cross-validation and compute the mean and standard dervation of the performance measure on the N folds\n",
    "3. Analyze the most significatn varaibles for each algorithm\n",
    "4. Analyze the types of errors the module take.\n",
    "    * What data would a human have used to avoid these errors?\n",
    "5. Have a quick round of feature selections and enginerring\n",
    "6. Have one or two more quick iterations of the five previous steps\n",
    "7. Short-list the top three to five most promissing models, preferring models that make different types of errors."
   ]
  },
  {
   "cell_type": "markdown",
   "metadata": {},
   "source": [
    "## Fine-Tune the System"
   ]
  },
  {
   "cell_type": "markdown",
   "metadata": {},
   "source": [
    "Notes:\n",
    "\n",
    "* You will want to use as much as possible for this step, especially as you move toward the end of fine-tuning\n",
    "* As always automate what you can"
   ]
  },
  {
   "cell_type": "markdown",
   "metadata": {},
   "source": [
    "1. Fine-tune the hypterparameters using cross-validataion\n",
    "    * Treat you data transformation choices as hyperparameters, especially when you are not sure about them(e.g., should I replace missing values with zero or with the median value? or Just drop the rows?)\n",
    "    * Unless there are evey few hyperparameter values to explore, prefer random search over grid search. If training is very long, you may prefere a Bayesian optimization approach(e.g., using Gaussian process priors)\n",
    "2. Try Ensemble methods, Combining you best models will often perform better than running them individually\n",
    "3. Once you are confident about you final model, measure its performance on the test set estimate the generalization error."
   ]
  },
  {
   "cell_type": "markdown",
   "metadata": {},
   "source": [
    "> Don't tweak you model after measuring the generalization error: you would just start overfitting the test set."
   ]
  },
  {
   "cell_type": "markdown",
   "metadata": {},
   "source": [
    "## Present Your Solution"
   ]
  },
  {
   "cell_type": "markdown",
   "metadata": {},
   "source": [
    "1. Document what you have done\n",
    "2. Create a nice presentation\n",
    "    * Make sure you highlight the big picture first\n",
    "3. Explain why you solution achieves the business objective\n",
    "4. Don't forget to present interesting points you noticed along the way:\n",
    "    * Decribe what worked and what did not\n",
    "    * List your assumptions and your system's limitations\n",
    "5. Ensure your key findings are communicated through beautiful visualization or easy-to-remember statements(e.g., \"the median income is the number-one predictor of housing prices\")"
   ]
  },
  {
   "cell_type": "markdown",
   "metadata": {},
   "source": [
    "## Luanch!"
   ]
  },
  {
   "cell_type": "markdown",
   "metadata": {},
   "source": [
    "1. Get your solution ready for production\n",
    "2. Write monitoring code to check your system's live performance at regular intervals and trigger alerts when ti drops.\n",
    "    * Beware of slow degradation too: models tend to \"rot\" as data evolves\n",
    "    * Measuring performance may require a human pipeline\n",
    "    * Also monitor your inputs' quality. This is particularly important for online learning systems.\n",
    "3. Retrain your models on a regualr basis on fresh data(automate as much as possible)"
   ]
  },
  {
   "cell_type": "markdown",
   "metadata": {},
   "source": [
    "\n",
    "## References\n",
    "\n",
    "* *Hands-On Machine Learning with Scikit-Learn & Tensorflow*"
   ]
  }
 ],
 "metadata": {
  "kernelspec": {
   "display_name": "Python 3",
   "language": "python",
   "name": "python3"
  },
  "language_info": {
   "codemirror_mode": {
    "name": "ipython",
    "version": 3
   },
   "file_extension": ".py",
   "mimetype": "text/x-python",
   "name": "python",
   "nbconvert_exporter": "python",
   "pygments_lexer": "ipython3",
   "version": "3.7.3"
  },
  "toc": {
   "base_numbering": 1,
   "nav_menu": {},
   "number_sections": true,
   "sideBar": true,
   "skip_h1_title": false,
   "title_cell": "Table of Contents",
   "title_sidebar": "Contents",
   "toc_cell": false,
   "toc_position": {},
   "toc_section_display": true,
   "toc_window_display": true
  }
 },
 "nbformat": 4,
 "nbformat_minor": 4
}
