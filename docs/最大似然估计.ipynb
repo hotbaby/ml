{
 "cells": [
  {
   "cell_type": "markdown",
   "metadata": {},
   "source": [
    "**最大似然估计**"
   ]
  },
  {
   "cell_type": "markdown",
   "metadata": {},
   "source": [
    "* *概率导论*\n",
    "* *深度学习*\n",
    "* *https://github.com/NLP-LOVE/ML-NLP/tree/master/Machine%20Learning/6.%20EM*"
   ]
  },
  {
   "cell_type": "markdown",
   "metadata": {},
   "source": [
    "*深度学习 5.5最大似然估计*"
   ]
  },
  {
   "cell_type": "markdown",
   "metadata": {},
   "source": [
    "设观测向量$X = (X_1, ..., X_n)$的联合分布列为$p_X(x;\\theta) = p_X(x_1, ...,  x_n; \\theta)$，其中$x=(x_1, ..., x_n)$为X的观测值。那么，最大似然估计是使($\\theta$的)数值函数$p_X(x_1, ..., x_n;\\theta)$达到最大的参数值\n",
    "\n",
    "$$\\hat{\\theta_n} = \\arg\\max \\limits_{\\theta} p_X(x_1, ..., x_n;\\theta)$$\n",
    "\n",
    "当X为连续随机变脸时，可将同样的方法用于联合概率密度函数$f_X(x;\\theta)$即：\n",
    "\n",
    "$$\\hat{\\theta_n} =\\arg\\max \\limits_{\\theta} f_X(x_1, ..., x_n; \\theta)$$"
   ]
  },
  {
   "cell_type": "markdown",
   "metadata": {},
   "source": [
    "似然函数的形式为：\n",
    "\n",
    "$$p_X(x_1, ..., x_n;\\theta) = \\prod \\limits_{i} p_X(x_i;\\theta)$$"
   ]
  },
  {
   "cell_type": "markdown",
   "metadata": {},
   "source": [
    "多个概率的乘积会因很多原因不便于计算。例如：计算中很可能出现数值的下溢。为了得到一个便于计算的等价优化问题，可以通过取对数将乘积转化成便于计算的求和形式：\n",
    "\n",
    "$$\\ln p_X(x_1, ..., x_n; \\theta) = \\ln \\prod \\limits_{i} p_X(x_i;\\theta) = \\sum \\limits_{i} \\ln p_X(x_i, \\theta)$$\n",
    "\n",
    "当X为连续变量是，表达式为：\n",
    "\n",
    "$$\\ln f_X(x_1, ..., x_n; \\theta) = \\ln \\prod \\limits_{i} f_X(x_i;\\theta) = \\sum \\limits_{i} \\ln f_X(x_i, \\theta)$$\n"
   ]
  },
  {
   "cell_type": "markdown",
   "metadata": {},
   "source": [
    "求解极大似然估计的步骤：\n",
    "\n",
    "1. 写出似然函数\n",
    "2. 似然函数取对数\n",
    "3. 求导，导数为0，得到似然方程\n",
    "4. 解似然方程，得到的参数即为所求"
   ]
  }
 ],
 "metadata": {
  "kernelspec": {
   "display_name": "Python 3",
   "language": "python",
   "name": "python3"
  },
  "language_info": {
   "codemirror_mode": {
    "name": "ipython",
    "version": 3
   },
   "file_extension": ".py",
   "mimetype": "text/x-python",
   "name": "python",
   "nbconvert_exporter": "python",
   "pygments_lexer": "ipython3",
   "version": "3.7.6"
  },
  "toc": {
   "base_numbering": 1,
   "nav_menu": {},
   "number_sections": true,
   "sideBar": true,
   "skip_h1_title": false,
   "title_cell": "Table of Contents",
   "title_sidebar": "Contents",
   "toc_cell": false,
   "toc_position": {},
   "toc_section_display": true,
   "toc_window_display": false
  }
 },
 "nbformat": 4,
 "nbformat_minor": 4
}
