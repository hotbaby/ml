{
 "cells": [
  {
   "cell_type": "markdown",
   "id": "amateur-cornell",
   "metadata": {},
   "source": [
    "# 理解PyTorch Tensor"
   ]
  },
  {
   "cell_type": "code",
   "execution_count": 1,
   "id": "reverse-toner",
   "metadata": {},
   "outputs": [],
   "source": [
    "import torch"
   ]
  },
  {
   "cell_type": "code",
   "execution_count": 2,
   "id": "amateur-wales",
   "metadata": {},
   "outputs": [],
   "source": [
    "t = torch.tensor([[1, 2, 3], [4, 5, 6]])\n",
    "t = t.expand(3, 2, 3)"
   ]
  },
  {
   "cell_type": "code",
   "execution_count": 3,
   "id": "facial-corner",
   "metadata": {},
   "outputs": [
    {
     "data": {
      "text/plain": [
       "tensor([[[1, 2, 3],\n",
       "         [4, 5, 6]],\n",
       "\n",
       "        [[1, 2, 3],\n",
       "         [4, 5, 6]],\n",
       "\n",
       "        [[1, 2, 3],\n",
       "         [4, 5, 6]]])"
      ]
     },
     "execution_count": 3,
     "metadata": {},
     "output_type": "execute_result"
    }
   ],
   "source": [
    "t"
   ]
  },
  {
   "cell_type": "code",
   "execution_count": 4,
   "id": "exclusive-comfort",
   "metadata": {},
   "outputs": [
    {
     "data": {
      "text/plain": [
       "torch.Size([3, 2, 3])"
      ]
     },
     "execution_count": 4,
     "metadata": {},
     "output_type": "execute_result"
    }
   ],
   "source": [
    "t.shape"
   ]
  },
  {
   "cell_type": "markdown",
   "id": "indirect-yield",
   "metadata": {},
   "source": [
    "第0维度"
   ]
  },
  {
   "cell_type": "code",
   "execution_count": 5,
   "id": "objective-berry",
   "metadata": {},
   "outputs": [
    {
     "data": {
      "text/plain": [
       "tensor([[ 3,  6,  9],\n",
       "        [12, 15, 18]])"
      ]
     },
     "execution_count": 5,
     "metadata": {},
     "output_type": "execute_result"
    }
   ],
   "source": [
    "t.sum(0)"
   ]
  },
  {
   "cell_type": "markdown",
   "id": "electrical-running",
   "metadata": {},
   "source": [
    "<img src=\"https://img.mathpretty.com/20200409_022930_ixomgr1.gif\" width=\"200\" height=\"200\" align=\"center\">"
   ]
  },
  {
   "cell_type": "markdown",
   "id": "alleged-neighbor",
   "metadata": {},
   "source": [
    "第1维度"
   ]
  },
  {
   "cell_type": "code",
   "execution_count": 6,
   "id": "rural-links",
   "metadata": {},
   "outputs": [
    {
     "data": {
      "text/plain": [
       "tensor([[5, 7, 9],\n",
       "        [5, 7, 9],\n",
       "        [5, 7, 9]])"
      ]
     },
     "execution_count": 6,
     "metadata": {},
     "output_type": "execute_result"
    }
   ],
   "source": [
    "t.sum(1)"
   ]
  },
  {
   "cell_type": "markdown",
   "id": "ordinary-parking",
   "metadata": {},
   "source": [
    "<img src=\"https://img.mathpretty.com/20200409_023117_qb6rrtg.gif\" width=\"200\" height=\"200\" align=\"center\">"
   ]
  },
  {
   "cell_type": "markdown",
   "id": "familiar-decrease",
   "metadata": {},
   "source": [
    "第2维度"
   ]
  },
  {
   "cell_type": "code",
   "execution_count": 7,
   "id": "satellite-ladder",
   "metadata": {},
   "outputs": [
    {
     "data": {
      "text/plain": [
       "tensor([[ 6, 15],\n",
       "        [ 6, 15],\n",
       "        [ 6, 15]])"
      ]
     },
     "execution_count": 7,
     "metadata": {},
     "output_type": "execute_result"
    }
   ],
   "source": [
    "t.sum(2)"
   ]
  },
  {
   "cell_type": "markdown",
   "id": "short-venture",
   "metadata": {},
   "source": [
    " <img src=\"https://img.mathpretty.com/20200409_023243_usk595h.gif\" width = \"200\" height = \"200\" align=center />"
   ]
  },
  {
   "cell_type": "markdown",
   "id": "previous-surname",
   "metadata": {},
   "source": [
    "## 参考文献"
   ]
  },
  {
   "cell_type": "markdown",
   "id": "further-representative",
   "metadata": {},
   "source": [
    "* *https://towardsdatascience.com/understanding-dimensions-in-pytorch-6edf9972d3be*\n",
    "* *https://mathpretty.com/12065.html*"
   ]
  }
 ],
 "metadata": {
  "kernelspec": {
   "display_name": "Python 3",
   "language": "python",
   "name": "python3"
  },
  "language_info": {
   "codemirror_mode": {
    "name": "ipython",
    "version": 3
   },
   "file_extension": ".py",
   "mimetype": "text/x-python",
   "name": "python",
   "nbconvert_exporter": "python",
   "pygments_lexer": "ipython3",
   "version": "3.7.9"
  },
  "toc": {
   "base_numbering": 1,
   "nav_menu": {},
   "number_sections": true,
   "sideBar": true,
   "skip_h1_title": false,
   "title_cell": "Table of Contents",
   "title_sidebar": "Contents",
   "toc_cell": false,
   "toc_position": {},
   "toc_section_display": true,
   "toc_window_display": true
  },
  "varInspector": {
   "cols": {
    "lenName": 16,
    "lenType": 16,
    "lenVar": 40
   },
   "kernels_config": {
    "python": {
     "delete_cmd_postfix": "",
     "delete_cmd_prefix": "del ",
     "library": "var_list.py",
     "varRefreshCmd": "print(var_dic_list())"
    },
    "r": {
     "delete_cmd_postfix": ") ",
     "delete_cmd_prefix": "rm(",
     "library": "var_list.r",
     "varRefreshCmd": "cat(var_dic_list()) "
    }
   },
   "types_to_exclude": [
    "module",
    "function",
    "builtin_function_or_method",
    "instance",
    "_Feature"
   ],
   "window_display": false
  }
 },
 "nbformat": 4,
 "nbformat_minor": 5
}
