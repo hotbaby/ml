{
 "cells": [
  {
   "cell_type": "markdown",
   "id": "listed-recipient",
   "metadata": {},
   "source": [
    "# Language Model"
   ]
  },
  {
   "cell_type": "code",
   "execution_count": 1,
   "id": "affiliated-uncle",
   "metadata": {},
   "outputs": [],
   "source": [
    "import torch\n",
    "from transformers import BertTokenizer, BertForMaskedLM"
   ]
  },
  {
   "cell_type": "code",
   "execution_count": 2,
   "id": "hydraulic-confidence",
   "metadata": {},
   "outputs": [],
   "source": [
    "model_name = 'nghuyong/ernie-1.0'"
   ]
  },
  {
   "cell_type": "code",
   "execution_count": 3,
   "id": "insured-appliance",
   "metadata": {},
   "outputs": [],
   "source": [
    "tokenizer = BertTokenizer.from_pretrained(model_name)\n",
    "model = BertForMaskedLM.from_pretrained(model_name)"
   ]
  },
  {
   "cell_type": "code",
   "execution_count": 4,
   "id": "beneficial-contractor",
   "metadata": {},
   "outputs": [],
   "source": [
    "device = torch.device('cuda' if torch.cuda.is_available() else 'cpu')\n",
    "model.to(device)\n",
    "pass"
   ]
  },
  {
   "cell_type": "code",
   "execution_count": 5,
   "id": "thrown-vancouver",
   "metadata": {},
   "outputs": [],
   "source": [
    "def language_model(input_text):\n",
    "    input_tokens = tokenizer.tokenize(input_text)\n",
    "    input_ids = tokenizer.convert_tokens_to_ids(input_tokens)\n",
    "    input_ids = torch.tensor([input_ids], device=device)\n",
    "    token_type_ids = torch.zeros_like(input_ids, device=device)\n",
    "    \n",
    "    model.eval()\n",
    "    \n",
    "    with torch.no_grad():\n",
    "        outputs = model(input_ids=input_ids, token_type_ids=token_type_ids)\n",
    "        preds = outputs[0].squeeze()\n",
    "        pred_ids = torch.argmax(preds, dim=1)\n",
    "        pred_text = ''.join(tokenizer.convert_ids_to_tokens(pred_ids.squeeze()[1:-1]))\n",
    "        \n",
    "    return pred_text"
   ]
  },
  {
   "cell_type": "code",
   "execution_count": 6,
   "id": "ceramic-wells",
   "metadata": {},
   "outputs": [
    {
     "data": {
      "text/plain": [
       "'北京是中国的首都。'"
      ]
     },
     "execution_count": 6,
     "metadata": {},
     "output_type": "execute_result"
    }
   ],
   "source": [
    "language_model('[CLS] [MASK] [MASK] 是中国的首都。[SEP]')"
   ]
  },
  {
   "cell_type": "code",
   "execution_count": 7,
   "id": "searching-rapid",
   "metadata": {},
   "outputs": [
    {
     "data": {
      "text/plain": [
       "'华盛顿是美国的首都。'"
      ]
     },
     "execution_count": 7,
     "metadata": {},
     "output_type": "execute_result"
    }
   ],
   "source": [
    "language_model('[CLS] [MASK] [MASK] [MASK]是美国的首都。[SEP]')"
   ]
  },
  {
   "cell_type": "code",
   "execution_count": 8,
   "id": "designed-associate",
   "metadata": {},
   "outputs": [
    {
     "data": {
      "text/plain": [
       "'石定市是河北省的省会。'"
      ]
     },
     "execution_count": 8,
     "metadata": {},
     "output_type": "execute_result"
    }
   ],
   "source": [
    "language_model('[CLS] [MASK] [MASK] [MASK] 是河北省的省会。[SEP]')"
   ]
  },
  {
   "cell_type": "code",
   "execution_count": 9,
   "id": "relevant-reasoning",
   "metadata": {},
   "outputs": [
    {
     "data": {
      "text/plain": [
       "'华为是中国最伟大的企业之一。'"
      ]
     },
     "execution_count": 9,
     "metadata": {},
     "output_type": "execute_result"
    }
   ],
   "source": [
    "language_model(\"[CLS] [MASK] [MASK] 是中国最伟大的企业之一。[SEP]\")"
   ]
  },
  {
   "cell_type": "code",
   "execution_count": 10,
   "id": "other-guitar",
   "metadata": {},
   "outputs": [
    {
     "data": {
      "text/plain": [
       "'苹果是美国最伟大的企业之一。'"
      ]
     },
     "execution_count": 10,
     "metadata": {},
     "output_type": "execute_result"
    }
   ],
   "source": [
    "language_model(\"[CLS] [MASK] [MASK]是美国最伟大的企业之一。[SEP]\")"
   ]
  }
 ],
 "metadata": {
  "kernelspec": {
   "display_name": "Python 3",
   "language": "python",
   "name": "python3"
  },
  "language_info": {
   "codemirror_mode": {
    "name": "ipython",
    "version": 3
   },
   "file_extension": ".py",
   "mimetype": "text/x-python",
   "name": "python",
   "nbconvert_exporter": "python",
   "pygments_lexer": "ipython3",
   "version": "3.7.9"
  },
  "toc": {
   "base_numbering": 1,
   "nav_menu": {},
   "number_sections": true,
   "sideBar": true,
   "skip_h1_title": false,
   "title_cell": "Table of Contents",
   "title_sidebar": "Contents",
   "toc_cell": false,
   "toc_position": {},
   "toc_section_display": true,
   "toc_window_display": false
  },
  "varInspector": {
   "cols": {
    "lenName": 16,
    "lenType": 16,
    "lenVar": 40
   },
   "kernels_config": {
    "python": {
     "delete_cmd_postfix": "",
     "delete_cmd_prefix": "del ",
     "library": "var_list.py",
     "varRefreshCmd": "print(var_dic_list())"
    },
    "r": {
     "delete_cmd_postfix": ") ",
     "delete_cmd_prefix": "rm(",
     "library": "var_list.r",
     "varRefreshCmd": "cat(var_dic_list()) "
    }
   },
   "types_to_exclude": [
    "module",
    "function",
    "builtin_function_or_method",
    "instance",
    "_Feature"
   ],
   "window_display": false
  }
 },
 "nbformat": 4,
 "nbformat_minor": 5
}
