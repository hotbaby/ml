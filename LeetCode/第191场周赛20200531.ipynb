{
 "cells": [
  {
   "cell_type": "markdown",
   "metadata": {},
   "source": [
    "# 第191场周赛"
   ]
  },
  {
   "cell_type": "code",
   "execution_count": 31,
   "metadata": {},
   "outputs": [],
   "source": [
    "class Solution:\n",
    "    def maxProduct(self, nums: list) -> int:\n",
    "        first = -1\n",
    "        second = -1\n",
    "\n",
    "        for num in nums:\n",
    "            if num > first:\n",
    "                second = first\n",
    "                first = num\n",
    "                continue\n",
    "                \n",
    "            if num > second:\n",
    "                second = num\n",
    "                continue\n",
    "\n",
    "        return (first - 1) * (second - 1)"
   ]
  },
  {
   "cell_type": "code",
   "execution_count": 32,
   "metadata": {},
   "outputs": [],
   "source": [
    "assert Solution().maxProduct([3,4,5,2]) == 12\n",
    "assert Solution().maxProduct([1,5,4,5]) == 16\n",
    "assert Solution().maxProduct([3,7]) == 12"
   ]
  },
  {
   "cell_type": "code",
   "execution_count": 92,
   "metadata": {},
   "outputs": [],
   "source": [
    "class Solution:\n",
    "    def maxArea(self, h: int, w: int, horizontalCuts: list, verticalCuts: list) -> int:\n",
    "        horizontal_list = []\n",
    "        horizontalCuts = sorted(horizontalCuts)\n",
    "        for i, cut in enumerate(horizontalCuts):\n",
    "            if i == 0:\n",
    "                horizontal_list.append(cut)\n",
    "                continue\n",
    "                \n",
    "            horizontal_list.append(horizontalCuts[i] - horizontalCuts[i-1])\n",
    "        else:\n",
    "            horizontal_list.append(h - horizontalCuts[-1])\n",
    "            \n",
    "\n",
    "        vertical_list = []\n",
    "        verticalCuts = sorted(verticalCuts)\n",
    "        for i, cut in enumerate(verticalCuts):\n",
    "            if i == 0:\n",
    "                vertical_list.append(cut)\n",
    "                continue\n",
    "                \n",
    "            vertical_list.append(verticalCuts[i] - verticalCuts[i-1])\n",
    "        else:\n",
    "            vertical_list.append(w - verticalCuts[-1])\n",
    "            \n",
    "        area = max(horizontal_list) * max(vertical_list)\n",
    "        return area % (10**9+7)"
   ]
  },
  {
   "cell_type": "code",
   "execution_count": 95,
   "metadata": {},
   "outputs": [],
   "source": [
    "assert Solution().maxArea(5, 4, [1,2,4], [1,3]) == 4\n",
    "assert Solution().maxArea(5, 4, [3, 1], [1]) == 6\n",
    "assert Solution().maxArea(5, 4, [3], [3]) == 9\n",
    "assert Solution().maxArea(50, 15, [37,40,41,30,27,10,31], [2,1,9,5,4,12,6,13,11]) == 51"
   ]
  },
  {
   "cell_type": "code",
   "execution_count": 148,
   "metadata": {},
   "outputs": [],
   "source": [
    "class Solution:\n",
    "    def minReorder(self, n: int, connections: list) -> int:\n",
    "        connection_dict = {}\n",
    "        pair_dict = {}\n",
    "        source_dict = {}\n",
    "        dest_dict = {}\n",
    "        for conn in connections:\n",
    "            pair_dict[tuple(conn)] = True\n",
    "            \n",
    "            if conn [0] in source_dict:\n",
    "                source_dict[conn[0]].append(conn[1])\n",
    "            else:\n",
    "                source_dict[conn[0]] = [conn[1]]\n",
    "                \n",
    "            if conn[1] in dest_dict:\n",
    "                dest_dict[conn[1]].append(conn[0])\n",
    "            else:\n",
    "                dest_dict[conn[1]] = [conn[0]]\n",
    "\n",
    "            if conn[1] in connection_dict:\n",
    "                connection_dict[conn[1]].append(conn[0])\n",
    "            else:\n",
    "                connection_dict[conn[1]] = [conn[0]]\n",
    "\n",
    "        change_num = 0\n",
    "        change_path_queue = []\n",
    "\n",
    "        for city in connection_dict[0]:\n",
    "            change_path_queue.append(city)\n",
    "\n",
    "        print(connection_dict)\n",
    "        while change_path_queue:\n",
    "            city = change_path_queue.pop(0)\n",
    "            if city in connection_dict:\n",
    "                for city in connection_dict[city]:\n",
    "                    change_path_queue.append(city)\n",
    "                    change_num += 1\n",
    "            \n",
    "        return change_num"
   ]
  },
  {
   "cell_type": "code",
   "execution_count": 151,
   "metadata": {},
   "outputs": [],
   "source": [
    "import collections"
   ]
  },
  {
   "cell_type": "code",
   "execution_count": 167,
   "metadata": {},
   "outputs": [],
   "source": [
    "class Solution:\n",
    "    def minReorder(self, n: int, connections: list) -> int:\n",
    "        conn_dict = collections.defaultdict(lambda: [])\n",
    "        pair_dict = collections.defaultdict(lambda: [])\n",
    "        source_dict = collections.defaultdict(lambda: [])\n",
    "        dest_dict = collections.defaultdict(lambda: [])\n",
    "\n",
    "        for conn in connections:\n",
    "            pair_dict[tuple(conn)] = True\n",
    "            source_dict[conn[0]].append(conn[1])\n",
    "            dest_dict[conn[1]].append(conn[0])\n",
    "            conn_dict[conn[0]].append(conn[1])\n",
    "            conn_dict[conn[1]].append(conn[0])\n",
    "\n",
    "        print(dict(conn_dict), dict(source_dict), dict(dest_dict))\n",
    "        change_num = 0\n",
    "        q = []\n",
    "\n",
    "        for city in conn_dict[0]:\n",
    "            if (0, city) in source_dict:\n",
    "                q.append((city, False))\n",
    "                pair_dict[(0, city)] = False\n",
    "                change_num += 1\n",
    "            else:\n",
    "                q.append((city, True))\n",
    "                pair_dict[(city, 0)] = False\n",
    "\n",
    "        while q:\n",
    "            city, direction = q.pop(0)\n",
    "\n",
    "            for conn_city in conn_dict[city]:\n",
    "                if not pair_dict[(city, conn_city)] and not pair_dict[(conn_city, city)]:\n",
    "                    continue\n",
    "\n",
    "                if direction:\n",
    "                    if (conn_city, city) in source_dict:\n",
    "                        q.append((conn_city, True))\n",
    "                    else:\n",
    "                        q.append((conn_city, False))\n",
    "                        change_num += 1\n",
    "                else:\n",
    "                    if (conn_city, city) in source_dict:\n",
    "                        q.append((conn_city, False))\n",
    "                        change_num += 1\n",
    "                    else:\n",
    "                        q.append((conn_city, True))\n",
    "\n",
    "        return change_num"
   ]
  },
  {
   "cell_type": "code",
   "execution_count": 138,
   "metadata": {},
   "outputs": [
    {
     "ename": "AssertionError",
     "evalue": "",
     "output_type": "error",
     "traceback": [
      "\u001b[0;31m---------------------------------------------------------------------------\u001b[0m",
      "\u001b[0;31mAssertionError\u001b[0m                            Traceback (most recent call last)",
      "\u001b[0;32m<ipython-input-138-6fc01771bea6>\u001b[0m in \u001b[0;36m<module>\u001b[0;34m\u001b[0m\n\u001b[0;32m----> 1\u001b[0;31m \u001b[0;32massert\u001b[0m \u001b[0mSolution\u001b[0m\u001b[0;34m(\u001b[0m\u001b[0;34m)\u001b[0m\u001b[0;34m.\u001b[0m\u001b[0mminReorder\u001b[0m\u001b[0;34m(\u001b[0m\u001b[0;36m6\u001b[0m\u001b[0;34m,\u001b[0m \u001b[0;34m[\u001b[0m\u001b[0;34m[\u001b[0m\u001b[0;36m0\u001b[0m\u001b[0;34m,\u001b[0m\u001b[0;36m1\u001b[0m\u001b[0;34m]\u001b[0m\u001b[0;34m,\u001b[0m\u001b[0;34m[\u001b[0m\u001b[0;36m1\u001b[0m\u001b[0;34m,\u001b[0m\u001b[0;36m3\u001b[0m\u001b[0;34m]\u001b[0m\u001b[0;34m,\u001b[0m\u001b[0;34m[\u001b[0m\u001b[0;36m2\u001b[0m\u001b[0;34m,\u001b[0m\u001b[0;36m3\u001b[0m\u001b[0;34m]\u001b[0m\u001b[0;34m,\u001b[0m\u001b[0;34m[\u001b[0m\u001b[0;36m4\u001b[0m\u001b[0;34m,\u001b[0m\u001b[0;36m0\u001b[0m\u001b[0;34m]\u001b[0m\u001b[0;34m,\u001b[0m\u001b[0;34m[\u001b[0m\u001b[0;36m4\u001b[0m\u001b[0;34m,\u001b[0m\u001b[0;36m5\u001b[0m\u001b[0;34m]\u001b[0m\u001b[0;34m]\u001b[0m\u001b[0;34m)\u001b[0m \u001b[0;34m==\u001b[0m \u001b[0;36m3\u001b[0m\u001b[0;34m\u001b[0m\u001b[0;34m\u001b[0m\u001b[0m\n\u001b[0m\u001b[1;32m      2\u001b[0m \u001b[0mSolution\u001b[0m\u001b[0;34m(\u001b[0m\u001b[0;34m)\u001b[0m\u001b[0;34m.\u001b[0m\u001b[0mminReorder\u001b[0m\u001b[0;34m(\u001b[0m\u001b[0;36m5\u001b[0m\u001b[0;34m,\u001b[0m \u001b[0;34m[\u001b[0m\u001b[0;34m[\u001b[0m\u001b[0;36m1\u001b[0m\u001b[0;34m,\u001b[0m\u001b[0;36m0\u001b[0m\u001b[0;34m]\u001b[0m\u001b[0;34m,\u001b[0m\u001b[0;34m[\u001b[0m\u001b[0;36m1\u001b[0m\u001b[0;34m,\u001b[0m\u001b[0;36m2\u001b[0m\u001b[0;34m]\u001b[0m\u001b[0;34m,\u001b[0m\u001b[0;34m[\u001b[0m\u001b[0;36m3\u001b[0m\u001b[0;34m,\u001b[0m\u001b[0;36m2\u001b[0m\u001b[0;34m]\u001b[0m\u001b[0;34m,\u001b[0m\u001b[0;34m[\u001b[0m\u001b[0;36m3\u001b[0m\u001b[0;34m,\u001b[0m\u001b[0;36m4\u001b[0m\u001b[0;34m]\u001b[0m\u001b[0;34m]\u001b[0m\u001b[0;34m)\u001b[0m\u001b[0;34m\u001b[0m\u001b[0;34m\u001b[0m\u001b[0m\n\u001b[1;32m      3\u001b[0m \u001b[0mSolution\u001b[0m\u001b[0;34m(\u001b[0m\u001b[0;34m)\u001b[0m\u001b[0;34m.\u001b[0m\u001b[0mminReorder\u001b[0m\u001b[0;34m(\u001b[0m\u001b[0;36m3\u001b[0m\u001b[0;34m,\u001b[0m \u001b[0;34m[\u001b[0m\u001b[0;34m[\u001b[0m\u001b[0;36m1\u001b[0m\u001b[0;34m,\u001b[0m\u001b[0;36m0\u001b[0m\u001b[0;34m]\u001b[0m\u001b[0;34m,\u001b[0m\u001b[0;34m[\u001b[0m\u001b[0;36m2\u001b[0m\u001b[0;34m,\u001b[0m\u001b[0;36m0\u001b[0m\u001b[0;34m]\u001b[0m\u001b[0;34m]\u001b[0m\u001b[0;34m)\u001b[0m\u001b[0;34m\u001b[0m\u001b[0;34m\u001b[0m\u001b[0m\n",
      "\u001b[0;31mAssertionError\u001b[0m: "
     ]
    }
   ],
   "source": [
    "assert Solution().minReorder(6, [[0,1],[1,3],[2,3],[4,0],[4,5]]) == 3\n",
    "Solution().minReorder(5, [[1,0],[1,2],[3,2],[3,4]])\n",
    "Solution().minReorder(3, [[1,0],[2,0]])"
   ]
  },
  {
   "cell_type": "code",
   "execution_count": 171,
   "metadata": {},
   "outputs": [
    {
     "name": "stdout",
     "output_type": "stream",
     "text": [
      "{1: [0, 2], 0: [1], 2: [1, 3], 3: [2, 4], 4: [3]} {1: [0, 2], 3: [2, 4]} {0: [1], 2: [1, 3], 4: [3]}\n"
     ]
    },
    {
     "ename": "KeyboardInterrupt",
     "evalue": "",
     "output_type": "error",
     "traceback": [
      "\u001b[0;31m---------------------------------------------------------------------------\u001b[0m",
      "\u001b[0;31mKeyboardInterrupt\u001b[0m                         Traceback (most recent call last)",
      "\u001b[0;32m<ipython-input-171-03554059c6c1>\u001b[0m in \u001b[0;36m<module>\u001b[0;34m\u001b[0m\n\u001b[0;32m----> 1\u001b[0;31m \u001b[0mSolution\u001b[0m\u001b[0;34m(\u001b[0m\u001b[0;34m)\u001b[0m\u001b[0;34m.\u001b[0m\u001b[0mminReorder\u001b[0m\u001b[0;34m(\u001b[0m\u001b[0;36m5\u001b[0m\u001b[0;34m,\u001b[0m \u001b[0;34m[\u001b[0m\u001b[0;34m[\u001b[0m\u001b[0;36m1\u001b[0m\u001b[0;34m,\u001b[0m\u001b[0;36m0\u001b[0m\u001b[0;34m]\u001b[0m\u001b[0;34m,\u001b[0m\u001b[0;34m[\u001b[0m\u001b[0;36m1\u001b[0m\u001b[0;34m,\u001b[0m\u001b[0;36m2\u001b[0m\u001b[0;34m]\u001b[0m\u001b[0;34m,\u001b[0m\u001b[0;34m[\u001b[0m\u001b[0;36m3\u001b[0m\u001b[0;34m,\u001b[0m\u001b[0;36m2\u001b[0m\u001b[0;34m]\u001b[0m\u001b[0;34m,\u001b[0m\u001b[0;34m[\u001b[0m\u001b[0;36m3\u001b[0m\u001b[0;34m,\u001b[0m\u001b[0;36m4\u001b[0m\u001b[0;34m]\u001b[0m\u001b[0;34m]\u001b[0m\u001b[0;34m)\u001b[0m\u001b[0;34m\u001b[0m\u001b[0;34m\u001b[0m\u001b[0m\n\u001b[0m",
      "\u001b[0;32m<ipython-input-167-e349fd4361d2>\u001b[0m in \u001b[0;36mminReorder\u001b[0;34m(self, n, connections)\u001b[0m\n\u001b[1;32m     27\u001b[0m \u001b[0;34m\u001b[0m\u001b[0m\n\u001b[1;32m     28\u001b[0m         \u001b[0;32mwhile\u001b[0m \u001b[0mq\u001b[0m\u001b[0;34m:\u001b[0m\u001b[0;34m\u001b[0m\u001b[0;34m\u001b[0m\u001b[0m\n\u001b[0;32m---> 29\u001b[0;31m             \u001b[0mcity\u001b[0m\u001b[0;34m,\u001b[0m \u001b[0mdirection\u001b[0m \u001b[0;34m=\u001b[0m \u001b[0mq\u001b[0m\u001b[0;34m.\u001b[0m\u001b[0mpop\u001b[0m\u001b[0;34m(\u001b[0m\u001b[0;36m0\u001b[0m\u001b[0;34m)\u001b[0m\u001b[0;34m\u001b[0m\u001b[0;34m\u001b[0m\u001b[0m\n\u001b[0m\u001b[1;32m     30\u001b[0m \u001b[0;34m\u001b[0m\u001b[0m\n\u001b[1;32m     31\u001b[0m             \u001b[0;32mfor\u001b[0m \u001b[0mconn_city\u001b[0m \u001b[0;32min\u001b[0m \u001b[0mconn_dict\u001b[0m\u001b[0;34m[\u001b[0m\u001b[0mcity\u001b[0m\u001b[0;34m]\u001b[0m\u001b[0;34m:\u001b[0m\u001b[0;34m\u001b[0m\u001b[0;34m\u001b[0m\u001b[0m\n",
      "\u001b[0;31mKeyboardInterrupt\u001b[0m: "
     ]
    }
   ],
   "source": [
    "Solution().minReorder(5, [[1,0],[1,2],[3,2],[3,4]])"
   ]
  },
  {
   "cell_type": "code",
   "execution_count": 170,
   "metadata": {},
   "outputs": [
    {
     "name": "stdout",
     "output_type": "stream",
     "text": [
      "{1: [0], 0: [1, 2], 2: [0]} {1: [0], 2: [0]} {0: [1, 2]}\n"
     ]
    },
    {
     "data": {
      "text/plain": [
       "0"
      ]
     },
     "execution_count": 170,
     "metadata": {},
     "output_type": "execute_result"
    }
   ],
   "source": [
    "Solution().minReorder(3, [[1,0],[2,0]])"
   ]
  }
 ],
 "metadata": {
  "kernelspec": {
   "display_name": "Python 3",
   "language": "python",
   "name": "python3"
  },
  "language_info": {
   "codemirror_mode": {
    "name": "ipython",
    "version": 3
   },
   "file_extension": ".py",
   "mimetype": "text/x-python",
   "name": "python",
   "nbconvert_exporter": "python",
   "pygments_lexer": "ipython3",
   "version": "3.7.3"
  },
  "toc": {
   "base_numbering": 1,
   "nav_menu": {},
   "number_sections": true,
   "sideBar": true,
   "skip_h1_title": false,
   "title_cell": "Table of Contents",
   "title_sidebar": "Contents",
   "toc_cell": false,
   "toc_position": {},
   "toc_section_display": true,
   "toc_window_display": false
  }
 },
 "nbformat": 4,
 "nbformat_minor": 4
}
