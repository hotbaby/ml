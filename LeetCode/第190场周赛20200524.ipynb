{
 "cells": [
  {
   "cell_type": "markdown",
   "metadata": {},
   "source": [
    "# 第190场周赛"
   ]
  },
  {
   "cell_type": "markdown",
   "metadata": {},
   "source": [
    "## [5416. 检查单词是否为句中其他单词的前缀](https://leetcode-cn.com/problems/check-if-a-word-occurs-as-a-prefix-of-any-word-in-a-sentence/)"
   ]
  },
  {
   "cell_type": "code",
   "execution_count": 1,
   "metadata": {},
   "outputs": [],
   "source": [
    "class Solution:\n",
    "    def isPrefixOfWord(self, sentence: str, searchWord: str) -> int:\n",
    "\n",
    "        for i, word in enumerate(sentence.split(' '), 1):\n",
    "            if word.startswith(searchWord):\n",
    "                return i\n",
    "                \n",
    "        return -1"
   ]
  },
  {
   "cell_type": "code",
   "execution_count": 2,
   "metadata": {},
   "outputs": [],
   "source": [
    "assert Solution().isPrefixOfWord(\"i love eating burger\", \"burg\") == 4\n",
    "assert Solution().isPrefixOfWord(\"this problem is an easy problem\", \"pro\") == 2"
   ]
  },
  {
   "cell_type": "markdown",
   "metadata": {},
   "source": [
    "## [5417. 定长子串中元音的最大数目](https://leetcode-cn.com/problems/maximum-number-of-vowels-in-a-substring-of-given-length/)"
   ]
  },
  {
   "cell_type": "code",
   "execution_count": 3,
   "metadata": {},
   "outputs": [],
   "source": [
    "class Solution:\n",
    "    def maxVowels(self, s: str, k: int) -> int:\n",
    "        vowel = 'aeiou'\n",
    "        vovel_cache = {}\n",
    "        for char in vowel:\n",
    "            vovel_cache[char] = True\n",
    "\n",
    "        max_conti_seq = 0\n",
    "        for i in range(len(s)-k+1):\n",
    "            conti_seq = 0\n",
    "            for char in s[i:i+k]:\n",
    "                if char in vovel_cache:\n",
    "                    conti_seq += 1\n",
    "                \n",
    "            max_conti_seq = max(conti_seq, max_conti_seq)\n",
    "            if max_conti_seq == k:\n",
    "                break\n",
    "\n",
    "        return max_conti_seq"
   ]
  },
  {
   "cell_type": "markdown",
   "metadata": {},
   "source": [
    "时间复杂度O(k*N)，运行超时。"
   ]
  },
  {
   "cell_type": "code",
   "execution_count": 4,
   "metadata": {},
   "outputs": [],
   "source": [
    "class Solution:\n",
    "    def maxVowels(self, s: str, k: int) -> int:\n",
    "        vowel = 'aeiou'\n",
    "        vovel_cache = {}\n",
    "        for char in vowel:\n",
    "            vovel_cache[char] = True\n",
    "            \n",
    "        indexes = []\n",
    "        for i, char in enumerate(s):\n",
    "            if char in vovel_cache:\n",
    "                indexes.append(i)\n",
    "\n",
    "        max_conti_seq = 0\n",
    "        conti_seq = 0\n",
    "        if len(indexes) > 0:\n",
    "            for i, index in enumerate(indexes):\n",
    "                if i == 0:\n",
    "                    start = 0\n",
    "                    conti_seq = 1\n",
    "                    max_conti_seq = 1\n",
    "                    continue\n",
    "\n",
    "                if index - indexes[start] > k-1:\n",
    "                    while start <= i:\n",
    "                        start += 1\n",
    "                        if index - indexes[start] < k:\n",
    "                            break\n",
    "                            \n",
    "                    conti_seq = i - start + 1 \n",
    "                else:\n",
    "                    conti_seq += 1\n",
    "                    \n",
    "                max_conti_seq = max(max_conti_seq, conti_seq)\n",
    "                if max_conti_seq == k:\n",
    "                    break\n",
    "\n",
    "            return max_conti_seq\n",
    "        else:\n",
    "            return 0"
   ]
  },
  {
   "cell_type": "markdown",
   "metadata": {},
   "source": [
    "**双指针**"
   ]
  },
  {
   "cell_type": "markdown",
   "metadata": {},
   "source": [
    "时间复杂度O(N)，运行通过。"
   ]
  },
  {
   "cell_type": "code",
   "execution_count": 5,
   "metadata": {},
   "outputs": [],
   "source": [
    "assert Solution().maxVowels('ramadan', 2) == 1\n",
    "assert Solution().maxVowels('abciiidef', 3) == 3\n",
    "assert Solution().maxVowels('aeiou', 2) == 2\n",
    "assert Solution().maxVowels('rhythms', 4) == 0\n",
    "assert Solution().maxVowels('tryhard', 4) == 1\n",
    "assert Solution().maxVowels('leetcode', 3) == 2\n",
    "assert Solution().maxVowels('weallloveyou', 7) == 4\n",
    "assert Solution().maxVowels('umixxoxuoakhjhihqdeidkpuazuecleptcnrovrwebqbegbetkjky', 39) == 15"
   ]
  }
 ],
 "metadata": {
  "kernelspec": {
   "display_name": "Python 3",
   "language": "python",
   "name": "python3"
  },
  "language_info": {
   "codemirror_mode": {
    "name": "ipython",
    "version": 3
   },
   "file_extension": ".py",
   "mimetype": "text/x-python",
   "name": "python",
   "nbconvert_exporter": "python",
   "pygments_lexer": "ipython3",
   "version": "3.7.3"
  }
 },
 "nbformat": 4,
 "nbformat_minor": 4
}
