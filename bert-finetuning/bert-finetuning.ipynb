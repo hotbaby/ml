{
 "cells": [
  {
   "cell_type": "markdown",
   "id": "approximate-scotland",
   "metadata": {},
   "source": [
    "# BERT Finetuning"
   ]
  },
  {
   "cell_type": "code",
   "execution_count": 3,
   "id": "scenic-vacuum",
   "metadata": {},
   "outputs": [],
   "source": [
    "import random\n",
    "import numpy as np\n",
    "from sklearn.datasets import fetch_20newsgroups\n",
    "from sklearn.model_selection import train_test_split\n",
    "\n",
    "import torch\n",
    "from transformers.file_utils import is_tf_available, is_torch_available\n",
    "from transformers import BertTokenizerFast, BertForSequenceClassification\n",
    "from transformers import Trainer, TrainingArguments"
   ]
  },
  {
   "cell_type": "code",
   "execution_count": 10,
   "id": "worthy-commerce",
   "metadata": {},
   "outputs": [
    {
     "data": {
      "text/plain": [
       "True"
      ]
     },
     "execution_count": 10,
     "metadata": {},
     "output_type": "execute_result"
    }
   ],
   "source": [
    "is_torch_available()"
   ]
  },
  {
   "cell_type": "code",
   "execution_count": 6,
   "id": "permanent-intention",
   "metadata": {},
   "outputs": [],
   "source": [
    "def set_seed(seed: int):\n",
    "    \"\"\"\n",
    "    Helper function for reproducible behavior to set the seed in ``random``, ``numpy``, ``torch`` and/or ``tf`` (if\n",
    "    installed).\n",
    "\n",
    "    Args:\n",
    "        seed (:obj:`int`): The seed to set.\n",
    "    \"\"\"\n",
    "    random.seed(seed)\n",
    "    np.random.seed(seed)\n",
    "    if is_torch_available():\n",
    "        torch.manual_seed(seed)\n",
    "        torch.cuda.manual_seed_all(seed)\n",
    "        # ^^ safe to call this function even if cuda is not available\n",
    "    if is_tf_available():\n",
    "        import tensorflow as tf\n",
    "\n",
    "        tf.random.set_seed(seed)\n",
    "\n",
    "set_seed(1)"
   ]
  },
  {
   "cell_type": "code",
   "execution_count": 4,
   "id": "meaningful-following",
   "metadata": {},
   "outputs": [],
   "source": [
    "model_name = 'bert-base-uncased'\n",
    "max_length = 512"
   ]
  },
  {
   "cell_type": "markdown",
   "id": "chicken-verse",
   "metadata": {},
   "source": [
    "## Loading the Dataset"
   ]
  },
  {
   "cell_type": "code",
   "execution_count": 5,
   "id": "through-india",
   "metadata": {},
   "outputs": [
    {
     "data": {
      "application/vnd.jupyter.widget-view+json": {
       "model_id": "a492b077b60d4d8bb1e6572a47e43399",
       "version_major": 2,
       "version_minor": 0
      },
      "text/plain": [
       "Downloading:   0%|          | 0.00/466k [00:00<?, ?B/s]"
      ]
     },
     "metadata": {},
     "output_type": "display_data"
    }
   ],
   "source": [
    "tokenizer = BertTokenizerFast.from_pretrained(model_name, \n",
    "                                              do_lower_case=True)"
   ]
  },
  {
   "cell_type": "code",
   "execution_count": 17,
   "id": "seeing-burden",
   "metadata": {},
   "outputs": [],
   "source": [
    "def read_20newsgroups(test_size=0.2):\n",
    "\n",
    "    dataset = fetch_20newsgroups(subset='all', \n",
    "                                 shuffle=True, \n",
    "                                 remove=('headers', 'footers', 'quotes'))\n",
    "\n",
    "    documents = dataset.data\n",
    "    labels = dataset.target\n",
    "\n",
    "    return train_test_split(documents, \n",
    "                            labels, \n",
    "                            test_size=test_size), dataset.target_names"
   ]
  },
  {
   "cell_type": "code",
   "execution_count": 19,
   "id": "blocked-envelope",
   "metadata": {},
   "outputs": [],
   "source": [
    "ret = read_20newsgroups()\n",
    "(train_texts, valid_texts, train_labels, valid_labels), target_names = ret"
   ]
  },
  {
   "cell_type": "code",
   "execution_count": 21,
   "id": "earned-brain",
   "metadata": {},
   "outputs": [
    {
     "data": {
      "text/plain": [
       "array([17, 16, 10, ...,  9, 15,  4])"
      ]
     },
     "execution_count": 21,
     "metadata": {},
     "output_type": "execute_result"
    }
   ],
   "source": [
    "train_labels"
   ]
  },
  {
   "cell_type": "code",
   "execution_count": 41,
   "id": "modern-wages",
   "metadata": {},
   "outputs": [
    {
     "data": {
      "text/plain": [
       "array([ 5, 12,  5, ..., 18,  6, 10])"
      ]
     },
     "execution_count": 41,
     "metadata": {},
     "output_type": "execute_result"
    }
   ],
   "source": [
    "valid_labels"
   ]
  },
  {
   "cell_type": "code",
   "execution_count": 27,
   "id": "foster-roman",
   "metadata": {},
   "outputs": [],
   "source": [
    "train_encodings = tokenizer(train_texts, truncation=True,\n",
    "                           padding=True, max_length=max_length)\n",
    "valid_encodings = tokenizer(valid_texts, truncation=True,\n",
    "                           padding=True, max_length=max_length)"
   ]
  },
  {
   "cell_type": "code",
   "execution_count": 31,
   "id": "cordless-allocation",
   "metadata": {},
   "outputs": [],
   "source": [
    "class NewsGroupsDataset(torch.utils.data.Dataset):\n",
    "    \n",
    "    def __init__(self, encodings, labels):\n",
    "        self.encodings = encodings\n",
    "        self.labels = labels\n",
    "        \n",
    "    def __getitem__(self, idx):\n",
    "        item = {k: torch.tensor(v[idx]) for k, v in self.encodings.items()}\n",
    "        item['labels'] = torch.tensor([self.labels[idx]])\n",
    "        \n",
    "        return item\n",
    "    \n",
    "    def __len__(self):\n",
    "        return len(self.labels)"
   ]
  },
  {
   "cell_type": "code",
   "execution_count": 34,
   "id": "european-pursuit",
   "metadata": {},
   "outputs": [],
   "source": [
    "train_dataset = NewsGroupsDataset(train_encodings, train_labels)\n",
    "valid_dataset = NewsGroupsDataset(valid_encodings, valid_labels)"
   ]
  },
  {
   "cell_type": "markdown",
   "id": "portuguese-south",
   "metadata": {},
   "source": [
    "## Training the Model"
   ]
  },
  {
   "cell_type": "code",
   "execution_count": 35,
   "id": "fourth-completion",
   "metadata": {
    "scrolled": true
   },
   "outputs": [
    {
     "name": "stderr",
     "output_type": "stream",
     "text": [
      "Some weights of the model checkpoint at bert-base-uncased were not used when initializing BertForSequenceClassification: ['cls.predictions.bias', 'cls.predictions.transform.dense.weight', 'cls.predictions.transform.dense.bias', 'cls.predictions.decoder.weight', 'cls.seq_relationship.weight', 'cls.seq_relationship.bias', 'cls.predictions.transform.LayerNorm.weight', 'cls.predictions.transform.LayerNorm.bias']\n",
      "- This IS expected if you are initializing BertForSequenceClassification from the checkpoint of a model trained on another task or with another architecture (e.g. initializing a BertForSequenceClassification model from a BertForPreTraining model).\n",
      "- This IS NOT expected if you are initializing BertForSequenceClassification from the checkpoint of a model that you expect to be exactly identical (initializing a BertForSequenceClassification model from a BertForSequenceClassification model).\n",
      "Some weights of BertForSequenceClassification were not initialized from the model checkpoint at bert-base-uncased and are newly initialized: ['classifier.weight', 'classifier.bias']\n",
      "You should probably TRAIN this model on a down-stream task to be able to use it for predictions and inference.\n"
     ]
    }
   ],
   "source": [
    "model = BertForSequenceClassification.from_pretrained(model_name, \n",
    "                                                     num_labels=len(target_names)).to('cuda')"
   ]
  },
  {
   "cell_type": "code",
   "execution_count": 42,
   "id": "accompanied-blind",
   "metadata": {},
   "outputs": [],
   "source": [
    "from sklearn.metrics import accuracy_score\n",
    "\n",
    "def compute_metrics(pred):\n",
    "    labels = pred.label_ids\n",
    "    preds = pred.predictions.argmax(-1)\n",
    "    acc = accuracy_score(labels, preds)\n",
    "    return {\n",
    "        'accuracy': acc\n",
    "    }"
   ]
  },
  {
   "cell_type": "code",
   "execution_count": 43,
   "id": "fewer-commons",
   "metadata": {},
   "outputs": [],
   "source": [
    "training_args = TrainingArguments(\n",
    "    output_dir='./results',          # output directory\n",
    "    num_train_epochs=3,              # total number of training epochs\n",
    "    per_device_train_batch_size=16,  # batch size per device during training\n",
    "    per_device_eval_batch_size=20,   # batch size for evaluation\n",
    "    warmup_steps=500,                # number of warmup steps for learning rate scheduler\n",
    "    weight_decay=0.01,               # strength of weight decay\n",
    "    logging_dir='./logs',            # directory for storing logs\n",
    "    load_best_model_at_end=True,     # load the best model when finished training (default metric is loss)\n",
    "    # but you can specify `metric_for_best_model` argument to change to accuracy or other metric\n",
    "    logging_steps=200,               # log & save weights each logging_steps\n",
    "    evaluation_strategy=\"steps\",     # evaluate each `logging_steps`\n",
    ")"
   ]
  },
  {
   "cell_type": "code",
   "execution_count": null,
   "id": "another-survey",
   "metadata": {},
   "outputs": [],
   "source": [
    "trainer = Trainer(\n",
    "    model=model,                         # the instantiated Transformers model to be trained\n",
    "    args=training_args,                  # training arguments, defined above\n",
    "    train_dataset=train_dataset,         # training dataset\n",
    "    eval_dataset=valid_dataset,          # evaluation dataset\n",
    "    compute_metrics=compute_metrics,     # the callback that computes metrics of interest\n",
    ")"
   ]
  },
  {
   "cell_type": "code",
   "execution_count": 45,
   "id": "superior-sleeve",
   "metadata": {
    "scrolled": true
   },
   "outputs": [
    {
     "data": {
      "text/html": [
       "\n",
       "    <div>\n",
       "        <style>\n",
       "            /* Turns off some styling */\n",
       "            progress {\n",
       "                /* gets rid of default border in Firefox and Opera. */\n",
       "                border: none;\n",
       "                /* Needs to be in here for Safari polyfill so background images work as expected. */\n",
       "                background-size: auto;\n",
       "            }\n",
       "        </style>\n",
       "      \n",
       "      <progress value='2829' max='2829' style='width:300px; height:20px; vertical-align: middle;'></progress>\n",
       "      [2829/2829 19:13, Epoch 3/3]\n",
       "    </div>\n",
       "    <table border=\"1\" class=\"dataframe\">\n",
       "  <thead>\n",
       "    <tr style=\"text-align: left;\">\n",
       "      <th>Step</th>\n",
       "      <th>Training Loss</th>\n",
       "      <th>Validation Loss</th>\n",
       "      <th>Accuracy</th>\n",
       "      <th>Runtime</th>\n",
       "      <th>Samples Per Second</th>\n",
       "    </tr>\n",
       "  </thead>\n",
       "  <tbody>\n",
       "    <tr>\n",
       "      <td>200</td>\n",
       "      <td>1.939800</td>\n",
       "      <td>1.630820</td>\n",
       "      <td>0.571353</td>\n",
       "      <td>21.247300</td>\n",
       "      <td>177.434000</td>\n",
       "    </tr>\n",
       "    <tr>\n",
       "      <td>400</td>\n",
       "      <td>1.404400</td>\n",
       "      <td>1.201034</td>\n",
       "      <td>0.655438</td>\n",
       "      <td>21.267800</td>\n",
       "      <td>177.264000</td>\n",
       "    </tr>\n",
       "    <tr>\n",
       "      <td>600</td>\n",
       "      <td>1.156100</td>\n",
       "      <td>1.079928</td>\n",
       "      <td>0.678780</td>\n",
       "      <td>21.270000</td>\n",
       "      <td>177.245000</td>\n",
       "    </tr>\n",
       "    <tr>\n",
       "      <td>800</td>\n",
       "      <td>1.088900</td>\n",
       "      <td>0.987148</td>\n",
       "      <td>0.693369</td>\n",
       "      <td>21.254700</td>\n",
       "      <td>177.373000</td>\n",
       "    </tr>\n",
       "    <tr>\n",
       "      <td>1000</td>\n",
       "      <td>0.932100</td>\n",
       "      <td>0.901242</td>\n",
       "      <td>0.729973</td>\n",
       "      <td>21.234800</td>\n",
       "      <td>177.539000</td>\n",
       "    </tr>\n",
       "    <tr>\n",
       "      <td>1200</td>\n",
       "      <td>0.733800</td>\n",
       "      <td>0.964960</td>\n",
       "      <td>0.707958</td>\n",
       "      <td>21.233600</td>\n",
       "      <td>177.549000</td>\n",
       "    </tr>\n",
       "    <tr>\n",
       "      <td>1400</td>\n",
       "      <td>0.740600</td>\n",
       "      <td>0.854132</td>\n",
       "      <td>0.743236</td>\n",
       "      <td>21.224600</td>\n",
       "      <td>177.624000</td>\n",
       "    </tr>\n",
       "    <tr>\n",
       "      <td>1600</td>\n",
       "      <td>0.690500</td>\n",
       "      <td>0.862933</td>\n",
       "      <td>0.746684</td>\n",
       "      <td>21.235500</td>\n",
       "      <td>177.533000</td>\n",
       "    </tr>\n",
       "    <tr>\n",
       "      <td>1800</td>\n",
       "      <td>0.701900</td>\n",
       "      <td>0.855739</td>\n",
       "      <td>0.744032</td>\n",
       "      <td>21.242000</td>\n",
       "      <td>177.478000</td>\n",
       "    </tr>\n",
       "    <tr>\n",
       "      <td>2000</td>\n",
       "      <td>0.533700</td>\n",
       "      <td>0.835247</td>\n",
       "      <td>0.754907</td>\n",
       "      <td>21.246900</td>\n",
       "      <td>177.438000</td>\n",
       "    </tr>\n",
       "    <tr>\n",
       "      <td>2200</td>\n",
       "      <td>0.398900</td>\n",
       "      <td>0.836588</td>\n",
       "      <td>0.760477</td>\n",
       "      <td>21.237700</td>\n",
       "      <td>177.514000</td>\n",
       "    </tr>\n",
       "    <tr>\n",
       "      <td>2400</td>\n",
       "      <td>0.404700</td>\n",
       "      <td>0.816415</td>\n",
       "      <td>0.767374</td>\n",
       "      <td>21.228800</td>\n",
       "      <td>177.589000</td>\n",
       "    </tr>\n",
       "    <tr>\n",
       "      <td>2600</td>\n",
       "      <td>0.396100</td>\n",
       "      <td>0.812569</td>\n",
       "      <td>0.766578</td>\n",
       "      <td>21.232800</td>\n",
       "      <td>177.555000</td>\n",
       "    </tr>\n",
       "    <tr>\n",
       "      <td>2800</td>\n",
       "      <td>0.382600</td>\n",
       "      <td>0.804331</td>\n",
       "      <td>0.773475</td>\n",
       "      <td>21.237700</td>\n",
       "      <td>177.514000</td>\n",
       "    </tr>\n",
       "  </tbody>\n",
       "</table><p>"
      ],
      "text/plain": [
       "<IPython.core.display.HTML object>"
      ]
     },
     "metadata": {},
     "output_type": "display_data"
    },
    {
     "data": {
      "text/plain": [
       "TrainOutput(global_step=2829, training_loss=0.8166770830555575, metrics={'train_runtime': 1154.2138, 'train_samples_per_second': 2.451, 'total_flos': 15213644873809920, 'epoch': 3.0})"
      ]
     },
     "execution_count": 45,
     "metadata": {},
     "output_type": "execute_result"
    }
   ],
   "source": [
    "trainer.train()"
   ]
  },
  {
   "cell_type": "code",
   "execution_count": 46,
   "id": "european-whale",
   "metadata": {},
   "outputs": [
    {
     "data": {
      "text/html": [
       "\n",
       "    <div>\n",
       "        <style>\n",
       "            /* Turns off some styling */\n",
       "            progress {\n",
       "                /* gets rid of default border in Firefox and Opera. */\n",
       "                border: none;\n",
       "                /* Needs to be in here for Safari polyfill so background images work as expected. */\n",
       "                background-size: auto;\n",
       "            }\n",
       "        </style>\n",
       "      \n",
       "      <progress value='189' max='189' style='width:300px; height:20px; vertical-align: middle;'></progress>\n",
       "      [189/189 00:21]\n",
       "    </div>\n",
       "    "
      ],
      "text/plain": [
       "<IPython.core.display.HTML object>"
      ]
     },
     "metadata": {},
     "output_type": "display_data"
    },
    {
     "data": {
      "text/plain": [
       "{'eval_loss': 0.8043307065963745,\n",
       " 'eval_accuracy': 0.773474801061008,\n",
       " 'eval_runtime': 21.2142,\n",
       " 'eval_samples_per_second': 177.711,\n",
       " 'epoch': 3.0}"
      ]
     },
     "execution_count": 46,
     "metadata": {},
     "output_type": "execute_result"
    }
   ],
   "source": [
    "trainer.evaluate()"
   ]
  },
  {
   "cell_type": "code",
   "execution_count": 47,
   "id": "historic-guyana",
   "metadata": {},
   "outputs": [
    {
     "data": {
      "text/plain": [
       "('20newsgroups-bert-base-uncased/tokenizer_config.json',\n",
       " '20newsgroups-bert-base-uncased/special_tokens_map.json',\n",
       " '20newsgroups-bert-base-uncased/vocab.txt',\n",
       " '20newsgroups-bert-base-uncased/added_tokens.json')"
      ]
     },
     "execution_count": 47,
     "metadata": {},
     "output_type": "execute_result"
    }
   ],
   "source": [
    "model_path = '20newsgroups-bert-base-uncased'\n",
    "model.save_pretrained(model_path)\n",
    "tokenizer.save_pretrained(model_path)"
   ]
  },
  {
   "cell_type": "markdown",
   "id": "english-absence",
   "metadata": {},
   "source": [
    "## Performing Inference"
   ]
  },
  {
   "cell_type": "code",
   "execution_count": 53,
   "id": "formed-rabbit",
   "metadata": {},
   "outputs": [],
   "source": [
    "def get_prediction(text):\n",
    "    inputs = tokenizer(text, padding=True, \n",
    "                       truncation=True, max_length=max_length,\n",
    "                       return_tensors='pt').to('cuda')\n",
    "    \n",
    "    outputs = model(**inputs)\n",
    "    probs = outputs[0].softmax(1)\n",
    "    return target_names[probs.argmax()]\n"
   ]
  },
  {
   "cell_type": "code",
   "execution_count": 54,
   "id": "patient-basin",
   "metadata": {},
   "outputs": [
    {
     "data": {
      "text/plain": [
       "'comp.sys.mac.hardware'"
      ]
     },
     "execution_count": 54,
     "metadata": {},
     "output_type": "execute_result"
    }
   ],
   "source": [
    "text = \"\"\"\n",
    "The first thing is first. \n",
    "If you purchase a Macbook, you should not encounter performance issues that will prevent you from learning to code efficiently.\n",
    "However, in the off chance that you have to deal with a slow computer, you will need to make some adjustments. \n",
    "Having too many background apps running in the background is one of the most common causes. \n",
    "The same can be said about a lack of drive storage. \n",
    "For that, it helps if you uninstall xcode and other unnecessary applications, as well as temporary system junk like caches and old backups.\n",
    "\"\"\"\n",
    "get_prediction(text)"
   ]
  },
  {
   "cell_type": "code",
   "execution_count": 55,
   "id": "still-screening",
   "metadata": {},
   "outputs": [
    {
     "name": "stdout",
     "output_type": "stream",
     "text": [
      "comp.sys.mac.hardware\n"
     ]
    }
   ],
   "source": [
    "text = \"\"\"\n",
    "The first thing is first. \n",
    "If you purchase a Macbook, you should not encounter performance issues that will prevent you from learning to code efficiently.\n",
    "However, in the off chance that you have to deal with a slow computer, you will need to make some adjustments. \n",
    "Having too many background apps running in the background is one of the most common causes. \n",
    "The same can be said about a lack of drive storage. \n",
    "For that, it helps if you uninstall xcode and other unnecessary applications, as well as temporary system junk like caches and old backups.\n",
    "\"\"\"\n",
    "print(get_prediction(text))"
   ]
  },
  {
   "cell_type": "code",
   "execution_count": 56,
   "id": "least-clause",
   "metadata": {},
   "outputs": [
    {
     "name": "stdout",
     "output_type": "stream",
     "text": [
      "sci.space\n"
     ]
    }
   ],
   "source": [
    "text = \"\"\"\n",
    "A black hole is a place in space where gravity pulls so much that even light can not get out. \n",
    "The gravity is so strong because matter has been squeezed into a tiny space. This can happen when a star is dying.\n",
    "Because no light can get out, people can't see black holes. \n",
    "They are invisible. Space telescopes with special tools can help find black holes. \n",
    "The special tools can see how stars that are very close to black holes act differently than other stars.\n",
    "\"\"\"\n",
    "print(get_prediction(text))"
   ]
  },
  {
   "cell_type": "code",
   "execution_count": 57,
   "id": "rental-rendering",
   "metadata": {},
   "outputs": [
    {
     "name": "stdout",
     "output_type": "stream",
     "text": [
      "sci.med\n"
     ]
    }
   ],
   "source": [
    "text = \"\"\"\n",
    "Coronavirus disease (COVID-19) is an infectious disease caused by a newly discovered coronavirus.\n",
    "Most people infected with the COVID-19 virus will experience mild to moderate respiratory illness and recover without requiring special treatment.  \n",
    "Older people, and those with underlying medical problems like cardiovascular disease, diabetes, chronic respiratory disease, and cancer are more likely to develop serious illness.\n",
    "\"\"\"\n",
    "print(get_prediction(text))\n"
   ]
  }
 ],
 "metadata": {
  "kernelspec": {
   "display_name": "Python 3",
   "language": "python",
   "name": "python3"
  },
  "language_info": {
   "codemirror_mode": {
    "name": "ipython",
    "version": 3
   },
   "file_extension": ".py",
   "mimetype": "text/x-python",
   "name": "python",
   "nbconvert_exporter": "python",
   "pygments_lexer": "ipython3",
   "version": "3.7.9"
  },
  "toc": {
   "base_numbering": 1,
   "nav_menu": {},
   "number_sections": true,
   "sideBar": true,
   "skip_h1_title": false,
   "title_cell": "Table of Contents",
   "title_sidebar": "Contents",
   "toc_cell": false,
   "toc_position": {},
   "toc_section_display": true,
   "toc_window_display": false
  },
  "varInspector": {
   "cols": {
    "lenName": 16,
    "lenType": 16,
    "lenVar": 40
   },
   "kernels_config": {
    "python": {
     "delete_cmd_postfix": "",
     "delete_cmd_prefix": "del ",
     "library": "var_list.py",
     "varRefreshCmd": "print(var_dic_list())"
    },
    "r": {
     "delete_cmd_postfix": ") ",
     "delete_cmd_prefix": "rm(",
     "library": "var_list.r",
     "varRefreshCmd": "cat(var_dic_list()) "
    }
   },
   "types_to_exclude": [
    "module",
    "function",
    "builtin_function_or_method",
    "instance",
    "_Feature"
   ],
   "window_display": false
  }
 },
 "nbformat": 4,
 "nbformat_minor": 5
}
