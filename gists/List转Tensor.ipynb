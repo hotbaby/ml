{
 "cells": [
  {
   "cell_type": "markdown",
   "id": "electric-finnish",
   "metadata": {},
   "source": [
    "# List转Tensor"
   ]
  },
  {
   "cell_type": "code",
   "execution_count": 1,
   "id": "killing-tuesday",
   "metadata": {},
   "outputs": [],
   "source": [
    "import torch\n",
    "import itertools"
   ]
  },
  {
   "cell_type": "code",
   "execution_count": 2,
   "id": "photographic-population",
   "metadata": {},
   "outputs": [],
   "source": [
    "l = [[1, 1675, 4028, 8271, 42, 2], [1, 1675, 4028, 8844, 10135, 10757, 9478, 42, 2]]"
   ]
  },
  {
   "cell_type": "code",
   "execution_count": 3,
   "id": "executive-rings",
   "metadata": {},
   "outputs": [],
   "source": [
    "# maximum rows and columns\n",
    "max_rows = len(l)\n",
    "max_cols = max(len(row) for row in l)"
   ]
  },
  {
   "cell_type": "code",
   "execution_count": 4,
   "id": "pleased-tiger",
   "metadata": {},
   "outputs": [
    {
     "data": {
      "text/plain": [
       "(2, 9)"
      ]
     },
     "execution_count": 4,
     "metadata": {},
     "output_type": "execute_result"
    }
   ],
   "source": [
    "max_rows, max_cols"
   ]
  },
  {
   "cell_type": "code",
   "execution_count": 5,
   "id": "olive-hygiene",
   "metadata": {},
   "outputs": [],
   "source": [
    "# padded rows\n",
    "padded = [row + [0] * (max_cols - len(row)) for row in l]"
   ]
  },
  {
   "cell_type": "code",
   "execution_count": 6,
   "id": "occasional-rubber",
   "metadata": {},
   "outputs": [
    {
     "data": {
      "text/plain": [
       "[[1, 1675, 4028, 8271, 42, 2, 0, 0, 0],\n",
       " [1, 1675, 4028, 8844, 10135, 10757, 9478, 42, 2]]"
      ]
     },
     "execution_count": 6,
     "metadata": {},
     "output_type": "execute_result"
    }
   ],
   "source": [
    "padded"
   ]
  },
  {
   "cell_type": "code",
   "execution_count": 7,
   "id": "loose-progressive",
   "metadata": {},
   "outputs": [
    {
     "data": {
      "text/plain": [
       "tensor([[    1,  1675,  4028,  8271,    42,     2,     0,     0,     0],\n",
       "        [    1,  1675,  4028,  8844, 10135, 10757,  9478,    42,     2]])"
      ]
     },
     "execution_count": 7,
     "metadata": {},
     "output_type": "execute_result"
    }
   ],
   "source": [
    "# unpack nested list\n",
    "torch.tensor(list(itertools.chain(padded))).view(max_rows, -1)"
   ]
  }
 ],
 "metadata": {
  "kernelspec": {
   "display_name": "Python 3",
   "language": "python",
   "name": "python3"
  },
  "language_info": {
   "codemirror_mode": {
    "name": "ipython",
    "version": 3
   },
   "file_extension": ".py",
   "mimetype": "text/x-python",
   "name": "python",
   "nbconvert_exporter": "python",
   "pygments_lexer": "ipython3",
   "version": "3.7.9"
  },
  "toc": {
   "base_numbering": 1,
   "nav_menu": {},
   "number_sections": true,
   "sideBar": true,
   "skip_h1_title": false,
   "title_cell": "Table of Contents",
   "title_sidebar": "Contents",
   "toc_cell": false,
   "toc_position": {},
   "toc_section_display": true,
   "toc_window_display": false
  },
  "varInspector": {
   "cols": {
    "lenName": 16,
    "lenType": 16,
    "lenVar": 40
   },
   "kernels_config": {
    "python": {
     "delete_cmd_postfix": "",
     "delete_cmd_prefix": "del ",
     "library": "var_list.py",
     "varRefreshCmd": "print(var_dic_list())"
    },
    "r": {
     "delete_cmd_postfix": ") ",
     "delete_cmd_prefix": "rm(",
     "library": "var_list.r",
     "varRefreshCmd": "cat(var_dic_list()) "
    }
   },
   "types_to_exclude": [
    "module",
    "function",
    "builtin_function_or_method",
    "instance",
    "_Feature"
   ],
   "window_display": false
  }
 },
 "nbformat": 4,
 "nbformat_minor": 5
}
