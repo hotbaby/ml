{
 "cells": [
  {
   "cell_type": "markdown",
   "id": "superb-instruction",
   "metadata": {},
   "source": [
    "# Tensor sigmoid后转化成二元值"
   ]
  },
  {
   "cell_type": "code",
   "execution_count": 1,
   "id": "hungarian-salad",
   "metadata": {},
   "outputs": [],
   "source": [
    "import torch\n",
    "import torch.nn.functional as F"
   ]
  },
  {
   "cell_type": "code",
   "execution_count": 2,
   "id": "micro-porter",
   "metadata": {},
   "outputs": [],
   "source": [
    "t = torch.randn(5, 4)"
   ]
  },
  {
   "cell_type": "code",
   "execution_count": 3,
   "id": "furnished-rotation",
   "metadata": {},
   "outputs": [
    {
     "data": {
      "text/plain": [
       "tensor([[-0.0955, -0.6786,  0.6100,  1.0872],\n",
       "        [ 0.0155, -1.1633, -0.3528, -1.5430],\n",
       "        [ 0.6666,  0.2279, -1.8384,  0.9682],\n",
       "        [-0.7140, -0.0777,  0.3042, -0.7632],\n",
       "        [ 0.0788, -0.0043,  1.4602, -0.4117]])"
      ]
     },
     "execution_count": 3,
     "metadata": {},
     "output_type": "execute_result"
    }
   ],
   "source": [
    "t"
   ]
  },
  {
   "cell_type": "code",
   "execution_count": 4,
   "id": "healthy-flavor",
   "metadata": {},
   "outputs": [],
   "source": [
    "t_sigmoid = torch.sigmoid(t)"
   ]
  },
  {
   "cell_type": "code",
   "execution_count": 5,
   "id": "wireless-metallic",
   "metadata": {},
   "outputs": [
    {
     "data": {
      "text/plain": [
       "tensor([[0.4761, 0.3366, 0.6480, 0.7479],\n",
       "        [0.5039, 0.2381, 0.4127, 0.1761],\n",
       "        [0.6607, 0.5567, 0.1372, 0.7248],\n",
       "        [0.3287, 0.4806, 0.5755, 0.3179],\n",
       "        [0.5197, 0.4989, 0.8116, 0.3985]])"
      ]
     },
     "execution_count": 5,
     "metadata": {},
     "output_type": "execute_result"
    }
   ],
   "source": [
    "t_sigmoid"
   ]
  },
  {
   "cell_type": "code",
   "execution_count": 6,
   "id": "quiet-gravity",
   "metadata": {},
   "outputs": [],
   "source": [
    "t_sigmoid[t_sigmoid >= torch.tensor(0.5)] = 1\n",
    "t_sigmoid[t_sigmoid < torch.tensor(0.5)] = 0"
   ]
  },
  {
   "cell_type": "code",
   "execution_count": 7,
   "id": "atlantic-antique",
   "metadata": {},
   "outputs": [
    {
     "data": {
      "text/plain": [
       "tensor([[0., 0., 1., 1.],\n",
       "        [1., 0., 0., 0.],\n",
       "        [1., 1., 0., 1.],\n",
       "        [0., 0., 1., 0.],\n",
       "        [1., 0., 1., 0.]])"
      ]
     },
     "execution_count": 7,
     "metadata": {},
     "output_type": "execute_result"
    }
   ],
   "source": [
    "t_sigmoid"
   ]
  }
 ],
 "metadata": {
  "kernelspec": {
   "display_name": "Python 3",
   "language": "python",
   "name": "python3"
  },
  "language_info": {
   "codemirror_mode": {
    "name": "ipython",
    "version": 3
   },
   "file_extension": ".py",
   "mimetype": "text/x-python",
   "name": "python",
   "nbconvert_exporter": "python",
   "pygments_lexer": "ipython3",
   "version": "3.7.9"
  },
  "toc": {
   "base_numbering": 1,
   "nav_menu": {},
   "number_sections": true,
   "sideBar": true,
   "skip_h1_title": false,
   "title_cell": "Table of Contents",
   "title_sidebar": "Contents",
   "toc_cell": false,
   "toc_position": {},
   "toc_section_display": true,
   "toc_window_display": false
  },
  "varInspector": {
   "cols": {
    "lenName": 16,
    "lenType": 16,
    "lenVar": 40
   },
   "kernels_config": {
    "python": {
     "delete_cmd_postfix": "",
     "delete_cmd_prefix": "del ",
     "library": "var_list.py",
     "varRefreshCmd": "print(var_dic_list())"
    },
    "r": {
     "delete_cmd_postfix": ") ",
     "delete_cmd_prefix": "rm(",
     "library": "var_list.r",
     "varRefreshCmd": "cat(var_dic_list()) "
    }
   },
   "types_to_exclude": [
    "module",
    "function",
    "builtin_function_or_method",
    "instance",
    "_Feature"
   ],
   "window_display": false
  }
 },
 "nbformat": 4,
 "nbformat_minor": 5
}
