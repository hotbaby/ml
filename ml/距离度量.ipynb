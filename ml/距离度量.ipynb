{
 "cells": [
  {
   "cell_type": "markdown",
   "metadata": {
    "deletable": false,
    "editable": false,
    "run_control": {
     "frozen": true
    }
   },
   "source": [
    "**距离度量**"
   ]
  },
  {
   "cell_type": "markdown",
   "metadata": {
    "deletable": false,
    "editable": false,
    "run_control": {
     "frozen": true
    }
   },
   "source": [
    "* *统计学习方法*"
   ]
  },
  {
   "cell_type": "markdown",
   "metadata": {
    "deletable": false,
    "editable": false,
    "run_control": {
     "frozen": true
    }
   },
   "source": [
    "P50 3.2.2 距离度量"
   ]
  },
  {
   "cell_type": "markdown",
   "metadata": {
    "deletable": false,
    "editable": false,
    "run_control": {
     "frozen": true
    }
   },
   "source": [
    "特征空间中两个实例点的距离是两个实例点的相似程度的反应。k近邻模型的特征空间一般是n维实数向量空间$R^n$。"
   ]
  },
  {
   "cell_type": "markdown",
   "metadata": {
    "deletable": false,
    "editable": false,
    "run_control": {
     "frozen": true
    }
   },
   "source": [
    "设特征空间$\\chi$是n维实数向量空间$R^n$，$x_i, x_j \\in \\chi$，$x_i = (x_i^{(1)}, x_i^{(2)}, ..., x_i^{(n)})^T$ $x_i = (x_j^{(1)}, x_j^{(2)}, ..., x_j^{(n)})^T$，$x_i, x_j$的$L_p$距离定义为：\n",
    "\n",
    "$$L_p(x_i, x_j) = (\\sum \\limits_{l} |x_i^{(l)} - x_j^{(l)}|^p)^{\\frac{1}{p}}$$"
   ]
  },
  {
   "cell_type": "markdown",
   "metadata": {
    "deletable": false,
    "editable": false,
    "run_control": {
     "frozen": true
    }
   },
   "source": [
    "欧式距离"
   ]
  },
  {
   "cell_type": "markdown",
   "metadata": {
    "deletable": false,
    "editable": false,
    "run_control": {
     "frozen": true
    }
   },
   "source": [
    "当$P==2$时，称为欧式距离(Euclidean distance)即\n",
    "\n",
    "$$L_2(x_i, x_j)=(\\sum \\limits_{l} |x_i^{(l)} - x_j^{(l)}|^2)^{\\frac{1}{2}}$$"
   ]
  },
  {
   "cell_type": "markdown",
   "metadata": {
    "deletable": false,
    "editable": false,
    "run_control": {
     "frozen": true
    }
   },
   "source": [
    "曼哈顿距离"
   ]
  },
  {
   "cell_type": "markdown",
   "metadata": {
    "deletable": false,
    "editable": false,
    "run_control": {
     "frozen": true
    }
   },
   "source": [
    "当$p==1$时，称为曼哈顿距离(Manhattan distance)，即\n",
    "\n",
    "$$L_2(x_i, x_j)=(\\sum \\limits_{l} |x_i^{(l)} - x_j^{(l)}|)$$"
   ]
  }
 ],
 "metadata": {
  "kernelspec": {
   "display_name": "Python 3",
   "language": "python",
   "name": "python3"
  },
  "language_info": {
   "codemirror_mode": {
    "name": "ipython",
    "version": 3
   },
   "file_extension": ".py",
   "mimetype": "text/x-python",
   "name": "python",
   "nbconvert_exporter": "python",
   "pygments_lexer": "ipython3",
   "version": "3.7.6"
  },
  "toc": {
   "base_numbering": 1,
   "nav_menu": {},
   "number_sections": true,
   "sideBar": true,
   "skip_h1_title": false,
   "title_cell": "Table of Contents",
   "title_sidebar": "Contents",
   "toc_cell": false,
   "toc_position": {},
   "toc_section_display": true,
   "toc_window_display": false
  }
 },
 "nbformat": 4,
 "nbformat_minor": 4
}
