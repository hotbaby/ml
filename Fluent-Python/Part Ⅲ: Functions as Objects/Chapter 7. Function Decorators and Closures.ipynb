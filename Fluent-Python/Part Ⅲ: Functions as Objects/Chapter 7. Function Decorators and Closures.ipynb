{
 "cells": [
  {
   "cell_type": "markdown",
   "metadata": {},
   "source": [
    "# Function Decorator and Closures"
   ]
  },
  {
   "cell_type": "markdown",
   "metadata": {},
   "source": [
    "Function decorators let us \"mark\" functions in the source code hence their behavior in some way. This is powerful stuff, but mastering it requires understanding closures."
   ]
  },
  {
   "cell_type": "markdown",
   "metadata": {},
   "source": [
    "One of the newest reserved keywords in Python is `nolocal`, introduced in Python3.0. If you want to implement your own function decorators, you must know closures inside out, and then the need for `nonlocal` becomes obvious."
   ]
  },
  {
   "cell_type": "markdown",
   "metadata": {},
   "source": [
    "Aside from their application in decorators, closures also essential for effective aynchronous programming with callbacks, and for coding in a functional style whenever it makes sense."
   ]
  },
  {
   "cell_type": "markdown",
   "metadata": {},
   "source": [
    "The goal of this chapter is to explain exactly how function decorators work, from the simplest registration decorators to the rather more complicated parameterized ones. However, before we reach the goal we need to cover:\n",
    "\n",
    "* How Python evaluates decorator syntax\n",
    "* How Python decides whether a variable is local\n",
    "* Why closures exist and how they work\n",
    "* What problem is solved by nonlocal"
   ]
  },
  {
   "cell_type": "markdown",
   "metadata": {},
   "source": [
    "With this grouding, we can trackle futher decorator topics:\n",
    "\n",
    "* Implementing a well-behaved decorator\n",
    "* Interesting decorators in the stand library\n",
    "* Implementing a parameterized decorator"
   ]
  },
  {
   "cell_type": "markdown",
   "metadata": {},
   "source": [
    "## Decorator 101"
   ]
  },
  {
   "cell_type": "markdown",
   "metadata": {},
   "source": [
    "A decorator is a callable that takes another function as argument(the decorated function). The decorator may performs some processing with the decorated function, and returns it or replace it with another function or callable object."
   ]
  },
  {
   "cell_type": "markdown",
   "metadata": {},
   "source": [
    "Strictly speaking, decorators are just syntatic sugar. As we just saw, you can always simply call a decorator like any regular callable, passing another function."
   ]
  },
  {
   "cell_type": "markdown",
   "metadata": {},
   "source": [
    "To summarize: \n",
    "* The first crucial fact about decorators is that they have power to replace the decorated function with a different one. \n",
    "* **The second fact is that they are execute immediately when a moudle is loaded.**"
   ]
  },
  {
   "cell_type": "markdown",
   "metadata": {},
   "source": [
    "## When Python Executes Decorators"
   ]
  },
  {
   "cell_type": "markdown",
   "metadata": {},
   "source": [
    "A key feature of decorators is that they run right after the decorated function is defined. That is usually at import time(i.e., when a module is loaded by Python)."
   ]
  },
  {
   "cell_type": "markdown",
   "metadata": {},
   "source": [
    "Consider how decorators are commonly employed in real code, is unusual in two ways:\n",
    "\n",
    "* The decorator function is defined in the same module as the decorated funtions. A real decorator defined in one module, and applied to functions in other modules\n",
    "* The register decorator returns the same function passed  as argument. In practice, most decorators define an inner function and return it."
   ]
  },
  {
   "cell_type": "markdown",
   "metadata": {},
   "source": [
    "## Decorator-Enhanced Strategy Pattern"
   ]
  },
  {
   "cell_type": "code",
   "execution_count": 5,
   "metadata": {},
   "outputs": [
    {
     "data": {
      "text/plain": [
       "[<function __main__.fidelity(order)>]"
      ]
     },
     "execution_count": 5,
     "metadata": {},
     "output_type": "execute_result"
    }
   ],
   "source": [
    "promos = []\n",
    "\n",
    "def promotion(func):\n",
    "    promos.append(func)\n",
    "    return func\n",
    "\n",
    "@promotion\n",
    "def fidelity(order):\n",
    "    pass\n",
    "\n",
    "promos"
   ]
  },
  {
   "cell_type": "markdown",
   "metadata": {},
   "source": [
    "Most decorators do change the decorated function. They usually do it by defining an inner function and return it to replace the decorated function. Code that uses inner functions almost always depends on closures to operate corretly."
   ]
  },
  {
   "cell_type": "markdown",
   "metadata": {},
   "source": [
    "## Variable Scope Rules"
   ]
  },
  {
   "cell_type": "code",
   "execution_count": 19,
   "metadata": {},
   "outputs": [
    {
     "name": "stdout",
     "output_type": "stream",
     "text": [
      "100\n"
     ]
    },
    {
     "ename": "UnboundLocalError",
     "evalue": "local variable 'b' referenced before assignment",
     "output_type": "error",
     "traceback": [
      "\u001b[0;31m---------------------------------------------------------------------------\u001b[0m",
      "\u001b[0;31mUnboundLocalError\u001b[0m                         Traceback (most recent call last)",
      "\u001b[0;32m<ipython-input-19-54aeb7bee30d>\u001b[0m in \u001b[0;36m<module>\u001b[0;34m\u001b[0m\n\u001b[1;32m      6\u001b[0m     \u001b[0mb\u001b[0m \u001b[0;34m=\u001b[0m \u001b[0;36m10\u001b[0m\u001b[0;34m\u001b[0m\u001b[0;34m\u001b[0m\u001b[0m\n\u001b[1;32m      7\u001b[0m \u001b[0;34m\u001b[0m\u001b[0m\n\u001b[0;32m----> 8\u001b[0;31m \u001b[0mf1\u001b[0m\u001b[0;34m(\u001b[0m\u001b[0;36m100\u001b[0m\u001b[0;34m)\u001b[0m\u001b[0;34m\u001b[0m\u001b[0;34m\u001b[0m\u001b[0m\n\u001b[0m",
      "\u001b[0;32m<ipython-input-19-54aeb7bee30d>\u001b[0m in \u001b[0;36mf1\u001b[0;34m(a)\u001b[0m\n\u001b[1;32m      3\u001b[0m \u001b[0;32mdef\u001b[0m \u001b[0mf1\u001b[0m\u001b[0;34m(\u001b[0m\u001b[0ma\u001b[0m\u001b[0;34m)\u001b[0m\u001b[0;34m:\u001b[0m\u001b[0;34m\u001b[0m\u001b[0;34m\u001b[0m\u001b[0m\n\u001b[1;32m      4\u001b[0m     \u001b[0mprint\u001b[0m\u001b[0;34m(\u001b[0m\u001b[0ma\u001b[0m\u001b[0;34m)\u001b[0m\u001b[0;34m\u001b[0m\u001b[0;34m\u001b[0m\u001b[0m\n\u001b[0;32m----> 5\u001b[0;31m     \u001b[0mprint\u001b[0m\u001b[0;34m(\u001b[0m\u001b[0mb\u001b[0m\u001b[0;34m)\u001b[0m\u001b[0;34m\u001b[0m\u001b[0;34m\u001b[0m\u001b[0m\n\u001b[0m\u001b[1;32m      6\u001b[0m     \u001b[0mb\u001b[0m \u001b[0;34m=\u001b[0m \u001b[0;36m10\u001b[0m\u001b[0;34m\u001b[0m\u001b[0;34m\u001b[0m\u001b[0m\n\u001b[1;32m      7\u001b[0m \u001b[0;34m\u001b[0m\u001b[0m\n",
      "\u001b[0;31mUnboundLocalError\u001b[0m: local variable 'b' referenced before assignment"
     ]
    }
   ],
   "source": [
    "b = 100\n",
    "\n",
    "def f1(a):\n",
    "    print(a)\n",
    "    print(b)\n",
    "    b = 10\n",
    "\n",
    "f1(100)"
   ]
  },
  {
   "cell_type": "markdown",
   "metadata": {},
   "source": [
    "**When Python compiles the body of the function, it decides that b is a local varaible because it is assigned within the function.** The generated bytecode reflects this decision and will try to fetch b from the local environment. Later, when the call f1(100) is made, the body of f2 fetches and prints the value of the local variable a, **but when trying to fetch the value of local variable b it discovers that b is unbounded.**"
   ]
  },
  {
   "cell_type": "markdown",
   "metadata": {},
   "source": [
    "This is not a bug, but a design choice: **Python does not require you to declare variables, but assumes that a variable assigned in the body of a function is local. This is much better than the behavior of JavaScipt, which does not require variable declartions either, but if you do forget that a variable is local, you may cobber a gloabl variable without knowning.**"
   ]
  },
  {
   "cell_type": "code",
   "execution_count": 21,
   "metadata": {},
   "outputs": [
    {
     "name": "stdout",
     "output_type": "stream",
     "text": [
      "100\n",
      "100\n"
     ]
    }
   ],
   "source": [
    "b = 100\n",
    "\n",
    "def f2(a):\n",
    "    global b\n",
    "    print(a)\n",
    "    print(b)\n",
    "    b = 10\n",
    "\n",
    "f2(100)"
   ]
  },
  {
   "cell_type": "markdown",
   "metadata": {},
   "source": [
    "The `dis` provides an easy way to disassemble the bytecode of Python functions."
   ]
  },
  {
   "cell_type": "code",
   "execution_count": 22,
   "metadata": {},
   "outputs": [],
   "source": [
    "from dis import dis"
   ]
  },
  {
   "cell_type": "code",
   "execution_count": 23,
   "metadata": {},
   "outputs": [
    {
     "name": "stdout",
     "output_type": "stream",
     "text": [
      "  4           0 LOAD_GLOBAL              0 (print)\n",
      "              2 LOAD_FAST                0 (a)\n",
      "              4 CALL_FUNCTION            1\n",
      "              6 POP_TOP\n",
      "\n",
      "  5           8 LOAD_GLOBAL              0 (print)\n",
      "             10 LOAD_FAST                1 (b)\n",
      "             12 CALL_FUNCTION            1\n",
      "             14 POP_TOP\n",
      "\n",
      "  6          16 LOAD_CONST               1 (10)\n",
      "             18 STORE_FAST               1 (b)\n",
      "             20 LOAD_CONST               0 (None)\n",
      "             22 RETURN_VALUE\n"
     ]
    }
   ],
   "source": [
    "dis(f1)"
   ]
  },
  {
   "cell_type": "markdown",
   "metadata": {},
   "source": [
    "> Load local name b. This show that compiler consider `b` a local variable, even if the assignment to `b` occurs later, because the nature of the raiable whether it is local or not - cannot change the body of the function."
   ]
  },
  {
   "cell_type": "code",
   "execution_count": 24,
   "metadata": {},
   "outputs": [
    {
     "name": "stdout",
     "output_type": "stream",
     "text": [
      "  5           0 LOAD_GLOBAL              0 (print)\n",
      "              2 LOAD_FAST                0 (a)\n",
      "              4 CALL_FUNCTION            1\n",
      "              6 POP_TOP\n",
      "\n",
      "  6           8 LOAD_GLOBAL              0 (print)\n",
      "             10 LOAD_GLOBAL              1 (b)\n",
      "             12 CALL_FUNCTION            1\n",
      "             14 POP_TOP\n",
      "\n",
      "  7          16 LOAD_CONST               1 (10)\n",
      "             18 STORE_GLOBAL             1 (b)\n",
      "             20 LOAD_CONST               0 (None)\n",
      "             22 RETURN_VALUE\n"
     ]
    }
   ],
   "source": [
    "dis(f2)"
   ]
  },
  {
   "cell_type": "markdown",
   "metadata": {},
   "source": [
    "* Load global name `print`\n",
    "* Load local name `a`\n",
    "* Load global name `b`"
   ]
  },
  {
   "cell_type": "markdown",
   "metadata": {},
   "source": [
    "The CPython VM that runs the bytecode is a stack machine, so the operations LOAD and POP refer to stack."
   ]
  },
  {
   "cell_type": "markdown",
   "metadata": {},
   "source": [
    "## Closures"
   ]
  },
  {
   "cell_type": "markdown",
   "metadata": {},
   "source": [
    "Actually, a closure is a function with an extended scope that encompasses nonglobal variables referenced in the body of the function but not defined there. It does not matter whether the function is anonymous or not; **what matters is that it can access nonglobal variables that are defined outside of its body.**"
   ]
  },
  {
   "cell_type": "code",
   "execution_count": 25,
   "metadata": {},
   "outputs": [],
   "source": [
    "class Averager:\n",
    "    \n",
    "    def __init__(self):\n",
    "        self.series = []\n",
    "        \n",
    "    def __call__(self, new_value):\n",
    "        self.series.append(new_value)\n",
    "        return sum(self.series)/len(self.series)"
   ]
  },
  {
   "cell_type": "code",
   "execution_count": 27,
   "metadata": {},
   "outputs": [
    {
     "name": "stdout",
     "output_type": "stream",
     "text": [
      "10.0\n",
      "10.5\n",
      "11.0\n"
     ]
    }
   ],
   "source": [
    "avg = Averager()\n",
    "print(avg(10))\n",
    "print(avg(11))\n",
    "print(avg(12))"
   ]
  },
  {
   "cell_type": "code",
   "execution_count": 31,
   "metadata": {},
   "outputs": [],
   "source": [
    "def make_averager():\n",
    "    series = []\n",
    "    def averager(new_value):\n",
    "        series.append(new_value)\n",
    "        return sum(series) / len(series)\n",
    "    \n",
    "    return averager"
   ]
  },
  {
   "cell_type": "code",
   "execution_count": 32,
   "metadata": {},
   "outputs": [
    {
     "name": "stdout",
     "output_type": "stream",
     "text": [
      "10.0\n",
      "10.5\n",
      "11.0\n"
     ]
    }
   ],
   "source": [
    "avg = make_averager()\n",
    "print(avg(10))\n",
    "print(avg(11))\n",
    "print(avg(12))"
   ]
  },
  {
   "cell_type": "markdown",
   "metadata": {},
   "source": [
    "![](https://processon.com/chart_image/5ed9e8cb6376891862196fd6.png)"
   ]
  },
  {
   "cell_type": "markdown",
   "metadata": {},
   "source": [
    "The bindings for series is kept in the `__closure__` attributes of the returned function avg. Each item in `avg.__closure__` to a name in `avg.__code__.co_freevars`. These items are cells, and they have an attribute called `cell_content`"
   ]
  },
  {
   "cell_type": "code",
   "execution_count": 33,
   "metadata": {},
   "outputs": [
    {
     "data": {
      "text/plain": [
       "('new_value',)"
      ]
     },
     "execution_count": 33,
     "metadata": {},
     "output_type": "execute_result"
    }
   ],
   "source": [
    "avg.__code__.co_varnames"
   ]
  },
  {
   "cell_type": "code",
   "execution_count": 34,
   "metadata": {},
   "outputs": [
    {
     "data": {
      "text/plain": [
       "('series',)"
      ]
     },
     "execution_count": 34,
     "metadata": {},
     "output_type": "execute_result"
    }
   ],
   "source": [
    "avg.__code__.co_freevars"
   ]
  },
  {
   "cell_type": "code",
   "execution_count": 38,
   "metadata": {},
   "outputs": [
    {
     "data": {
      "text/plain": [
       "(<cell at 0x10f549708: list object at 0x10f18d588>,)"
      ]
     },
     "execution_count": 38,
     "metadata": {},
     "output_type": "execute_result"
    }
   ],
   "source": [
    "avg.__closure__"
   ]
  },
  {
   "cell_type": "code",
   "execution_count": 37,
   "metadata": {},
   "outputs": [
    {
     "data": {
      "text/plain": [
       "[10, 11, 12]"
      ]
     },
     "execution_count": 37,
     "metadata": {},
     "output_type": "execute_result"
    }
   ],
   "source": [
    "avg.__closure__[0].cell_contents"
   ]
  },
  {
   "cell_type": "code",
   "execution_count": 41,
   "metadata": {},
   "outputs": [
    {
     "data": {
      "text/plain": [
       "3"
      ]
     },
     "execution_count": 41,
     "metadata": {},
     "output_type": "execute_result"
    }
   ],
   "source": [
    "avg.__code__.co_stacksize"
   ]
  },
  {
   "cell_type": "markdown",
   "metadata": {},
   "source": [
    "**To summarize: a closure is a function that retains the bindings of the free variables that exist when the function is defined, so that they can be used later when the function is invoked and the defining scope is no longer available.**"
   ]
  },
  {
   "cell_type": "markdown",
   "metadata": {},
   "source": [
    "## The nonlocal Declaration"
   ]
  },
  {
   "cell_type": "markdown",
   "metadata": {},
   "source": [
    "Our previous implementation of `make_averager` was not efficient. we stored all the values in the historical and computed their sum every time averager was called. A better would just store the total and the number of items, and compute the the mean from these two numbers."
   ]
  },
  {
   "cell_type": "code",
   "execution_count": 48,
   "metadata": {},
   "outputs": [
    {
     "ename": "UnboundLocalError",
     "evalue": "local variable 'count' referenced before assignment",
     "output_type": "error",
     "traceback": [
      "\u001b[0;31m---------------------------------------------------------------------------\u001b[0m",
      "\u001b[0;31mUnboundLocalError\u001b[0m                         Traceback (most recent call last)",
      "\u001b[0;32m<ipython-input-48-19a400d9d187>\u001b[0m in \u001b[0;36m<module>\u001b[0;34m\u001b[0m\n\u001b[1;32m     11\u001b[0m \u001b[0;34m\u001b[0m\u001b[0m\n\u001b[1;32m     12\u001b[0m \u001b[0mavg\u001b[0m \u001b[0;34m=\u001b[0m \u001b[0mmake_averager\u001b[0m\u001b[0;34m(\u001b[0m\u001b[0;34m)\u001b[0m\u001b[0;34m\u001b[0m\u001b[0;34m\u001b[0m\u001b[0m\n\u001b[0;32m---> 13\u001b[0;31m \u001b[0mprint\u001b[0m\u001b[0;34m(\u001b[0m\u001b[0mavg\u001b[0m\u001b[0;34m(\u001b[0m\u001b[0;36m10\u001b[0m\u001b[0;34m)\u001b[0m\u001b[0;34m)\u001b[0m\u001b[0;34m\u001b[0m\u001b[0;34m\u001b[0m\u001b[0m\n\u001b[0m\u001b[1;32m     14\u001b[0m \u001b[0mprint\u001b[0m\u001b[0;34m(\u001b[0m\u001b[0mavg\u001b[0m\u001b[0;34m(\u001b[0m\u001b[0;36m11\u001b[0m\u001b[0;34m)\u001b[0m\u001b[0;34m)\u001b[0m\u001b[0;34m\u001b[0m\u001b[0;34m\u001b[0m\u001b[0m\n\u001b[1;32m     15\u001b[0m \u001b[0mprint\u001b[0m\u001b[0;34m(\u001b[0m\u001b[0mavg\u001b[0m\u001b[0;34m(\u001b[0m\u001b[0;36m12\u001b[0m\u001b[0;34m)\u001b[0m\u001b[0;34m)\u001b[0m\u001b[0;34m\u001b[0m\u001b[0;34m\u001b[0m\u001b[0m\n",
      "\u001b[0;32m<ipython-input-48-19a400d9d187>\u001b[0m in \u001b[0;36maverager\u001b[0;34m(new_value)\u001b[0m\n\u001b[1;32m      4\u001b[0m \u001b[0;34m\u001b[0m\u001b[0m\n\u001b[1;32m      5\u001b[0m     \u001b[0;32mdef\u001b[0m \u001b[0maverager\u001b[0m\u001b[0;34m(\u001b[0m\u001b[0mnew_value\u001b[0m\u001b[0;34m)\u001b[0m\u001b[0;34m:\u001b[0m\u001b[0;34m\u001b[0m\u001b[0;34m\u001b[0m\u001b[0m\n\u001b[0;32m----> 6\u001b[0;31m         \u001b[0mcount\u001b[0m \u001b[0;34m+=\u001b[0m \u001b[0;36m1\u001b[0m\u001b[0;34m\u001b[0m\u001b[0;34m\u001b[0m\u001b[0m\n\u001b[0m\u001b[1;32m      7\u001b[0m         \u001b[0mtotal\u001b[0m \u001b[0;34m+=\u001b[0m \u001b[0mnew_value\u001b[0m\u001b[0;34m\u001b[0m\u001b[0;34m\u001b[0m\u001b[0m\n\u001b[1;32m      8\u001b[0m         \u001b[0;32mreturn\u001b[0m \u001b[0mtotal\u001b[0m \u001b[0;34m/\u001b[0m \u001b[0mcount\u001b[0m\u001b[0;34m\u001b[0m\u001b[0;34m\u001b[0m\u001b[0m\n",
      "\u001b[0;31mUnboundLocalError\u001b[0m: local variable 'count' referenced before assignment"
     ]
    }
   ],
   "source": [
    "def make_averager():\n",
    "    total = 0\n",
    "    count = 0\n",
    "    \n",
    "    def averager(new_value):\n",
    "        count += 1\n",
    "        total += new_value\n",
    "        return total / count\n",
    "\n",
    "    return averager\n",
    "\n",
    "avg = make_averager()\n",
    "print(avg(10))\n",
    "print(avg(11))\n",
    "print(avg(12))"
   ]
  },
  {
   "cell_type": "markdown",
   "metadata": {},
   "source": [
    "The problem is that the statement `count += 1` actually means the same as `count = count + 1`, when `count` is a number or any immutable type. **So we are actually assigning to `count` in the body of averager, and that makes it a local variable.**"
   ]
  },
  {
   "cell_type": "markdown",
   "metadata": {},
   "source": [
    "We did not have this problem before, because we never assigned to the `series` name; we only called `series.append` and invoked `sum` and `len` on it. So we took advantage of the fact that lists are mutable."
   ]
  },
  {
   "cell_type": "markdown",
   "metadata": {},
   "source": [
    "But with immutable types like numbers, strings, tuples, etc., all you do is read, but never update. If you try to rebind them, as in `count = count + 1`, then you are implicitly creating a local variable count. It is no longer a free variable, and therefor it not saved in the closure."
   ]
  },
  {
   "cell_type": "markdown",
   "metadata": {},
   "source": [
    "To work around this, the `nonlocal` declaration was introduced in Python3. It lets you flag a variable as a free variable even when it is assigned a new value within the function. If a new value is assigned to a nonlocal variable, the binding stored in the closure is changed."
   ]
  },
  {
   "cell_type": "code",
   "execution_count": 50,
   "metadata": {},
   "outputs": [
    {
     "name": "stdout",
     "output_type": "stream",
     "text": [
      "10.0\n",
      "10.5\n",
      "11.0\n"
     ]
    }
   ],
   "source": [
    "def make_averager():\n",
    "    total = 0\n",
    "    count = 0\n",
    "    \n",
    "    def averager(new_value):\n",
    "        nonlocal total, count\n",
    "        count += 1\n",
    "        total += new_value\n",
    "        return total / count\n",
    "\n",
    "    return averager\n",
    "\n",
    "avg = make_averager()\n",
    "print(avg(10))\n",
    "print(avg(11))\n",
    "print(avg(12))"
   ]
  },
  {
   "cell_type": "markdown",
   "metadata": {},
   "source": [
    "## Implementing a Simple Decorator"
   ]
  },
  {
   "cell_type": "code",
   "execution_count": 3,
   "metadata": {},
   "outputs": [],
   "source": [
    "import time"
   ]
  },
  {
   "cell_type": "code",
   "execution_count": 2,
   "metadata": {},
   "outputs": [],
   "source": [
    "def clock(func):\n",
    "    def clocked(*args, **kwargs):\n",
    "        t0 = time.perf_counter()\n",
    "        result = func(*args, **kwargs)\n",
    "        elapsed = time.perf_counter() - t0\n",
    "        print('call %s(%s) [%.8fs]' % (func.__name__, ' '.join(str(arg) for arg in args), elapsed))\n",
    "        \n",
    "        return result\n",
    "    \n",
    "    return clocked"
   ]
  },
  {
   "cell_type": "code",
   "execution_count": 30,
   "metadata": {},
   "outputs": [],
   "source": [
    "@clock\n",
    "def factorial(n):\n",
    "    return n * factorial(n-1) if n > 2 else 1"
   ]
  },
  {
   "cell_type": "code",
   "execution_count": 32,
   "metadata": {},
   "outputs": [
    {
     "name": "stdout",
     "output_type": "stream",
     "text": [
      "call factorial(2) [0.00000058s]\n",
      "call factorial(3) [0.00004363s]\n",
      "call factorial(4) [0.00005924s]\n",
      "call factorial(5) [0.00016306s]\n",
      "call factorial(6) [0.00020468s]\n",
      "call factorial(7) [0.00022145s]\n",
      "call factorial(8) [0.00038424s]\n",
      "call factorial(9) [0.00040620s]\n",
      "call factorial(10) [0.00042098s]\n",
      "call factorial(11) [0.00043818s]\n",
      "call factorial(12) [0.00045339s]\n",
      "call factorial(13) [0.00047141s]\n",
      "call factorial(14) [0.00048551s]\n",
      "call factorial(15) [0.00052185s]\n"
     ]
    },
    {
     "data": {
      "text/plain": [
       "653837184000"
      ]
     },
     "execution_count": 32,
     "metadata": {},
     "output_type": "execute_result"
    }
   ],
   "source": [
    "factorial(15)"
   ]
  },
  {
   "cell_type": "markdown",
   "metadata": {},
   "source": [
    "### How it works"
   ]
  },
  {
   "cell_type": "code",
   "execution_count": 33,
   "metadata": {},
   "outputs": [],
   "source": [
    "@clock\n",
    "def factorial(n):\n",
    "    return n * factorial(n-1) if n > 2 else 1"
   ]
  },
  {
   "cell_type": "markdown",
   "metadata": {},
   "source": [
    "Actually does this:"
   ]
  },
  {
   "cell_type": "code",
   "execution_count": 36,
   "metadata": {},
   "outputs": [
    {
     "data": {
      "text/plain": [
       "<function __main__.clock.<locals>.clocked(*args, **kwargs)>"
      ]
     },
     "execution_count": 36,
     "metadata": {},
     "output_type": "execute_result"
    }
   ],
   "source": [
    "def factorial(n):\n",
    "    return n * factorial(n-1) if n > 2 else 1\n",
    "\n",
    "factorial = clock(factorial)\n",
    "factorial"
   ]
  },
  {
   "cell_type": "markdown",
   "metadata": {},
   "source": [
    "`clock` gets the `factorial` function as its function argument. It then creates and returns the clocked function. The `factorial` now actually holds a reference to the clocked function. Each time `factorial(n)` is called, `clocked(n)` get executed."
   ]
  },
  {
   "cell_type": "markdown",
   "metadata": {},
   "source": [
    "This is a typical hehavior of a decorator: it replaces the decorated function with a new function that accepts the same argument and return whatever the decorated function was supposed to return, while doing some extra processing."
   ]
  },
  {
   "cell_type": "markdown",
   "metadata": {},
   "source": [
    "## Decorator in the Standard Library"
   ]
  },
  {
   "cell_type": "markdown",
   "metadata": {},
   "source": [
    "Python has three built-in functions that designed to decorate mothods: `property`, `classmethod` and `staticmethod`. Another frequently seen decorator is `functools.wraps`, a helper for building well-behavior decorators. Two of the most interesting decorators is the standard library `lru_cache` and the brand-new `singledispatch`."
   ]
  },
  {
   "cell_type": "markdown",
   "metadata": {},
   "source": [
    "### Memoization with `functools.lru_cache`"
   ]
  },
  {
   "cell_type": "markdown",
   "metadata": {},
   "source": [
    "A very practical decorator is `functools.lru_cache`. It implements memoization: an optimization technique that works by saving the results of provious invocations of an expensive function, avoid repeat computations on previously used arguments. The letters LRU stand for Least Recently Used, meaning that the growth of the cache is limited by discarding the entries that have not been read for a while."
   ]
  },
  {
   "cell_type": "code",
   "execution_count": 52,
   "metadata": {},
   "outputs": [],
   "source": [
    "@clock\n",
    "def fibnacci(n):\n",
    "    if n < 2:\n",
    "        return 1\n",
    "    else:\n",
    "        return fibnacci(n-1) + fibnacci(n-2)"
   ]
  },
  {
   "cell_type": "code",
   "execution_count": 53,
   "metadata": {},
   "outputs": [
    {
     "name": "stdout",
     "output_type": "stream",
     "text": [
      "call fibnacci(1) [0.00000044s]\n",
      "call fibnacci(0) [0.00000059s]\n",
      "call fibnacci(2) [0.00022436s]\n",
      "call fibnacci(1) [0.00000089s]\n",
      "call fibnacci(3) [0.00031287s]\n",
      "call fibnacci(1) [0.00000034s]\n",
      "call fibnacci(0) [0.00000073s]\n",
      "call fibnacci(2) [0.00008582s]\n",
      "call fibnacci(4) [0.00043522s]\n",
      "call fibnacci(1) [0.00000029s]\n",
      "call fibnacci(0) [0.00000035s]\n",
      "call fibnacci(2) [0.00003601s]\n",
      "call fibnacci(1) [0.00000042s]\n",
      "call fibnacci(3) [0.00007202s]\n",
      "call fibnacci(5) [0.00054500s]\n",
      "call fibnacci(1) [0.00000026s]\n",
      "call fibnacci(0) [0.00000039s]\n",
      "call fibnacci(2) [0.00003837s]\n",
      "call fibnacci(1) [0.00000044s]\n",
      "call fibnacci(3) [0.00007421s]\n",
      "call fibnacci(1) [0.00000026s]\n",
      "call fibnacci(0) [0.00000030s]\n",
      "call fibnacci(2) [0.00003731s]\n",
      "call fibnacci(4) [0.00014749s]\n",
      "call fibnacci(6) [0.00072828s]\n",
      "call fibnacci(1) [0.00000027s]\n",
      "call fibnacci(0) [0.00000028s]\n",
      "call fibnacci(2) [0.00003552s]\n",
      "call fibnacci(1) [0.00000053s]\n",
      "call fibnacci(3) [0.00007058s]\n",
      "call fibnacci(1) [0.00000025s]\n",
      "call fibnacci(0) [0.00000027s]\n",
      "call fibnacci(2) [0.00003556s]\n",
      "call fibnacci(4) [0.00014371s]\n",
      "call fibnacci(1) [0.00000025s]\n",
      "call fibnacci(0) [0.00000030s]\n",
      "call fibnacci(2) [0.00003570s]\n",
      "call fibnacci(1) [0.00000030s]\n",
      "call fibnacci(3) [0.00007080s]\n",
      "call fibnacci(5) [0.00024981s]\n",
      "call fibnacci(7) [0.00101564s]\n",
      "call fibnacci(1) [0.00000025s]\n",
      "call fibnacci(0) [0.00000041s]\n",
      "call fibnacci(2) [0.00003512s]\n",
      "call fibnacci(1) [0.00000032s]\n",
      "call fibnacci(3) [0.00007260s]\n",
      "call fibnacci(1) [0.00000035s]\n",
      "call fibnacci(0) [0.00000042s]\n",
      "call fibnacci(2) [0.00003568s]\n",
      "call fibnacci(4) [0.00014475s]\n",
      "call fibnacci(1) [0.00000039s]\n",
      "call fibnacci(0) [0.00000043s]\n",
      "call fibnacci(2) [0.00004767s]\n",
      "call fibnacci(1) [0.00000036s]\n",
      "call fibnacci(3) [0.00008048s]\n",
      "call fibnacci(5) [0.00035947s]\n",
      "call fibnacci(1) [0.00000030s]\n",
      "call fibnacci(0) [0.00000027s]\n",
      "call fibnacci(2) [0.00004246s]\n",
      "call fibnacci(1) [0.00000034s]\n",
      "call fibnacci(3) [0.00006968s]\n",
      "call fibnacci(1) [0.00000026s]\n",
      "call fibnacci(0) [0.00000030s]\n",
      "call fibnacci(2) [0.00003470s]\n",
      "call fibnacci(4) [0.00014040s]\n",
      "call fibnacci(6) [0.00053756s]\n",
      "call fibnacci(8) [0.00158768s]\n",
      "call fibnacci(1) [0.00000029s]\n",
      "call fibnacci(0) [0.00000027s]\n",
      "call fibnacci(2) [0.00003432s]\n",
      "call fibnacci(1) [0.00000034s]\n",
      "call fibnacci(3) [0.00006722s]\n",
      "call fibnacci(1) [0.00000027s]\n",
      "call fibnacci(0) [0.00000030s]\n",
      "call fibnacci(2) [0.00003380s]\n",
      "call fibnacci(4) [0.00013357s]\n",
      "call fibnacci(1) [0.00000027s]\n",
      "call fibnacci(0) [0.00000030s]\n",
      "call fibnacci(2) [0.00003333s]\n",
      "call fibnacci(1) [0.00000044s]\n",
      "call fibnacci(3) [0.00026731s]\n",
      "call fibnacci(5) [0.00043384s]\n",
      "call fibnacci(1) [0.00000027s]\n",
      "call fibnacci(0) [0.00000029s]\n",
      "call fibnacci(2) [0.00003419s]\n",
      "call fibnacci(1) [0.00000029s]\n",
      "call fibnacci(3) [0.00007486s]\n",
      "call fibnacci(1) [0.00000034s]\n",
      "call fibnacci(0) [0.00000030s]\n",
      "call fibnacci(2) [0.00004230s]\n",
      "call fibnacci(4) [0.00015196s]\n",
      "call fibnacci(6) [0.00081331s]\n",
      "call fibnacci(1) [0.00000041s]\n",
      "call fibnacci(0) [0.00000041s]\n",
      "call fibnacci(2) [0.00004448s]\n",
      "call fibnacci(1) [0.00000035s]\n",
      "call fibnacci(3) [0.00011863s]\n",
      "call fibnacci(1) [0.00000052s]\n",
      "call fibnacci(0) [0.00000055s]\n",
      "call fibnacci(2) [0.00005144s]\n",
      "call fibnacci(4) [0.00025018s]\n",
      "call fibnacci(1) [0.00000027s]\n",
      "call fibnacci(0) [0.00000030s]\n",
      "call fibnacci(2) [0.00003494s]\n",
      "call fibnacci(1) [0.00000032s]\n",
      "call fibnacci(3) [0.00006931s]\n",
      "call fibnacci(5) [0.00035749s]\n",
      "call fibnacci(7) [0.00143968s]\n",
      "call fibnacci(9) [0.00306082s]\n",
      "call fibnacci(1) [0.00000034s]\n",
      "call fibnacci(0) [0.00000034s]\n",
      "call fibnacci(2) [0.00003247s]\n",
      "call fibnacci(1) [0.00000030s]\n",
      "call fibnacci(3) [0.00005948s]\n",
      "call fibnacci(1) [0.00000024s]\n",
      "call fibnacci(0) [0.00000029s]\n",
      "call fibnacci(2) [0.00002535s]\n",
      "call fibnacci(4) [0.00011263s]\n",
      "call fibnacci(1) [0.00000025s]\n",
      "call fibnacci(0) [0.00000028s]\n",
      "call fibnacci(2) [0.00003213s]\n",
      "call fibnacci(1) [0.00000032s]\n",
      "call fibnacci(3) [0.00006393s]\n",
      "call fibnacci(5) [0.00021131s]\n",
      "call fibnacci(1) [0.00000030s]\n",
      "call fibnacci(0) [0.00000028s]\n",
      "call fibnacci(2) [0.00003230s]\n",
      "call fibnacci(1) [0.00000029s]\n",
      "call fibnacci(3) [0.00006445s]\n",
      "call fibnacci(1) [0.00000026s]\n",
      "call fibnacci(0) [0.00000030s]\n",
      "call fibnacci(2) [0.00003265s]\n",
      "call fibnacci(4) [0.00012888s]\n",
      "call fibnacci(6) [0.00037297s]\n",
      "call fibnacci(1) [0.00000025s]\n",
      "call fibnacci(0) [0.00000027s]\n",
      "call fibnacci(2) [0.00003226s]\n",
      "call fibnacci(1) [0.00000026s]\n",
      "call fibnacci(3) [0.00006476s]\n",
      "call fibnacci(1) [0.00000027s]\n",
      "call fibnacci(0) [0.00000027s]\n",
      "call fibnacci(2) [0.00003240s]\n",
      "call fibnacci(4) [0.00012869s]\n",
      "call fibnacci(1) [0.00000042s]\n",
      "call fibnacci(0) [0.00000054s]\n",
      "call fibnacci(2) [0.00005571s]\n",
      "call fibnacci(1) [0.00000039s]\n",
      "call fibnacci(3) [0.00021883s]\n",
      "call fibnacci(5) [0.00055047s]\n",
      "call fibnacci(7) [0.00095242s]\n",
      "call fibnacci(1) [0.00000031s]\n",
      "call fibnacci(0) [0.00000036s]\n",
      "call fibnacci(2) [0.00002900s]\n",
      "call fibnacci(1) [0.00000033s]\n",
      "call fibnacci(3) [0.00005735s]\n",
      "call fibnacci(1) [0.00000028s]\n",
      "call fibnacci(0) [0.00000028s]\n",
      "call fibnacci(2) [0.00003273s]\n",
      "call fibnacci(4) [0.00012235s]\n",
      "call fibnacci(1) [0.00000025s]\n",
      "call fibnacci(0) [0.00000026s]\n",
      "call fibnacci(2) [0.00003241s]\n",
      "call fibnacci(1) [0.00000030s]\n",
      "call fibnacci(3) [0.00006402s]\n",
      "call fibnacci(5) [0.00021810s]\n",
      "call fibnacci(1) [0.00000026s]\n",
      "call fibnacci(0) [0.00000027s]\n",
      "call fibnacci(2) [0.00003226s]\n",
      "call fibnacci(1) [0.00000030s]\n",
      "call fibnacci(3) [0.00006426s]\n",
      "call fibnacci(1) [0.00000026s]\n",
      "call fibnacci(0) [0.00000031s]\n",
      "call fibnacci(2) [0.00003182s]\n",
      "call fibnacci(4) [0.00012750s]\n",
      "call fibnacci(6) [0.00045310s]\n",
      "call fibnacci(8) [0.00143825s]\n",
      "call fibnacci(10) [0.00452661s]\n",
      "CPU times: user 4.27 ms, sys: 2.47 ms, total: 6.74 ms\n",
      "Wall time: 4.55 ms\n"
     ]
    },
    {
     "data": {
      "text/plain": [
       "89"
      ]
     },
     "execution_count": 53,
     "metadata": {},
     "output_type": "execute_result"
    }
   ],
   "source": [
    "%time fibnacci(10)"
   ]
  },
  {
   "cell_type": "code",
   "execution_count": 45,
   "metadata": {},
   "outputs": [],
   "source": [
    "from functools import lru_cache"
   ]
  },
  {
   "cell_type": "code",
   "execution_count": 55,
   "metadata": {},
   "outputs": [],
   "source": [
    "\n",
    "@lru_cache(2**10)\n",
    "@clock\n",
    "def fibnacci(n):\n",
    "    if n < 2:\n",
    "        return 1\n",
    "    else:\n",
    "        return fibnacci(n-1) + fibnacci(n-2)"
   ]
  },
  {
   "cell_type": "code",
   "execution_count": 56,
   "metadata": {},
   "outputs": [
    {
     "name": "stdout",
     "output_type": "stream",
     "text": [
      "call fibnacci(1) [0.00000055s]\n",
      "call fibnacci(0) [0.00000065s]\n",
      "call fibnacci(2) [0.00023616s]\n",
      "call fibnacci(3) [0.00031510s]\n",
      "call fibnacci(4) [0.00034961s]\n",
      "call fibnacci(5) [0.00037067s]\n",
      "call fibnacci(6) [0.00039164s]\n",
      "call fibnacci(7) [0.00041054s]\n",
      "call fibnacci(8) [0.00043281s]\n",
      "call fibnacci(9) [0.00044737s]\n",
      "call fibnacci(10) [0.00046146s]\n",
      "CPU times: user 493 µs, sys: 427 µs, total: 920 µs\n",
      "Wall time: 514 µs\n"
     ]
    },
    {
     "data": {
      "text/plain": [
       "89"
      ]
     },
     "execution_count": 56,
     "metadata": {},
     "output_type": "execute_result"
    }
   ],
   "source": [
    "%time fibnacci(10)"
   ]
  },
  {
   "cell_type": "markdown",
   "metadata": {},
   "source": [
    "### Generic Function with Single Dispatch"
   ]
  },
  {
   "cell_type": "code",
   "execution_count": 58,
   "metadata": {},
   "outputs": [],
   "source": [
    "import html\n",
    "\n",
    "\n",
    "def htmlize(obj):\n",
    "    content = html.escape(repr(obj))\n",
    "    return '<pre>{}</pre>'.format(content)"
   ]
  },
  {
   "cell_type": "code",
   "execution_count": 60,
   "metadata": {},
   "outputs": [
    {
     "data": {
      "text/plain": [
       "'<pre>{1, 2, 3}</pre>'"
      ]
     },
     "execution_count": 60,
     "metadata": {},
     "output_type": "execute_result"
    }
   ],
   "source": [
    "htmlize({1, 2, 3})"
   ]
  },
  {
   "cell_type": "code",
   "execution_count": 61,
   "metadata": {},
   "outputs": [
    {
     "data": {
      "text/plain": [
       "'<pre>&lt;built-in function abs&gt;</pre>'"
      ]
     },
     "execution_count": 61,
     "metadata": {},
     "output_type": "execute_result"
    }
   ],
   "source": [
    "htmlize(abs)"
   ]
  },
  {
   "cell_type": "code",
   "execution_count": 62,
   "metadata": {},
   "outputs": [
    {
     "data": {
      "text/plain": [
       "'<pre>42</pre>'"
      ]
     },
     "execution_count": 62,
     "metadata": {},
     "output_type": "execute_result"
    }
   ],
   "source": [
    "htmlize(42)"
   ]
  },
  {
   "cell_type": "markdown",
   "metadata": {},
   "source": [
    "Because we don't have method or function overloading in Python, we can't create variable of `htmlize` with different  signatures for each type we want to handle differently."
   ]
  },
  {
   "cell_type": "markdown",
   "metadata": {},
   "source": [
    "The new `functools.singledispatch` decorator in Python3.4 allows each module to contribute to the overall solution, and lets you easily provide specialized function even for classes that you can't edit. If you decorate a plain function with `@singledispatch`, it becomes a generic function: a group of functions to perform the same operation in different ways, depending on the type of the first argument."
   ]
  },
  {
   "cell_type": "code",
   "execution_count": 65,
   "metadata": {},
   "outputs": [],
   "source": [
    "import html\n",
    "import numbers\n",
    "import collections\n",
    "from functools import singledispatch"
   ]
  },
  {
   "cell_type": "code",
   "execution_count": 67,
   "metadata": {},
   "outputs": [],
   "source": [
    "@singledispatch\n",
    "def htmlize(obj):\n",
    "    content = html.escape(obj)\n",
    "    return '<pre>{}</pre>'.format(content)"
   ]
  },
  {
   "cell_type": "code",
   "execution_count": 68,
   "metadata": {},
   "outputs": [],
   "source": [
    "@htmlize.register(str)\n",
    "def _(text):\n",
    "    content = html.escape(text).replace('\\n', '<br>\\n')\n",
    "    return '<p>{0}</p>'.format(content)"
   ]
  },
  {
   "cell_type": "code",
   "execution_count": 69,
   "metadata": {},
   "outputs": [],
   "source": [
    "@htmlize.register(numbers.Integral)\n",
    "def _(n):\n",
    "    return '<pre>{0} (0x{0:x})</pre>'.format(n)"
   ]
  },
  {
   "cell_type": "code",
   "execution_count": 70,
   "metadata": {},
   "outputs": [],
   "source": [
    "@htmlize.register(tuple)\n",
    "@htmlize.register(collections.abc.MutableSequence)\n",
    "def _(seq):\n",
    "    inner = '<li>\\n</li>'.join(htmlize(item) for item in seq)\n",
    "    return '<ul>\\n</ul>' + inner + '<li>\\n</li>'"
   ]
  },
  {
   "cell_type": "markdown",
   "metadata": {},
   "source": [
    "> Using ABCs for type checking allows your code to support existing or future classes that are either actual or virutal subclass of those ABCs."
   ]
  },
  {
   "cell_type": "markdown",
   "metadata": {},
   "source": [
    "A notable quality of the singledispatch mechanism is that you can register specialized functions anywhere in the system, in any module. If you later add a module with a new used-defined type, you can easily provide a new custom function to handle that type."
   ]
  },
  {
   "cell_type": "markdown",
   "metadata": {},
   "source": [
    "`singledispatch` is a well-thought-out addition to the standard library. The best documentation for it is [PEP443-Single-Dispatch generic function](https://www.python.org/dev/peps/pep-0443/)"
   ]
  },
  {
   "cell_type": "markdown",
   "metadata": {},
   "source": [
    "> `@singledispatch` is not designed to bring JAVA-style method overloading to Python. A single class with many overload varations of a method is better than a single function with lengthy stretch of `if/elif/elif/elfi` block. The advantage of `@singledispatch` is supporting modular extension: each module can register a specialized function  for each type it supports."
   ]
  },
  {
   "cell_type": "markdown",
   "metadata": {},
   "source": [
    "## Stacked Decorators"
   ]
  },
  {
   "cell_type": "code",
   "execution_count": 1,
   "metadata": {},
   "outputs": [],
   "source": [
    "from functools import lru_cache"
   ]
  },
  {
   "cell_type": "code",
   "execution_count": 4,
   "metadata": {},
   "outputs": [],
   "source": [
    "@lru_cache(2**10)\n",
    "@clock\n",
    "def fibonacci(n):\n",
    "    if n < 2:\n",
    "        return 1\n",
    "\n",
    "    return fibonacci(n-1) + fibonacci(n-2)"
   ]
  },
  {
   "cell_type": "code",
   "execution_count": 5,
   "metadata": {},
   "outputs": [
    {
     "name": "stdout",
     "output_type": "stream",
     "text": [
      "call fibonacci(1) [0.00000044s]\n",
      "call fibonacci(0) [0.00000045s]\n",
      "call fibonacci(2) [0.00008113s]\n",
      "call fibonacci(3) [0.00009889s]\n",
      "call fibonacci(4) [0.00011608s]\n",
      "call fibonacci(5) [0.00013359s]\n",
      "call fibonacci(6) [0.00014942s]\n",
      "call fibonacci(7) [0.00016673s]\n",
      "call fibonacci(8) [0.00018296s]\n",
      "call fibonacci(9) [0.00038154s]\n",
      "call fibonacci(10) [0.00042548s]\n"
     ]
    },
    {
     "data": {
      "text/plain": [
       "89"
      ]
     },
     "execution_count": 5,
     "metadata": {},
     "output_type": "execute_result"
    }
   ],
   "source": [
    "fibonacci(10)"
   ]
  },
  {
   "cell_type": "markdown",
   "metadata": {},
   "source": [
    "## Parameterized Decorators"
   ]
  },
  {
   "cell_type": "markdown",
   "metadata": {},
   "source": [
    "When parsing a decorator in source code, Python takes the decorated function and passes it as the first argument to the decorator function. So how do you make a decorator accept other arguments? The answer is: make a decorator factory that takes those arguments and return a decorator, which is then applied to the function to be decorated."
   ]
  },
  {
   "cell_type": "markdown",
   "metadata": {},
   "source": [
    "### A Parameterized Registration Decorator"
   ]
  },
  {
   "cell_type": "code",
   "execution_count": 6,
   "metadata": {},
   "outputs": [],
   "source": [
    "registry = set()\n",
    "\n",
    "def register(active=True):\n",
    "    def decorate(func):\n",
    "        print('running register(active=%s)->decorate(%s)' % (active, func))\n",
    "        \n",
    "        if active:\n",
    "            registry.add(func)\n",
    "        else:\n",
    "            registry.discard(func)\n",
    "        return func\n",
    "    \n",
    "    return decorate"
   ]
  },
  {
   "cell_type": "code",
   "execution_count": 8,
   "metadata": {},
   "outputs": [
    {
     "name": "stdout",
     "output_type": "stream",
     "text": [
      "running register(active=False)->decorate(<function f1 at 0x10ee2ad08>)\n"
     ]
    }
   ],
   "source": [
    "@register(active=False)\n",
    "def f1():\n",
    "    print('running f1()')"
   ]
  },
  {
   "cell_type": "code",
   "execution_count": 13,
   "metadata": {},
   "outputs": [
    {
     "name": "stdout",
     "output_type": "stream",
     "text": [
      "running register(active=True)->decorate(<function f2 at 0x10ec220d0>)\n"
     ]
    }
   ],
   "source": [
    "@register()\n",
    "def f2():\n",
    "    print('running f2()')"
   ]
  },
  {
   "cell_type": "code",
   "execution_count": 14,
   "metadata": {},
   "outputs": [
    {
     "name": "stdout",
     "output_type": "stream",
     "text": [
      "running f2()\n"
     ]
    }
   ],
   "source": [
    "f2()"
   ]
  },
  {
   "cell_type": "markdown",
   "metadata": {},
   "source": [
    "### The Parameterized Clock Decorator"
   ]
  },
  {
   "cell_type": "code",
   "execution_count": 15,
   "metadata": {},
   "outputs": [],
   "source": [
    "import time"
   ]
  },
  {
   "cell_type": "code",
   "execution_count": 28,
   "metadata": {},
   "outputs": [],
   "source": [
    "DEFAULT_FMT = '[{elapsed:0.8f}s] {name}({args}) -> {result}'\n",
    "\n",
    "def clock(fmt=DEFAULT_FMT):\n",
    "    def decorate(func):\n",
    "        def clocked(*args):\n",
    "            t0 = time.time()\n",
    "            _result = func(*args)\n",
    "            elapsed = time.time() - t0\n",
    "            name = func.__name__\n",
    "            print(fmt.format(elapsed=elapsed, name=name, args=', '.join(repr(arg) for arg in args),\n",
    "                             result=repr(_result)))\n",
    "            return _result\n",
    "        \n",
    "        return clocked\n",
    "    \n",
    "    return decorate"
   ]
  },
  {
   "cell_type": "code",
   "execution_count": 34,
   "metadata": {},
   "outputs": [],
   "source": [
    "@lru_cache(2**10)\n",
    "@clock()\n",
    "def fib(n):\n",
    "    if n < 2:\n",
    "        return 1\n",
    "    return fib(n-1) + fib(n-2)"
   ]
  },
  {
   "cell_type": "code",
   "execution_count": 33,
   "metadata": {},
   "outputs": [
    {
     "name": "stdout",
     "output_type": "stream",
     "text": [
      "[0.00000119s] fib(1) -> 1\n",
      "[0.00000000s] fib(0) -> 1\n",
      "[0.00009322s] fib(2) -> 2\n",
      "[0.00013304s] fib(3) -> 3\n",
      "[0.00015092s] fib(4) -> 5\n",
      "[0.00038600s] fib(5) -> 8\n",
      "[0.00042105s] fib(6) -> 13\n",
      "[0.00045395s] fib(7) -> 21\n",
      "[0.00047374s] fib(8) -> 34\n",
      "[0.00049305s] fib(9) -> 55\n",
      "[0.00050998s] fib(10) -> 89\n"
     ]
    },
    {
     "data": {
      "text/plain": [
       "89"
      ]
     },
     "execution_count": 33,
     "metadata": {},
     "output_type": "execute_result"
    }
   ],
   "source": [
    "fib(10)"
   ]
  },
  {
   "cell_type": "markdown",
   "metadata": {},
   "source": [
    "## Chapter Summary"
   ]
  },
  {
   "cell_type": "markdown",
   "metadata": {},
   "source": [
    "We started with a simple `@register` decorator without a inner function, and finished with a parameterized `@clock` involving two level of nested functions."
   ]
  },
  {
   "cell_type": "markdown",
   "metadata": {},
   "source": [
    "Registration decorators, though simple in essence, have real applications in advanced Python frameworks. We applied the registration idea to an improvements of our strategy design pattern."
   ]
  },
  {
   "cell_type": "markdown",
   "metadata": {},
   "source": [
    "Paramerized decorators almost aways involve at least two nested functions, maybe more if you want to use `@functools.wraps` to produce a decorator that provides better support for more advanced techniques. One such technique is stacked decorators."
   ]
  },
  {
   "cell_type": "markdown",
   "metadata": {},
   "source": [
    "We also visited two awesome functions decorators provided in the functools module of standard library: `@lru_cache` and `@singledispatch`."
   ]
  },
  {
   "cell_type": "markdown",
   "metadata": {},
   "source": [
    "Understanding how decorators actually work required covering the difference between `import time` and `runtime`, then diving into variable scoping, closures, and the new `nonlocal` declaration. Mastering closures and nonlocal is valuable not only to build decorators, but also to code event-oriented programs for GUIs or asychronous I/O with callbacks."
   ]
  },
  {
   "cell_type": "markdown",
   "metadata": {},
   "source": [
    "## Futher Reading"
   ]
  },
  {
   "cell_type": "markdown",
   "metadata": {},
   "source": [
    "**Python Decorators and the Decorator Design Pattern**"
   ]
  },
  {
   "cell_type": "markdown",
   "metadata": {},
   "source": [
    "Python function decorator fit the general description of Decorator given by `Design Pattern`: \"attatch additional responsibilites to an object dynamically. Decorator provide a flexible alternative to subclassing for exetending functionality.\""
   ]
  },
  {
   "cell_type": "markdown",
   "metadata": {},
   "source": [
    "At the implementation level, Python decorators do not resemble the classic Decorator design pattern, but an analogy can be made."
   ]
  },
  {
   "cell_type": "markdown",
   "metadata": {},
   "source": [
    "In the design pattern, Decorator and Component are abstract class. An instance of a concrete decorator wraps an instance of a concrete component in order to add behaviors to it. Quoting from *Design Pattern*:"
   ]
  },
  {
   "cell_type": "markdown",
   "metadata": {},
   "source": [
    "```\n",
    "The decorator conforms to the interface of the component it decorates so that its presence is transparent to the component's clients. The decorator forwards requests to the component and may perform additional actions before or after forwarding.\n",
    "```"
   ]
  },
  {
   "cell_type": "markdown",
   "metadata": {},
   "source": [
    "In Python, the decorator function plays the role of a concrete Decorator subclass, and the inner function it returns is a decorator instance. The returnd functions wraps the function to be decorated, which is analogous to the component in the design pattern. The returned function is transparent because it conforms to the interface of the component by accepting the same arguments. It forwards calls to the component and may perform additional actions either before or after it. Borrowing from the previous citation, we can adapt the last sentence to say that \"Transparency lets you nest decorators recusively, thereby allowing an unlimited number of added behaviors.\" That is what enable stacked decorator to work."
   ]
  }
 ],
 "metadata": {
  "kernelspec": {
   "display_name": "Python 3",
   "language": "python",
   "name": "python3"
  },
  "language_info": {
   "codemirror_mode": {
    "name": "ipython",
    "version": 3
   },
   "file_extension": ".py",
   "mimetype": "text/x-python",
   "name": "python",
   "nbconvert_exporter": "python",
   "pygments_lexer": "ipython3",
   "version": "3.7.3"
  },
  "toc": {
   "base_numbering": 1,
   "nav_menu": {},
   "number_sections": true,
   "sideBar": true,
   "skip_h1_title": false,
   "title_cell": "Table of Contents",
   "title_sidebar": "Contents",
   "toc_cell": false,
   "toc_position": {},
   "toc_section_display": true,
   "toc_window_display": false
  }
 },
 "nbformat": 4,
 "nbformat_minor": 4
}
