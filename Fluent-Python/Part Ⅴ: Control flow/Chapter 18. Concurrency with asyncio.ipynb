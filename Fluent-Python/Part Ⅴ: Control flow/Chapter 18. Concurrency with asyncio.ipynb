{
 "cells": [
  {
   "cell_type": "markdown",
   "metadata": {},
   "source": [
    "**Concurrency with asyncio**"
   ]
  },
  {
   "cell_type": "markdown",
   "metadata": {},
   "source": [
    "    Concurrency is about dealing with lots of things at once.\n",
    "    Parallelism is about doing lots of things at once.\n",
    "    Not the same, but related.\n",
    "    One is about structure, one is about execution.\n",
    "    Concurrency provides a way to structure a solution to solve a problem that may (but not necessarily) be parallelizable.\n",
    "    \n",
    "    -- Rob Pike"
   ]
  },
  {
   "cell_type": "markdown",
   "metadata": {},
   "source": [
    "**Professor Imre Simon liked to say there are tow major sins in science: using different words  to mean the same thing and using one word to mean different things.** If you do any research on concurrent or parallel programming you will find different definitions for \"concurrency\" and \"parallelism\"."
   ]
  },
  {
   "cell_type": "markdown",
   "metadata": {},
   "source": [
    "For real parallelism, you must have multiple cores. A modern laptop has four CPU cores but it running more than 100 processes at any given time under normal. So in practice, most processing happens concurrently and not in parallel. The computer is constantly dealing with 100+ processes, making sure each has an opptotunity to make progress, even if the CPU itself can't do more than four thing at once. That's why Rob Pibke titled tat talkl \"Concurrency Is Not Parallelism\"."
   ]
  },
  {
   "cell_type": "markdown",
   "metadata": {},
   "source": [
    "This chapter introduces `asyncio`, a package that implements concurrency with coroutines driven by an event loop. Guido van Rossum developed `asyncio` outside of the Python repository and gave the project a code name of \"Tulip\"."
   ]
  },
  {
   "cell_type": "markdown",
   "metadata": {},
   "source": [
    "Tulip was renamed to `asyncio` when it was added to the standard library in Python 3.4. Becuase it uses `yield from` expression extensively, `asyncio` is incompatible with old version of Python."
   ]
  },
  {
   "cell_type": "markdown",
   "metadata": {},
   "source": [
    "In this chapter we'll see:\n",
    "\n",
    "* A comparison between a simple threaded program and the asyncio equivalent, showing the relationship between threads and asynchronous tasks\n",
    "* How the `asyncio.Future` differs from the `concurrent.futures.Future`\n",
    "* Asynchronous versions of the flag download examples\n",
    "* How asynchronous programming manages high concurrency in network applications, without using threads or processes\n",
    "* How coroutines are a major improvement over callbacks for asynchronous programming\n",
    "* **How to avoid blocking the event loop by offloading blocking operations to a thread pool**\n",
    "* Writing `asyncio` servers, and how to rethink web application for high concurrency\n",
    "* Why `asyncio` is posied to have a big impact in the Python ecosystem."
   ]
  },
  {
   "cell_type": "markdown",
   "metadata": {},
   "source": [
    "# Thread Versus Coroutine: A Comparison"
   ]
  },
  {
   "cell_type": "code",
   "execution_count": 19,
   "metadata": {},
   "outputs": [],
   "source": [
    "import sys\n",
    "import time\n",
    "import threading\n",
    "import itertools\n",
    "\n",
    "class Signal:\n",
    "    go = True\n",
    "\n",
    "def spin(msg, signal):\n",
    "    write, flush = sys.stdout.write, sys.stdout.flush\n",
    "    \n",
    "    for char in itertools.cycle('|/-\\\\'):\n",
    "        status = char + ' ' + msg\n",
    "        write(status)\n",
    "        flush()\n",
    "        write('\\x08' * len(status))\n",
    "        time.sleep(.1)\n",
    "        if not signal.go:\n",
    "            break\n",
    "    \n",
    "    write(' ' * len(status) + '\\x08' * len(status))\n",
    "\n",
    "def slow_function():\n",
    "    time.sleep(3)\n",
    "    return 42\n",
    "\n",
    "def supervisor():\n",
    "    signal = Signal()\n",
    "    spinner = threading.Thread(target=spin, args=('thinking', signal))\n",
    "    print('spinner object:', spinner)\n",
    "    \n",
    "    spinner.start()\n",
    "    result = slow_function()\n",
    "    signal.go = False\n",
    "    spinner.join()\n",
    "    return result\n",
    "\n",
    "# result = supervisor()\n",
    "# print('Answer:', result)"
   ]
  },
  {
   "cell_type": "markdown",
   "metadata": {},
   "source": [
    "Animating a text spinner with a coroutine"
   ]
  },
  {
   "cell_type": "code",
   "execution_count": 32,
   "metadata": {},
   "outputs": [],
   "source": [
    "import sys\n",
    "import asyncio\n",
    "import itertools\n",
    "\n",
    "\n",
    "@asyncio.coroutine\n",
    "def spin(msg):\n",
    "    write, flush = sys.stdout.write, sys.stdout.flush\n",
    "    \n",
    "    for char in itertools.cycle('|/-\\\\'):\n",
    "        status = char + ' ' + msg\n",
    "        write(status)\n",
    "        flush()\n",
    "        write('\\x08' * len(status))\n",
    "        \n",
    "        try:\n",
    "            yield from asyncio.sleep(.1)\n",
    "        except asyncio.CancelledError:\n",
    "            break\n",
    "    \n",
    "    write(' ' * len(status) + '\\x08' * len(status))\n",
    "\n",
    "@asyncio.coroutine\n",
    "def slow_function():\n",
    "    yield from asyncio.sleep(3)\n",
    "    return 42\n",
    "\n",
    "@asyncio.coroutine\n",
    "def supervisor():\n",
    "    spinner = asyncio.create_task(spin('thinking!'))\n",
    "    print('spinner object:', spinner)\n",
    "    result = yield from slow_function()\n",
    "    spinner.cancel()\n",
    "    return result\n",
    "\n",
    "# loop = asyncio.get_event_loop()\n",
    "# result = loop.run_until_complete(supervisor())\n",
    "# loop.close()\n",
    "# print('Answer:', result)"
   ]
  },
  {
   "cell_type": "markdown",
   "metadata": {},
   "source": [
    "Here is a summary of the main differences to note between two supervisor impelmentations:\n",
    "\n",
    "* An `asyncio.Task` is roughly the equivalent of a `threading.Thread`. \"a Task like a green thread in libraries that implement cooperative multitasking, such as gevent\".\n",
    "* A Task drives a coroutine, and a Thread invokes a callable.\n",
    "* You don't instantiate Task objects youself, you get them by passing a coroutine to `loop.create_task(...)`.\n",
    "* When you get a Task object, it is already scheduled to run; a Thread instance must be explicitly told to run by calling its start method.\n",
    "* In the threaded supervisor, the `slow_function` is a plain function and is directly invoked by the thread. In the asyncio supervisor, `slow_function` is a courotuine driven by yield from.\n",
    "* There's no API to terminate a thread from the outside. For tasks, there is the `Task.cancel` instance method, which raises CancelledError inside the coroutine. The coroutine can deal with this by catching the exception in the yield where it's suspended.\n",
    "* The supervisor coroutine must be executed with loop.run_until_complete in the main function."
   ]
  },
  {
   "cell_type": "markdown",
   "metadata": {},
   "source": [
    "One final point related threads veruss coroutine: if you've done any nontrivial programming with threads, you know how challenging it is to reason about the program because the scheduler can interrupt a thread at any time. You must remember to hold locks to protect the critical sections of your program, to avoid getting interrupted in the middle of  a multistep operation - which could leave data in an invalid state."
   ]
  },
  {
   "cell_type": "markdown",
   "metadata": {},
   "source": [
    "With coroutines, everything is protected against interruption by default. You must explictly yield to let the rest of the program run. Instead of holding to synchronize the operations of multiple threads, you have coroutine that are \"synchronized\" by defaultion: only one of them is running at any time. And you want to give up control, you use `yield` or `yield from` to give control back to the scheduler. That's why it is possible to safely cancel a coroutine: a coroutine can only be cancelled when it's suspended at a yeild point, so you can perform cleanup by handling the CancelledError exception."
   ]
  },
  {
   "cell_type": "markdown",
   "metadata": {},
   "source": [
    "## asyncio.Future: Nonblocking by Design"
   ]
  },
  {
   "cell_type": "markdown",
   "metadata": {},
   "source": [
    "The `asyncio.Future` and the `concurrent.futures.Future` classes have mostly the same interface, but are implemented differently."
   ]
  },
  {
   "cell_type": "markdown",
   "metadata": {},
   "source": [
    "Futures are created only as the result of scheduling something for execution. In asyncio, `BaseEventLoop.create_task(...)` takes a coroutine, schedules it to run, and returns an asyncio.Task instance - which is also an instance of asyncio.Future, becuase Task is a subclass of Future designed to wrap a coroutine."
   ]
  },
  {
   "cell_type": "markdown",
   "metadata": {},
   "source": [
    "Likes its `concurrent.futures.Future`, the `asyncio.Future` class provides `.done()`, `add_done_callback(...)`, and `.result()` methods, but `.result()` is very different. In `asyncio.Future`, the `.result()` methods takes no arguments, so you can't specify a timeout. Also, if you call `.result()` and the future is not done, it does not block waiting for the result. Instead, an `asyncio.InvalidStateError` is raised."
   ]
  },
  {
   "cell_type": "markdown",
   "metadata": {},
   "source": [
    "Using `yield from` with a future automatically takes care of waiting for it to finish, without blocking the event loop - because in asyncio, yield from is used to give control back to the event loop."
   ]
  },
  {
   "cell_type": "markdown",
   "metadata": {},
   "source": [
    "Note that using yield from with a future is the coroutine equivalent of the functionality offered by `add_done_callback`: instead of triggering a callback, when the delayed operation is done, the event loop sets the result of the future, and the `yield from` expression produces a return value inside our suspended coroutine, allowing ti to resume."
   ]
  },
  {
   "cell_type": "markdown",
   "metadata": {},
   "source": [
    "In summary, because `asyncio.Future` is designed to work with yield form, these methods are often not needed:\n",
    "\n",
    "* **You don't need `my_future.add_done_callback(...)` because you simply put whatever processing you would do after the future is done in the lines that follow `yield from my_future` in your coroutine. That's the big advantage of having coroutines: functions that can be suspeded and resumed.**\n",
    "\n",
    "* **You don't need `my_future.result()` because the value of a yield from  expression on a future is the result(e.g., result = yield from my_future)**\n",
    "\n"
   ]
  },
  {
   "cell_type": "markdown",
   "metadata": {},
   "source": [
    "## Yield from Futures, Takss, and Coroutines"
   ]
  },
  {
   "cell_type": "markdown",
   "metadata": {},
   "source": [
    "In asyncio, there is a close relationship between futures and coroutines because you can get result of an asyncio.Future by yielding from it. This means that `res = yield from foo()` works if foo is a coroutine function or if foo is plain function that return a Future or Task intance."
   ]
  },
  {
   "cell_type": "markdown",
   "metadata": {},
   "source": [
    "In order to execute, a coroutine must be scheduled, and then it's wrapped in an asyncio.Task. "
   ]
  },
  {
   "cell_type": "markdown",
   "metadata": {},
   "source": [
    "# Downloading with asynio and aiohttp"
   ]
  },
  {
   "cell_type": "code",
   "execution_count": 47,
   "metadata": {},
   "outputs": [],
   "source": [
    "import asyncio\n",
    "import aiohttp\n",
    "\n",
    "url_list = ['https://www.baidu.com'] * 10\n",
    "\n",
    "@asyncio.coroutine\n",
    "def download_one(url):\n",
    "    # blocking operations are implemented as coroutine, and your\n",
    "    # code delegates to them via yield from so they run asynchronously.\n",
    "    resp = yield from aiohttp.request('GET', url)\n",
    "    resp_content = yield from resp.read()\n",
    "    return resp_content\n",
    "\n",
    "def download_many(url_list):\n",
    "    # get a reference to the underlying event-loop implementation\n",
    "    loop = asyncio.get_event_loop()\n",
    "\n",
    "    # Build a list generator objects by calling the download_one\n",
    "    todo = [download_one(url) for url in url_list]\n",
    "    \n",
    "    # Despite its name, wait is not a blocking function.\n",
    "    wait_coro = asyncio.wait(todo)\n",
    "    \n",
    "    # Execute the event loop until wait_coro is done, this is\n",
    "    # where the script will block while the event loop runs.\n",
    "    res, _ = loop.run_until_complete(wait_coro)\n",
    "    \n",
    "    # shut down the event loop.\n",
    "    loop.close()\n",
    "    \n",
    "    return len(res)"
   ]
  },
  {
   "cell_type": "markdown",
   "metadata": {},
   "source": [
    "The `asyncio.wait(...)` coroutine accepts an iterable of futures or coroutiness; wait wraps each coroutine in a Task. The end result is that all objects managed by wait become instance of Future. Because it is a coroutine function, calling `wait(...)` returns a coroutine/generator object; this is what the `wait_coro` variable holds. To drive the coroutine, we pass it to `loop.run_until_complete(...)`."
   ]
  },
  {
   "cell_type": "markdown",
   "metadata": {},
   "source": [
    "To summarize: as we use asyncio, our asynchronous code consits of coroutines that are delegating generators driven by asyncio itself and that delegate to asyncio library coroutines - possibly by way of some third-party library such as aiohttp. This arrangement creats pipelines where the asyncio event loop drives - through our coroutine - the library functions that perform the low-level asynchronous I/O."
   ]
  },
  {
   "cell_type": "markdown",
   "metadata": {},
   "source": [
    "# Running Circling Around Blocking Calls"
   ]
  },
  {
   "cell_type": "markdown",
   "metadata": {},
   "source": [
    "Callbacks are the traditional way to implement asychronous calls with low memory overhead. They are a low-level concept, similar to the oldest and most primitive concurrency mechanism  of all: hardware interrupts. Instead of wating for a response, we register a function  to be called when something happens. In this way, every call we make can be nonblocking."
   ]
  },
  {
   "cell_type": "markdown",
   "metadata": {},
   "source": [
    "**When used as coroutine, generators provide an alternative way to do asychronous programming. From the perspective of the event loop, invoking a callback or calling `.send()` on a suspended conroutine is pretty much the same. There is a memory overhead for each suspended coroutine, but it's orders of manitude smaller than the overhead for each thread. And they avoid the dreaded \"callback hell\".**"
   ]
  },
  {
   "cell_type": "markdown",
   "metadata": {},
   "source": [
    "As the asyncio infrastruture gets the first response back, the event loop sends it to the waiting `get_flag` coroutine. As `get_flags` get response, it advances to the next yield from, which calls `resp.read()` and yields control back to the main loop. Other reponses arrive in close succession. As each get_flag returns, the delegating generator download_flag resumes and save the image file."
   ]
  },
  {
   "cell_type": "markdown",
   "metadata": {},
   "source": [
    "# From Callbacks to Futures and Coroutines"
   ]
  },
  {
   "cell_type": "markdown",
   "metadata": {},
   "source": [
    "Event-oriented programming with coroutins requires some effort to master."
   ]
  },
  {
   "cell_type": "markdown",
   "metadata": {},
   "source": [
    "Anyone with some experience in callback-style event-oriented programming knowns the term \"callback hell\": the nesting of callbacks  when one operation depends on the result of the previous operation."
   ]
  },
  {
   "cell_type": "markdown",
   "metadata": {},
   "source": [
    "# Writing asyncio Servers"
   ]
  },
  {
   "cell_type": "markdown",
   "metadata": {},
   "source": [
    "## An asyncio TCP Sever"
   ]
  },
  {
   "cell_type": "markdown",
   "metadata": {},
   "source": [
    "## An aiohttp Web Server"
   ]
  },
  {
   "cell_type": "markdown",
   "metadata": {},
   "source": [
    "## Smater Clients for Better Concurrency"
   ]
  }
 ],
 "metadata": {
  "kernelspec": {
   "display_name": "Python 3",
   "language": "python",
   "name": "python3"
  },
  "language_info": {
   "codemirror_mode": {
    "name": "ipython",
    "version": 3
   },
   "file_extension": ".py",
   "mimetype": "text/x-python",
   "name": "python",
   "nbconvert_exporter": "python",
   "pygments_lexer": "ipython3",
   "version": "3.7.3"
  },
  "toc": {
   "base_numbering": 1,
   "nav_menu": {},
   "number_sections": true,
   "sideBar": true,
   "skip_h1_title": false,
   "title_cell": "Table of Contents",
   "title_sidebar": "Contents",
   "toc_cell": false,
   "toc_position": {
    "height": "calc(100% - 180px)",
    "left": "10px",
    "top": "150px",
    "width": "146.2px"
   },
   "toc_section_display": true,
   "toc_window_display": false
  }
 },
 "nbformat": 4,
 "nbformat_minor": 4
}
