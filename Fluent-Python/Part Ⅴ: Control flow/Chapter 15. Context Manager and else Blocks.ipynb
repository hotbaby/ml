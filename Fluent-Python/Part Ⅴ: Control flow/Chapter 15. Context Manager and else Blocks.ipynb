{
 "cells": [
  {
   "cell_type": "markdown",
   "metadata": {},
   "source": [
    "# Chapter 15. Context Manager and else Blocks"
   ]
  },
  {
   "cell_type": "markdown",
   "metadata": {},
   "source": [
    "Context managers may end up being almost as important as the subroutine itself. Basic has a `with` statement, there are `with` statements in lots of languages. But they don't do the same thing, they all do something very shallow, they save you from repeated dotted lookups, they don't do setup and tear down. The `with` satement is very big deal.\n",
    "\n",
    "-- Raymod hettinger"
   ]
  },
  {
   "cell_type": "markdown",
   "metadata": {},
   "source": [
    "The `with` statement sets up a tempory context and reliably tears it down, under the control of a context manager object. This prevent erros and reduce boilerplate code, making APIs at the same time safer and easier to use. Python programmers are finding lots of uses for with blocks beyond automatic file closing."
   ]
  },
  {
   "cell_type": "markdown",
   "metadata": {},
   "source": [
    "## Do This, Then That: else Blocks Beyond if"
   ]
  },
  {
   "cell_type": "markdown",
   "metadata": {},
   "source": [
    "This is no secret, but it is an underappreciated language feature: the `else` clause can be used not only in `if` statement but also in `for`, `while`, and `try` statements."
   ]
  },
  {
   "cell_type": "markdown",
   "metadata": {},
   "source": [
    "The semantics of `for/else`, `while/else`, and `try/else` are closely related, but very different from `if/else`."
   ]
  },
  {
   "cell_type": "markdown",
   "metadata": {},
   "source": [
    "Here are the rules:\n",
    "\n",
    "`for`\n",
    "    \n",
    "    The `else` block will run only if and when the for loop runs to completion(i.e., not if the for is aborted with a break)\n",
    "    \n",
    "`while`\n",
    "\n",
    "    The else block will run only if and when the while loop exits because the condition become false.(i.e., not when the while is aborted with a break)\n",
    "     \n",
    "`try`\n",
    "\n",
    "    The else block will only run if no exception is raised in the try block. The official docs state: \"Excetpion in the else clause are not handled by the preceding except clause.\""
   ]
  },
  {
   "cell_type": "markdown",
   "metadata": {},
   "source": [
    "> I think `else` is very poor choice for the keyword in all cases except `if`. It implies an excluding alternative, like \"Run this loop, otherwise do that\", but the semantic for `else` in loops is the opposite: \"Run this loop, then do that.\""
   ]
  },
  {
   "cell_type": "markdown",
   "metadata": {},
   "source": [
    "Using `else` with these statements often makes the code easier to read and saves the trouble of settings up control flags or adding extra if statements."
   ]
  },
  {
   "cell_type": "markdown",
   "metadata": {},
   "source": [
    "```python\n",
    "\n",
    "for item in my_list:\n",
    "    if item.flavor == 'banana':\n",
    "        break\n",
    "else:\n",
    "    raise ValueError('No banana flavor found!')\n",
    "\n",
    "```"
   ]
  },
  {
   "cell_type": "markdown",
   "metadata": {},
   "source": [
    "In Python, `try/except` is commonly used for control flow, and not jsut for error handling. There's even an acronym/slogn for that docuemnt in the [official Python glossary](https://docs.python.org/3/glossary.html)"
   ]
  },
  {
   "cell_type": "markdown",
   "metadata": {},
   "source": [
    "## Context Mangers and with Blocks"
   ]
  },
  {
   "cell_type": "markdown",
   "metadata": {},
   "source": [
    "Context manager objects exits to control a `with` statement, just like iterators exits to control a `for` statement."
   ]
  },
  {
   "cell_type": "markdown",
   "metadata": {},
   "source": [
    "The `with` statement was designed to simplify the `try/finally` pattern, which guarantees that some operation is performed after a block of code, even if the block is aborted because of an exception, a return or `sys.exit()` call. The code in the finally clause usually releases a critical resource or restore some previous state that was tempoarily changed."
   ]
  },
  {
   "cell_type": "markdown",
   "metadata": {},
   "source": [
    "Th context manager protocol consists of the `__enter__` and `__exit__` methods. At the start of the with, `__enter__` is invoked on the context manager object. The role of the finnaly clause is played by a call ot `__exit__` on the context manager object at the end of the with block."
   ]
  },
  {
   "cell_type": "code",
   "execution_count": 2,
   "metadata": {},
   "outputs": [],
   "source": [
    "with open('mirror.py', 'w+') as fp:\n",
    "    src = fp.read()"
   ]
  },
  {
   "cell_type": "code",
   "execution_count": 7,
   "metadata": {},
   "outputs": [
    {
     "data": {
      "text/plain": [
       "<_io.TextIOWrapper name='mirror.py' mode='w+' encoding='UTF-8'>"
      ]
     },
     "execution_count": 7,
     "metadata": {},
     "output_type": "execute_result"
    }
   ],
   "source": [
    "fp\n",
    "# the fp variable is still available."
   ]
  },
  {
   "cell_type": "code",
   "execution_count": 8,
   "metadata": {},
   "outputs": [
    {
     "data": {
      "text/plain": [
       "(True, 'UTF-8')"
      ]
     },
     "execution_count": 8,
     "metadata": {},
     "output_type": "execute_result"
    }
   ],
   "source": [
    "fp.closed, fp.encoding\n",
    "\n",
    "# You can read the attributes of the fp object."
   ]
  },
  {
   "cell_type": "code",
   "execution_count": 5,
   "metadata": {},
   "outputs": [],
   "source": [
    "# fp.read(1)\n",
    "# raise exception: I/O operation on closed file."
   ]
  },
  {
   "cell_type": "markdown",
   "metadata": {},
   "source": [
    "The open function returns an instance of `TextIOWrapper`, and its `__enter__` method returns self. But the `__enter__` method may also return some other object instance of the context manager."
   ]
  },
  {
   "cell_type": "markdown",
   "metadata": {},
   "source": [
    "When control flow exits the with block in any way, the `__exit__` method is invoked on the context manager object, **not on whatever is returnd by `__enter__`**"
   ]
  },
  {
   "cell_type": "markdown",
   "metadata": {},
   "source": [
    "The `as` clause of the with statement is optional."
   ]
  },
  {
   "cell_type": "markdown",
   "metadata": {},
   "source": [
    "## Using @contextmanger"
   ]
  },
  {
   "cell_type": "markdown",
   "metadata": {},
   "source": [
    "The `@contextmanager` decorator reduces the boilerplate of creating a context manager: instead of writing a whole class with `__enter__/__exit__` methods, you just implement a generator with a single yield that should produce whatever you want the `__enter__` method to return."
   ]
  },
  {
   "cell_type": "markdown",
   "metadata": {},
   "source": [
    "In a generator decorated with `@contextmanger`, `yield` is used to split the body of the function in two parts: everything before the yield will be executed at the beginning of the while blcok when the interpreter calls `__enter__`; the code after `yield` will run when `__exit__` is called at the end of the block."
   ]
  },
  {
   "cell_type": "code",
   "execution_count": 10,
   "metadata": {},
   "outputs": [],
   "source": [
    "import sys\n",
    "import contextlib"
   ]
  },
  {
   "cell_type": "code",
   "execution_count": 11,
   "metadata": {},
   "outputs": [],
   "source": [
    "@contextlib.contextmanager\n",
    "def looking_glass():\n",
    "    original_write = sys.stdout.write\n",
    "    \n",
    "    def reverse_write(text):\n",
    "        original_write(text[::-1])\n",
    "        \n",
    "    sys.stdout.write = reverse_write\n",
    "    \n",
    "    yield \"ABCDEDF\"\n",
    "\n",
    "    sys.stdout.write = original_write"
   ]
  },
  {
   "cell_type": "code",
   "execution_count": 13,
   "metadata": {},
   "outputs": [
    {
     "name": "stdout",
     "output_type": "stream",
     "text": [
      "FDEDCBA\n"
     ]
    }
   ],
   "source": [
    "with looking_glass() as s:\n",
    "    print(s)"
   ]
  },
  {
   "cell_type": "markdown",
   "metadata": {},
   "source": [
    "Essentially the `contextlib.contextmanager` decorator wraps the function in a class that implements the `__enter__` and `__exit__` methods."
   ]
  },
  {
   "cell_type": "markdown",
   "metadata": {},
   "source": [
    "The `__enter__` method of that class:\n",
    "\n",
    "1. Invoking the generator and holds on to the generator object -- let's call it gen.\n",
    "2. Calls next(gen) to make it run to the yield keyword.\n",
    "3. Returns the value yielded by next(gen), so it can be bound to a target variable in the with/as form."
   ]
  },
  {
   "cell_type": "markdown",
   "metadata": {},
   "source": [
    "When the with block terminates, the `__exit__` method:\n",
    "\n",
    "1. Checks an exception was passed as `exc_type`; if so, `gen.throw(exception)` is invoked, causing the exception to be raised in the yield line inside the generator function body.\n",
    "2. Otherwise, next(gen) is called, resuming the execution of the generator function body after the yield."
   ]
  },
  {
   "cell_type": "markdown",
   "metadata": {},
   "source": [
    "If an exception is raised in the body of the `with` block, the Python interpreter will catch it and raise it again in the yield exception inside looking_glass."
   ]
  },
  {
   "cell_type": "markdown",
   "metadata": {},
   "source": [
    "## Chapter Summary"
   ]
  },
  {
   "cell_type": "markdown",
   "metadata": {},
   "source": [
    "This chapter started easily enough with dicussion of else blocks in for, while, and try statement. Once you get used to the peculiar meaning of the else clause in these statements, I believe else can clarify your intentions."
   ]
  },
  {
   "cell_type": "markdown",
   "metadata": {},
   "source": [
    "We then covered context managers and the meaning of the with statement, quickly moving beyond its common use to automatically close opened files. We implemented a custom context manager: the LookingGlass class with the `__enter__/__exit__` methods, and saw how to handle exception in the `__exit__` method."
   ]
  },
  {
   "cell_type": "markdown",
   "metadata": {},
   "source": [
    "Finally, we reviewed functions in the contextlib standard library module. One of them, the `@contextmanager` decorator, makes it possible to implement a context manager using a single generator with one yield."
   ]
  },
  {
   "cell_type": "markdown",
   "metadata": {},
   "source": []
  }
 ],
 "metadata": {
  "kernelspec": {
   "display_name": "Python 3",
   "language": "python",
   "name": "python3"
  },
  "language_info": {
   "codemirror_mode": {
    "name": "ipython",
    "version": 3
   },
   "file_extension": ".py",
   "mimetype": "text/x-python",
   "name": "python",
   "nbconvert_exporter": "python",
   "pygments_lexer": "ipython3",
   "version": "3.7.3"
  },
  "toc": {
   "base_numbering": 1,
   "nav_menu": {},
   "number_sections": true,
   "sideBar": true,
   "skip_h1_title": false,
   "title_cell": "Table of Contents",
   "title_sidebar": "Contents",
   "toc_cell": false,
   "toc_position": {},
   "toc_section_display": true,
   "toc_window_display": false
  }
 },
 "nbformat": 4,
 "nbformat_minor": 4
}
