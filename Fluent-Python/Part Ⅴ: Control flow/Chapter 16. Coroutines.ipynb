{
 "cells": [
  {
   "cell_type": "markdown",
   "metadata": {},
   "source": [
    "# Chapter 16. Coroutines"
   ]
  },
  {
   "cell_type": "markdown",
   "metadata": {},
   "source": [
    "If Python books are any guide, [coroutines are] the most poorly documented, obscure, and apparently uesless feature of Python.\n",
    "\n",
    "-- David Beazley (Python author)"
   ]
  },
  {
   "cell_type": "markdown",
   "metadata": {},
   "source": [
    "A line such as `yiled item` produces a value that is received by the caller of `next(...)`, and it also gives way, suspending the execution of the generator so that the calleer may proceed until it's ready to consume another value by invoking `next()` again. The caller pull values from the generator."
   ]
  },
  {
   "cell_type": "markdown",
   "metadata": {},
   "source": [
    "A coroutinue is syntactically like a generator: just a function with the `yield` keyword in its body. However in routine, `yield` usually appears on the righ side of an expression (e.g., `datum = yield`), and it may or may not produce a value - if there is no expression after yield keyword, the generator yields None. The coroutine may receive data from the caller, which uses `.send(datum)` instead of `next(...)` to feed the coroutine. Usually, the caller pushes values into the coroutine."
   ]
  },
  {
   "cell_type": "markdown",
   "metadata": {},
   "source": [
    "Regardless of the flow of data, `yield` is a control flow device that can be used to implement cooperative multitasking: each coroutine yields control to a central schedular so that other coroutines can be activated."
   ]
  },
  {
   "cell_type": "markdown",
   "metadata": {},
   "source": [
    "When you start thinking of yield primarily in terms of control flow, you have the midset to understand coroutines."
   ]
  },
  {
   "cell_type": "markdown",
   "metadata": {},
   "source": [
    "Following the evolution of coroutines in Python helps us understand their features in stages of increasing functionality and complexity."
   ]
  },
  {
   "cell_type": "markdown",
   "metadata": {},
   "source": [
    "After a brief overview of how generators were enable to act as a coroutine, we jump to the core of chapter:\n",
    "\n",
    "* The behavior and states of a generator operating as a coroutine\n",
    "* Priming a coroutine automatically with a decorator\n",
    "* **How the caller can control a coroutine through the `.close()` and `.throw(...)` methods of the generator object**\n",
    "* **How coroutine can return values upon termination**\n",
    "* **Usage and semantics of the new `yield from` syntax**\n",
    "* A use case: coroutine for managing concurrent activities in a simulation"
   ]
  }
 ],
 "metadata": {
  "kernelspec": {
   "display_name": "Python 3",
   "language": "python",
   "name": "python3"
  },
  "language_info": {
   "codemirror_mode": {
    "name": "ipython",
    "version": 3
   },
   "file_extension": ".py",
   "mimetype": "text/x-python",
   "name": "python",
   "nbconvert_exporter": "python",
   "pygments_lexer": "ipython3",
   "version": "3.7.3"
  },
  "toc": {
   "base_numbering": 1,
   "nav_menu": {},
   "number_sections": true,
   "sideBar": true,
   "skip_h1_title": false,
   "title_cell": "Table of Contents",
   "title_sidebar": "Contents",
   "toc_cell": false,
   "toc_position": {},
   "toc_section_display": true,
   "toc_window_display": false
  }
 },
 "nbformat": 4,
 "nbformat_minor": 4
}
