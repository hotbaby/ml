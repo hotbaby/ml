{
 "cells": [
  {
   "cell_type": "markdown",
   "metadata": {},
   "source": [
    "# Interfaces: From Protocols to ABCs"
   ]
  },
  {
   "cell_type": "markdown",
   "metadata": {},
   "source": [
    "ABC: Abstract Base Class"
   ]
  },
  {
   "cell_type": "markdown",
   "metadata": {},
   "source": [
    "Python2.6 才引入抽象基类。"
   ]
  },
  {
   "cell_type": "markdown",
   "metadata": {},
   "source": [
    "> 抽象基类与描述符、元类一样，是构建工具框架的工具。因此还有少数Python开发者编写的抽象基类不会对用户施加不必要的限制。"
   ]
  },
  {
   "cell_type": "markdown",
   "metadata": {},
   "source": [
    "## 定义抽象基类的子类"
   ]
  },
  {
   "cell_type": "code",
   "execution_count": 2,
   "metadata": {},
   "outputs": [],
   "source": [
    "import collections"
   ]
  },
  {
   "cell_type": "code",
   "execution_count": 5,
   "metadata": {
    "scrolled": true
   },
   "outputs": [],
   "source": [
    "# help(collections.abc.MutableSequence)"
   ]
  },
  {
   "cell_type": "code",
   "execution_count": 6,
   "metadata": {},
   "outputs": [
    {
     "data": {
      "text/plain": [
       "(collections.abc.MutableSequence,\n",
       " collections.abc.Sequence,\n",
       " collections.abc.Reversible,\n",
       " collections.abc.Collection,\n",
       " collections.abc.Sized,\n",
       " collections.abc.Iterable,\n",
       " collections.abc.Container,\n",
       " object)"
      ]
     },
     "execution_count": 6,
     "metadata": {},
     "output_type": "execute_result"
    }
   ],
   "source": [
    "collections.abc.MutableSequence.__mro__"
   ]
  },
  {
   "cell_type": "markdown",
   "metadata": {},
   "source": [
    "```\n",
    "class MutableSequence(Sequence)\n",
    " |  All the operations on a read-only sequence.\n",
    " |  \n",
    " |  Concrete subclasses must override __new__ or __init__,\n",
    " |  __getitem__, and __len__.\n",
    " |  \n",
    " |  Method resolution order:\n",
    " |      MutableSequence\n",
    " |      Sequence\n",
    " |      Reversible\n",
    " |      Collection\n",
    " |      Sized\n",
    " |      Iterable\n",
    " |      Container\n",
    " |      builtins.object\n",
    " |  \n",
    " |  Methods defined here:\n",
    " |  \n",
    " |  __delitem__(self, index)\n",
    " |  \n",
    " |  __iadd__(self, values)\n",
    " |  \n",
    " |  __setitem__(self, index, value)\n",
    " |  \n",
    " |  append(self, value)\n",
    " |      S.append(value) -- append value to the end of the sequence\n",
    " |  \n",
    " |  clear(self)\n",
    " |      S.clear() -> None -- remove all items from S\n",
    " |  \n",
    " |  extend(self, values)\n",
    " |      S.extend(iterable) -- extend sequence by appending elements from the iterable\n",
    " |  \n",
    " |  insert(self, index, value)\n",
    " |      S.insert(index, value) -- insert value before index\n",
    " |  \n",
    " |  pop(self, index=-1)\n",
    " |      S.pop([index]) -> item -- remove and return item at index (default last).\n",
    " |      Raise IndexError if list is empty or index is out of range.\n",
    " |  \n",
    " |  remove(self, value)\n",
    " |      S.remove(value) -- remove first occurrence of value.\n",
    " |      Raise ValueError if the value is not present.\n",
    " |  \n",
    " |  reverse(self)\n",
    " |      S.reverse() -- reverse *IN PLACE*\n",
    " |  \n",
    " |  ----------------------------------------------------------------------\n",
    " |  Data and other attributes defined here:\n",
    " |  \n",
    " |  __abstractmethods__ = frozenset({'__delitem__', '__getitem__', '__len_...\n",
    " |  \n",
    " |  ----------------------------------------------------------------------\n",
    " |  Methods inherited from Sequence:\n",
    " |  \n",
    " |  __contains__(self, value)\n",
    " |  \n",
    " |  __getitem__(self, index)\n",
    " |  \n",
    " |  __iter__(self)\n",
    " |  \n",
    " |  __reversed__(self)\n",
    " |  \n",
    " |  count(self, value)\n",
    " |      S.count(value) -> integer -- return number of occurrences of value\n",
    " |  \n",
    " |  index(self, value, start=0, stop=None)\n",
    " |      S.index(value, [start, [stop]]) -> integer -- return first index of value.\n",
    " |      Raises ValueError if the value is not present.\n",
    " |      \n",
    " |      Supporting start and stop arguments is optional, but\n",
    " |      recommended.\n",
    " |  \n",
    " |  ----------------------------------------------------------------------\n",
    " |  Class methods inherited from Reversible:\n",
    " |  \n",
    " |  __subclasshook__(C) from abc.ABCMeta\n",
    " |      Abstract classes can override this to customize issubclass().\n",
    " |      \n",
    " |      This is invoked early on by abc.ABCMeta.__subclasscheck__().\n",
    " |      It should return True, False or NotImplemented.  If it returns\n",
    " |      NotImplemented, the normal algorithm is used.  Otherwise, it\n",
    " |      overrides the normal algorithm (and the outcome is cached).\n",
    " |  \n",
    " |  ----------------------------------------------------------------------\n",
    " |  Methods inherited from Sized:\n",
    " |  \n",
    " |  __len__(self)\n",
    " ```"
   ]
  },
  {
   "cell_type": "code",
   "execution_count": 10,
   "metadata": {},
   "outputs": [],
   "source": [
    "Card = collections.namedtuple('Card', ['rank', 'suit'])\n",
    "\n",
    "class FrenchDeck2(collections.abc.MutableSequence):\n",
    "    ranks = [str(n) for n in range(2, 11)] + list('JQKA')\n",
    "    suits = 'spades diamons clubs hearts'.split\n",
    "    \n",
    "    def __init__(self):\n",
    "        self._cards = [ Card(rank, suit) for suit in suits for rank in ranks]\n",
    "        \n",
    "    def __len__(self):\n",
    "        return len(self._cards)\n",
    "    \n",
    "    def __getitem__(self, position):\n",
    "        return self._cards[position]\n",
    "    \n",
    "    def __setitem__(self, position, value):\n",
    "        self._cards[position] = value\n",
    "        \n",
    "    def __delitem__(self, position):\n",
    "        del self._cards[position]\n",
    "        \n",
    "    def insert(self, position, val):\n",
    "        self._cards.insert(position, val)"
   ]
  },
  {
   "cell_type": "markdown",
   "metadata": {},
   "source": [
    "import时，Python不会检查抽象方法的实现，在运行时实例化对象时才会真正的检查。因此，如果没有正确实现某个抽象方法，Python不会抛出TypeError异常。"
   ]
  },
  {
   "cell_type": "markdown",
   "metadata": {},
   "source": [
    "![](https://ss1.bdstatic.com/70cFuXSh_Q1YnxGkpoWK1HF6hhy/it/u=4215643129,2776770392&fm=15&gp=0.jpg)"
   ]
  },
  {
   "cell_type": "markdown",
   "metadata": {},
   "source": [
    "```\n",
    "要想实现子类，可以覆盖从抽象基类中继承的方法，一更高效的方式重新实现。例如，__contains__方法会全面扫描序列，可是，如果你定义的序列安顺序保存元素，那就可以重新定义__contains__方法，使用bisect函数做二分查找，从而提高搜索速度。\n",
    "```"
   ]
  },
  {
   "cell_type": "markdown",
   "metadata": {},
   "source": [
    "## 标准库中的抽象基类"
   ]
  },
  {
   "cell_type": "markdown",
   "metadata": {},
   "source": [
    "从Python2.6开始，标准库中提供了抽象基类。大多数抽象基类在`collections.abc`模块中定义，不过其他地方也有。例如：numbers和io包中有一些抽象基类。"
   ]
  },
  {
   "cell_type": "markdown",
   "metadata": {},
   "source": [
    "### collections.abc模块中的抽象基类"
   ]
  },
  {
   "cell_type": "markdown",
   "metadata": {},
   "source": [
    "![](https://bugs.python.org/file47357/base.png)"
   ]
  },
  {
   "cell_type": "markdown",
   "metadata": {},
   "source": [
    "Iterable，Container和sized\n",
    "\n",
    "```\n",
    "各个集合应该继承这三个抽象基类，或者至少实现兼容的协议。Iterable通过__iter__方法支持迭代，Container通过__contains__方法支持in运算符，Sized通过__len__方法支持len()函数。\n",
    "```"
   ]
  },
  {
   "cell_type": "markdown",
   "metadata": {},
   "source": [
    "### 抽象基类的数字塔"
   ]
  },
  {
   "cell_type": "markdown",
   "metadata": {},
   "source": [
    "numbers包定义的“数字塔”。\n",
    "\n",
    "* Number\n",
    "* Complex\n",
    "* Real\n",
    "* Rational\n",
    "* Integral"
   ]
  },
  {
   "cell_type": "code",
   "execution_count": 11,
   "metadata": {},
   "outputs": [],
   "source": [
    "import numbers"
   ]
  },
  {
   "cell_type": "code",
   "execution_count": 14,
   "metadata": {},
   "outputs": [
    {
     "data": {
      "text/plain": [
       "(numbers.Integral,\n",
       " numbers.Rational,\n",
       " numbers.Real,\n",
       " numbers.Complex,\n",
       " numbers.Number,\n",
       " object)"
      ]
     },
     "execution_count": 14,
     "metadata": {},
     "output_type": "execute_result"
    }
   ],
   "source": [
    "numbers.Integral.__mro__"
   ]
  },
  {
   "cell_type": "markdown",
   "metadata": {},
   "source": [
    "> decimal.Decimal没有注册为numbers.Real的虚拟子类。没注册的原因是，如果你的程序要Decimal的精度，要防止与其他低精度的数字类型混淆，尤其是浮点数。"
   ]
  },
  {
   "cell_type": "markdown",
   "metadata": {},
   "source": [
    "## 定义并使用一个抽象基类"
   ]
  },
  {
   "cell_type": "markdown",
   "metadata": {},
   "source": [
    "Tombola抽象基类命名为Tombola，有四个方法，其中两个是抽象方法。\n",
    "\n",
    "* .load(...): put items to the container.\n",
    "* .pick(...): remove one item at rondom from the container, returning it.\n"
   ]
  },
  {
   "cell_type": "markdown",
   "metadata": {},
   "source": [
    "The concrete methods are:\n",
    "\n",
    "* .loaded(): return True if there is at least one in the container\n",
    "* .inspect(): return a sorted tuple built from the items currently in the container, without chaning ite contents."
   ]
  },
  {
   "cell_type": "code",
   "execution_count": 16,
   "metadata": {},
   "outputs": [],
   "source": [
    "import abc\n",
    "\n",
    "class Tombola(abc.ABC):\n",
    "    \n",
    "    @abc.abstractmethod\n",
    "    def load(self, iterable):\n",
    "        \"\"\"Add items from an iterable\"\"\"\n",
    "\n",
    "    @abc.abstractmethod\n",
    "    def pick(self):\n",
    "        \"\"\"\n",
    "        Remove item at random, returning it.\n",
    "        This method should riase `LookupError` when the instance is empty.\n",
    "        \"\"\"\n",
    "        \n",
    "    def loaded(self):\n",
    "        \"\"\"Return True if there's at least 1 item, `False` otherwise.\"\"\"\n",
    "        return bool(self.inspect())\n",
    "    \n",
    "    def inspect(self):\n",
    "        \"\"\"Return a sorted tuple with the items currently inside.\"\"\"\n",
    "        items = []\n",
    "        while True:\n",
    "            try:\n",
    "                items.append(self.pick())\n",
    "            except LookupError():\n",
    "                break\n",
    "                \n",
    "        self.load(items)\n",
    "        return tuple(sorted(items))"
   ]
  },
  {
   "cell_type": "markdown",
   "metadata": {},
   "source": [
    "> An abstract method can actually have an implementation. Even if it does, subclass will still be forced to override it, but they will be able to invoke the abstract method with super(), adding functionality to it instead of implementing from scratch."
   ]
  },
  {
   "cell_type": "markdown",
   "metadata": {},
   "source": [
    "### 定义Tombola ABC的子类"
   ]
  },
  {
   "cell_type": "code",
   "execution_count": 18,
   "metadata": {},
   "outputs": [],
   "source": [
    "import random\n",
    "\n",
    "class BingoCage(Tombola):\n",
    "    \n",
    "    def __init__(self, items):\n",
    "        self._randomizer = random.SystemRandom()\n",
    "        self._items = []\n",
    "        self.load(items)\n",
    "        \n",
    "    def load(self, items):\n",
    "        self._items.extend(items)\n",
    "        self._randomizer.shuffle(self._items)\n",
    "        \n",
    "    def pick(self):\n",
    "        try: \n",
    "            self._items.pop()\n",
    "        except IndexErrore:\n",
    "            raise LookupError('pick from empty BingoCage')\n",
    "            \n",
    "    def __call__(self):\n",
    "        self.pick()"
   ]
  },
  {
   "cell_type": "markdown",
   "metadata": {},
   "source": [
    "### Tombola 虚拟子类"
   ]
  },
  {
   "cell_type": "markdown",
   "metadata": {},
   "source": [
    "A Virtual Subclass of Tombola."
   ]
  },
  {
   "cell_type": "markdown",
   "metadata": {},
   "source": [
    "注册虚拟子类的方式在抽象基类上调用register方法。注册的类会变成抽象基类的虚拟子类，而且issubclass和isinstance等函数都能识别，但是注册的类不会从抽象基类中继承任何方法和属性。"
   ]
  },
  {
   "cell_type": "markdown",
   "metadata": {},
   "source": [
    "This is done by calling a register method on the ABC. The registered class then becomes a virtual subclass of the ABC, and will recoginized as such by functions like issublcass and isinstance, but it will not inherit any methods or attributes from the ABC."
   ]
  },
  {
   "cell_type": "markdown",
   "metadata": {},
   "source": [
    "> 虚拟子类不会继承注册的ABC，而且任何时候都不会检查它是否符合ABC的接口，即便在实例化时也不会检查。为了遍运行时错误，虚拟子类要实现所需的全部方法。"
   ]
  },
  {
   "cell_type": "markdown",
   "metadata": {},
   "source": [
    "> Virtual subclass do not inherit from their registered ABCs, and not checked for conformance to the ABC interface  at any time, not even when they are instantiated. It's up to the subclass to actually implement all the methods needed to avoid runtime errors."
   ]
  },
  {
   "cell_type": "markdown",
   "metadata": {},
   "source": [
    "Register方法通常作为普通的函数调用，不过也可以作为装饰器使用。我们使用装饰器语法实现了TomboList类，这是Tombola的一个虚拟子类。"
   ]
  },
  {
   "cell_type": "markdown",
   "metadata": {},
   "source": [
    "![](https://hotttao.gitbooks.io/fluent-python-note/image/abstract_register.png)"
   ]
  },
  {
   "cell_type": "code",
   "execution_count": 24,
   "metadata": {},
   "outputs": [],
   "source": [
    "from random import randrange\n",
    "\n",
    "\n",
    "@Tombola.register\n",
    "class TomboList(list):\n",
    "    \n",
    "    def pick(self):\n",
    "        if self: # 从list中即成了__bool__方法，列表为空时返回True\n",
    "            position = randrange(len(self))\n",
    "            return self.pop(position)\n",
    "        else:\n",
    "            raise LookupError('pop from empty TomboList')\n",
    "            \n",
    "    load = list.extend\n",
    "    \n",
    "    def loaded():\n",
    "        return bool(self)\n",
    "    \n",
    "    def inpsect(self):\n",
    "        return tuple(sorted(self))\n",
    "            "
   ]
  },
  {
   "cell_type": "code",
   "execution_count": 25,
   "metadata": {},
   "outputs": [
    {
     "data": {
      "text/plain": [
       "True"
      ]
     },
     "execution_count": 25,
     "metadata": {},
     "output_type": "execute_result"
    }
   ],
   "source": [
    "issubclass(TomboList, Tombola)"
   ]
  },
  {
   "cell_type": "code",
   "execution_count": 26,
   "metadata": {},
   "outputs": [
    {
     "data": {
      "text/plain": [
       "True"
      ]
     },
     "execution_count": 26,
     "metadata": {},
     "output_type": "execute_result"
    }
   ],
   "source": [
    "isinstance(TomboList(range(10)), Tombola)"
   ]
  },
  {
   "cell_type": "code",
   "execution_count": 27,
   "metadata": {},
   "outputs": [
    {
     "data": {
      "text/plain": [
       "(__main__.TomboList, list, object)"
      ]
     },
     "execution_count": 27,
     "metadata": {},
     "output_type": "execute_result"
    }
   ],
   "source": [
    "TomboList.__mro__"
   ]
  },
  {
   "cell_type": "markdown",
   "metadata": {},
   "source": [
    "```\n",
    "TomboList.__mro__中没有Tombola，因此Tombolist没有从Tombola中即成任何方法。\n",
    "```"
   ]
  },
  {
   "cell_type": "markdown",
   "metadata": {},
   "source": [
    "## Tombola子类的测试方法"
   ]
  },
  {
   "cell_type": "markdown",
   "metadata": {},
   "source": [
    "How the TOmbola Subclass Were Tested"
   ]
  },
  {
   "cell_type": "markdown",
   "metadata": {},
   "source": [
    "```\n",
    "__subclasses__()\n",
    "\n",
    "    这个方法类的直接子类列表，不含虚拟子类。\n",
    "```"
   ]
  },
  {
   "cell_type": "code",
   "execution_count": 28,
   "metadata": {},
   "outputs": [
    {
     "data": {
      "text/plain": [
       "[__main__.BingoCage]"
      ]
     },
     "execution_count": 28,
     "metadata": {},
     "output_type": "execute_result"
    }
   ],
   "source": [
    "Tombola.__subclasses__()"
   ]
  },
  {
   "cell_type": "markdown",
   "metadata": {},
   "source": [
    "## 延伸阅读"
   ]
  },
  {
   "cell_type": "markdown",
   "metadata": {},
   "source": [
    "**Python是弱类型语言吗**\n",
    "\n",
    "Python 强类型、动态语言。"
   ]
  },
  {
   "cell_type": "markdown",
   "metadata": {},
   "source": [
    "**强类型和弱类型**\n",
    "\n",
    "如果一门语言很少隐式转换类型，说明他是强类型语言；如果经常这么做，说明他是弱类型语言。Java、C++和Python是强类型语言。PHP、JavaScrpt和Perl是弱类型语言。"
   ]
  },
  {
   "cell_type": "markdown",
   "metadata": {},
   "source": [
    "**静态类型和动态类型**\n",
    "\n",
    "在编译时检查类型的语言是静态类型语言，在运行时检查类型的语言是动态类型语言。静态类型语言需要声明类型。"
   ]
  },
  {
   "cell_type": "markdown",
   "metadata": {},
   "source": [
    "## References"
   ]
  },
  {
   "cell_type": "markdown",
   "metadata": {},
   "source": [
    "* *Fluent Python, Interfaces From Protocols to ABCs*\n",
    "* [Python PEP 3119 -- Introducting Abstract Classes](https://www.python.org/dev/peps/pep-3119/)"
   ]
  }
 ],
 "metadata": {
  "kernelspec": {
   "display_name": "Python 3",
   "language": "python",
   "name": "python3"
  },
  "language_info": {
   "codemirror_mode": {
    "name": "ipython",
    "version": 3
   },
   "file_extension": ".py",
   "mimetype": "text/x-python",
   "name": "python",
   "nbconvert_exporter": "python",
   "pygments_lexer": "ipython3",
   "version": "3.7.5"
  },
  "toc": {
   "base_numbering": 1,
   "nav_menu": {},
   "number_sections": true,
   "sideBar": true,
   "skip_h1_title": false,
   "title_cell": "Table of Contents",
   "title_sidebar": "Contents",
   "toc_cell": false,
   "toc_position": {
    "height": "calc(100% - 180px)",
    "left": "10px",
    "top": "150px",
    "width": "296.8px"
   },
   "toc_section_display": true,
   "toc_window_display": true
  }
 },
 "nbformat": 4,
 "nbformat_minor": 4
}
