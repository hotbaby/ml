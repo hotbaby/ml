{
 "cells": [
  {
   "cell_type": "markdown",
   "metadata": {},
   "source": [
    "# Operator Overloadding: Do It Rigth"
   ]
  },
  {
   "cell_type": "markdown",
   "metadata": {},
   "source": [
    "运算符重载的作用是让用户定义的对象使用中缀运算符或一元运算符。在Python中，函数调用（()）、属性访问（.）和元素访问（[]）也是运算符。"
   ]
  },
  {
   "cell_type": "markdown",
   "metadata": {},
   "source": [
    "## 运算符重载基础"
   ]
  },
  {
   "cell_type": "markdown",
   "metadata": {},
   "source": [
    "Python施加了一些限制，做好了灵活性、可用性和安全性方面的平衡。"
   ]
  },
  {
   "cell_type": "markdown",
   "metadata": {},
   "source": [
    "* 不能重载内置类型的运算符\n",
    "* 不能新建运算符，只能重载现有的\n",
    "* 某些运算符不能重载 is、and、or和not（不过运算符&、|和~可以）"
   ]
  },
  {
   "cell_type": "markdown",
   "metadata": {},
   "source": [
    "## 点积运算符"
   ]
  },
  {
   "cell_type": "markdown",
   "metadata": {},
   "source": [
    "```\n",
    "NotImplemented vs NotImplementedError\n",
    "\n",
    "别把NotImplemented和NotImplementedError搞混了。前者是特殊的单例值，如果中缀运算符特殊方法不能处理给定的操作数，那么要把它返回给解释器。而NotImplementedError是一种异常，抽象类种的占位方法把它抛出，提醒子类必须覆盖。\n",
    "```"
   ]
  },
  {
   "cell_type": "markdown",
   "metadata": {},
   "source": [
    "```\n",
    "Python点积运算符，a @ b是a和b的点积。@运算符有特殊方法__matmul__、__rmatmul__和__imatmul__提供支持，名称取自\"matrix multiplication\"（矩阵乘法）。\n",
    "```"
   ]
  },
  {
   "cell_type": "code",
   "execution_count": 7,
   "metadata": {},
   "outputs": [],
   "source": [
    "import numpy as np"
   ]
  },
  {
   "cell_type": "code",
   "execution_count": 10,
   "metadata": {},
   "outputs": [],
   "source": [
    "a = np.random.randint(1, 9, (10))\n",
    "b = np.random.randint(1, 9, (10))"
   ]
  },
  {
   "cell_type": "code",
   "execution_count": 11,
   "metadata": {},
   "outputs": [
    {
     "name": "stdout",
     "output_type": "stream",
     "text": [
      "[3 3 2 2 3 7 1 6 8 1]\n",
      "[5 8 7 2 1 8 4 2 7 8]\n",
      "196\n"
     ]
    }
   ],
   "source": [
    "print(a)\n",
    "print(b)\n",
    "print(a @ b)"
   ]
  },
  {
   "cell_type": "markdown",
   "metadata": {},
   "source": [
    "## 比较运算符"
   ]
  },
  {
   "cell_type": "markdown",
   "metadata": {},
   "source": [
    "|中缀运算符|方法调用|\n",
    "|--------|-------|\n",
    "| a == b | `a.__eq__(b)` |\n",
    "| a != b | `a.__ne__(b)` |\n",
    "| a > b | `a.__gt__(b)` |\n",
    "| a < b | `a.__lt__(b)` |\n",
    "| a >= b | `a._ge__(b)` |\n",
    "| a <= b | `a.__le__(b)` |"
   ]
  }
 ],
 "metadata": {
  "kernelspec": {
   "display_name": "Python 3",
   "language": "python",
   "name": "python3"
  },
  "language_info": {
   "codemirror_mode": {
    "name": "ipython",
    "version": 3
   },
   "file_extension": ".py",
   "mimetype": "text/x-python",
   "name": "python",
   "nbconvert_exporter": "python",
   "pygments_lexer": "ipython3",
   "version": "3.7.3"
  },
  "toc": {
   "base_numbering": 1,
   "nav_menu": {},
   "number_sections": true,
   "sideBar": true,
   "skip_h1_title": false,
   "title_cell": "Table of Contents",
   "title_sidebar": "Contents",
   "toc_cell": false,
   "toc_position": {},
   "toc_section_display": true,
   "toc_window_display": true
  }
 },
 "nbformat": 4,
 "nbformat_minor": 4
}
