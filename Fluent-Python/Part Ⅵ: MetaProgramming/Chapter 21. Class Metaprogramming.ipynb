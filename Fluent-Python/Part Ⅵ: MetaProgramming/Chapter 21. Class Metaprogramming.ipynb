{
 "cells": [
  {
   "cell_type": "markdown",
   "metadata": {},
   "source": [
    "# Chaper 21. Class Metaprogramming"
   ]
  },
  {
   "cell_type": "markdown",
   "metadata": {},
   "source": [
    "    [Metaclass] are deeper magic than 99% of users should ever worry about. If you wonder whether you need them, you don't (the people who actually need them know with cetaintly that they  need them, and don't need a explaination about why).\n",
    "    \n",
    "    -- Tim Peters"
   ]
  },
  {
   "cell_type": "markdown",
   "metadata": {},
   "source": [
    "Class metaprogramming is the art of creating or customizing classes at runtime. Classes are first-class object in Python, so a function can be used to create a new class at any time, without using the class keyword. Class decorators are also functions, but capable of inspecting, changing, and even replacing the decorated class with another class. Finnaly, metaclass are the most advanced tool for class metaprogramming; they let you create whole new categories of classes with special traits, such as the abstract base classes we've already seen."
   ]
  },
  {
   "cell_type": "markdown",
   "metadata": {},
   "source": [
    "Metaclass are powerful, but hard to get right. Class decorators solve many of the same problems more simply."
   ]
  },
  {
   "cell_type": "markdown",
   "metadata": {},
   "source": [
    "## A Class Factory"
   ]
  },
  {
   "cell_type": "markdown",
   "metadata": {},
   "source": [
    "The standard library has class factory that we've seen several times  in this book: collections.nametuple. It's a function that, given a class name and attribute names creates a subclass of tuple that allows retrieving items by name and provides a nice `__repr__` for debuggig."
   ]
  },
  {
   "cell_type": "code",
   "execution_count": 1,
   "metadata": {},
   "outputs": [],
   "source": [
    "def record_factory(cls_name, field_names):\n",
    "    try:\n",
    "        field_names = field_names.replace(',', ' ').split()\n",
    "    except AttributeError:\n",
    "        pass\n",
    "    field_names = tuple(field_names)\n",
    "    \n",
    "    def __init__(self, *args, **kwags):\n",
    "        attrs = dict(zip(self.__slots__, args))\n",
    "        attrs.update(kwags)\n",
    "        \n",
    "        for name, value in attrs.items():\n",
    "            setattr(self, name, value)\n",
    "            \n",
    "    def __iter__(self,):\n",
    "        for name in self.__slots__:\n",
    "            yield getattr(self, name)\n",
    "            \n",
    "    cls_attrs = dict(__slots__ = field_names,\n",
    "                     __init__ = __init__,\n",
    "                     __iter__ = __iter__)\n",
    "    return type(cls_name, (object,), cls_attrs)"
   ]
  },
  {
   "cell_type": "code",
   "execution_count": 2,
   "metadata": {},
   "outputs": [],
   "source": [
    "Dog = record_factory('Dog', 'name weight owner')"
   ]
  },
  {
   "cell_type": "code",
   "execution_count": 4,
   "metadata": {},
   "outputs": [],
   "source": [
    "dog = Dog(name='Rex', weight=30, owner='Bob')"
   ]
  },
  {
   "cell_type": "code",
   "execution_count": 6,
   "metadata": {},
   "outputs": [
    {
     "data": {
      "text/plain": [
       "('Rex', 30)"
      ]
     },
     "execution_count": 6,
     "metadata": {},
     "output_type": "execute_result"
    }
   ],
   "source": [
    "dog.name, dog.weight"
   ]
  },
  {
   "cell_type": "code",
   "execution_count": 7,
   "metadata": {},
   "outputs": [],
   "source": [
    "name, weight, _ = dog"
   ]
  },
  {
   "cell_type": "code",
   "execution_count": 8,
   "metadata": {},
   "outputs": [
    {
     "data": {
      "text/plain": [
       "('Rex', 30)"
      ]
     },
     "execution_count": 8,
     "metadata": {},
     "output_type": "execute_result"
    }
   ],
   "source": [
    "name, weight"
   ]
  },
  {
   "cell_type": "markdown",
   "metadata": {},
   "source": [
    "In summary, the last line of `record_factory` builds a class named by the vlaue of cls_name, with objects as its single superclass and with  class attributes named `__slots__`, `__init__` ."
   ]
  },
  {
   "cell_type": "markdown",
   "metadata": {},
   "source": [
    "> It's good practice to avoid exec or eval for metaporamming in Python. These functions pose serios security risks if they are fed string from untrusted sources."
   ]
  },
  {
   "cell_type": "markdown",
   "metadata": {},
   "source": [
    "**Instances of classes created by `record_factory` have a limitation: they are not serializable - that is, they can't be used with the dump/load function from the pickle module.**"
   ]
  },
  {
   "cell_type": "markdown",
   "metadata": {},
   "source": [
    "## What Happens When: Import Time Versus Runtime"
   ]
  },
  {
   "cell_type": "markdown",
   "metadata": {},
   "source": [
    "For successful metaprogramming, you must be aware of when the Python interpreter evaluates each block of code. Python programmers talk about \"import time\" versus \"runtime\" but the terms are not strictly defined and there are a gray area between them. At import time, the interpreter parses the source code of .py module in one pass from top to bottom, and generates the bytecode to be executed. That's when syntax errors may occur. If there is an up-to-date .pyc file available in the local `__pycache__`, those steps are skipped because the bytecode is ready to run."
   ]
  },
  {
   "cell_type": "markdown",
   "metadata": {},
   "source": [
    "The interpreter executes a def statement on the top level of a module when the module is imported, but what does that archieve? The interpreter compiles the function body, and binds the function object to its global name, but it does not execute the body of the function, obviously. In the usual case, this means that the interpreter defines top-level functions at import time, but executes their bodies only when the functioins are  invoked at runtime."
   ]
  },
  {
   "cell_type": "markdown",
   "metadata": {},
   "source": [
    "For classes, the story is different: at import time, the interpreter executes the body of every class, even the body of classes nested in other classes. Execution of a class body means that the attributes and methods of the class are defined, and then the class object itself is built. In this sense, the body of classes is \"top-level code\": it runs at import time."
   ]
  },
  {
   "cell_type": "markdown",
   "metadata": {},
   "source": [
    "## Metaclasses 101"
   ]
  },
  {
   "cell_type": "markdown",
   "metadata": {},
   "source": [
    "A metaclass is a class factory, except that instead of a function. A metaclass is a class that builds classes."
   ]
  },
  {
   "cell_type": "markdown",
   "metadata": {},
   "source": [
    "**Consider the Python object model: classes are objects, thereofore each class must be an intance of some other class. By default, Python classes are instance of type. In other words, `type` is the metaclass for most built-in and user-defined classes.**"
   ]
  },
  {
   "cell_type": "markdown",
   "metadata": {},
   "source": [
    "To avoid infinite regress, `type` is an instance of itself."
   ]
  },
  {
   "cell_type": "code",
   "execution_count": 1,
   "metadata": {},
   "outputs": [
    {
     "data": {
      "text/plain": [
       "type"
      ]
     },
     "execution_count": 1,
     "metadata": {},
     "output_type": "execute_result"
    }
   ],
   "source": [
    "type(type)"
   ]
  },
  {
   "cell_type": "code",
   "execution_count": 2,
   "metadata": {},
   "outputs": [
    {
     "data": {
      "text/plain": [
       "(type, object)"
      ]
     },
     "execution_count": 2,
     "metadata": {},
     "output_type": "execute_result"
    }
   ],
   "source": [
    "type.__mro__"
   ]
  },
  {
   "cell_type": "code",
   "execution_count": 3,
   "metadata": {},
   "outputs": [
    {
     "data": {
      "text/plain": [
       "type"
      ]
     },
     "execution_count": 3,
     "metadata": {},
     "output_type": "execute_result"
    }
   ],
   "source": [
    "type(object)"
   ]
  },
  {
   "cell_type": "code",
   "execution_count": 4,
   "metadata": {},
   "outputs": [
    {
     "data": {
      "text/plain": [
       "(object,)"
      ]
     },
     "execution_count": 4,
     "metadata": {},
     "output_type": "execute_result"
    }
   ],
   "source": [
    "object.__mro__"
   ]
  },
  {
   "cell_type": "markdown",
   "metadata": {},
   "source": [
    "> The classes object and type have a unique relationship: object is an instance of type, and type is subclass of object. This relationship is \"magic\": it cannot be expressed in Python because either class would have to exist before the other could be defined. The fact that type is an instance of itself is also magical."
   ]
  },
  {
   "cell_type": "markdown",
   "metadata": {},
   "source": [
    "The important takeaway here is that all classes are instances of type, but metaclass are subclass of type, so they act as class factories. In particular, a metaclass can customize its instance by implementing `__init__`. A metaclass `__init__` method can do everything a class decorator can do."
   ]
  },
  {
   "cell_type": "markdown",
   "metadata": {},
   "source": [
    "## The Metaclass `__prepare__` Special Method"
   ]
  },
  {
   "cell_type": "markdown",
   "metadata": {},
   "source": [
    "In some application it's interesting to be able to know the order in which the attributes of a class are defined."
   ]
  },
  {
   "cell_type": "markdown",
   "metadata": {},
   "source": [
    "As we've seen, both the type constructor and the `__new__` and `__init__` methods of metaclass receive the body of the class evaluated as a mapping of names to attributes. However, by default, that mapping is a dict, which means the order of the attributes as they appear in the class body is lost by the time our metaclass or class decorator can look at them."
   ]
  },
  {
   "cell_type": "markdown",
   "metadata": {},
   "source": [
    "The solution to this problem is the `__prepare__` special method, introduced in Python 3. The special method is relevant only in metaclasses, and it must be a class method. The `__prepare__` method is invoked by the interpreter before the `__new__` method in the metaclass to create the mapping that will be filled with attributes from the class body. Besides the metaclass as fist argument, `__prepare__` gets the name of the class to be constructed and its tuple of base classes, and it must return a mapping, which will be received s the last argument by `__new__` and then `__init__` when the metaclass builds a new class."
   ]
  },
  {
   "cell_type": "code",
   "execution_count": 5,
   "metadata": {},
   "outputs": [],
   "source": [
    "import collections"
   ]
  },
  {
   "cell_type": "code",
   "execution_count": 6,
   "metadata": {},
   "outputs": [],
   "source": [
    "class Validated: pass"
   ]
  },
  {
   "cell_type": "code",
   "execution_count": 7,
   "metadata": {},
   "outputs": [],
   "source": [
    "class EntityMeta(type):\n",
    "    \"\"\"Metaclass for business entities with validated fields\"\"\"\n",
    "    \n",
    "    @classmethod\n",
    "    def __prepare__(cls, name, bases):\n",
    "        # Return an empty OrderDict instance, where the class attributes\n",
    "        # will be stored\n",
    "        return collections.OrderedDict()\n",
    "    \n",
    "    def __init__(cls, name, bases, attr_dict):\n",
    "        super().__init__(name, bases, attr_dict)\n",
    "        # Create a _field_names attributes in the class under contruction\n",
    "        cls._field_names = []\n",
    "        \n",
    "        # This line is unchanged from the previous version, but attr_dict\n",
    "        # here is the OrderDict obtained by the interpreter when it called\n",
    "        # __prepare__ before calling __init__. Therefore, this for loop\n",
    "        # will go over the attributes in the order they were added.\n",
    "        for key, attr in attr_dict.items():\n",
    "            if isinstance(attr, Validated):\n",
    "                type_name = type(attr).___name__\n",
    "                attr.storage_name = '_{}#{}'.format(type_name, key)\n",
    "                cls._field_names.append(key)"
   ]
  },
  {
   "cell_type": "code",
   "execution_count": 10,
   "metadata": {},
   "outputs": [],
   "source": [
    "class Entity(metaclass=EntityMeta):\n",
    "    \"\"\"Business entity with validated fields\"\"\"\n",
    "    \n",
    "    @classmethod\n",
    "    def field_names(cls):\n",
    "        # The field_names class method simply yields the names of the\n",
    "        # fields in the order they were added.\n",
    "        for name in cls._field_names:\n",
    "            yield name"
   ]
  },
  {
   "cell_type": "markdown",
   "metadata": {},
   "source": [
    "In the readl world, metaclass are uesd in frameworks and libraries that help programmers perform:\n",
    "\n",
    "* Attribute validation\n",
    "* Applying decorators to many methods at once\n",
    "* Object serialization or data conversion\n",
    "* Object-relational mapping\n",
    "* Object-based persistency\n",
    "* Dynamic translation of class structures from other languages"
   ]
  },
  {
   "cell_type": "markdown",
   "metadata": {},
   "source": [
    "## Classes as Objects"
   ]
  },
  {
   "cell_type": "markdown",
   "metadata": {},
   "source": [
    "Every class has a number of attribtues defined in the Python data model. Three of these attributes we've seen several times in the book already: `__mro__`, `__class__`, and `__name__`. Other class attributes are:\n",
    "\n",
    "`cls.__bases__`\n",
    "\n",
    "    The tuple of base classes of the class.\n",
    "    \n",
    "`cls.__qualname__`\n",
    "\n",
    "    A new attribute in Python 3.3 holding the qualified name of a class or function, which is a dotted path from the global scope of the module to the class definition.\n",
    "    \n",
    "`cls.__subclasses__()`:\n",
    "\n",
    "    This method returns a list of the immediate sublass of the class. The implementation uses weak references to avoid circular references between the superclass and its subclasses - which holds a strong referencesto the superclasses in their __bases__ attribute. The method returns the list of subclass that currently exist in memory.\n",
    "    \n",
    "`cls.mro()`\n",
    "\n",
    "    The interpreter calls this method when building a class to obtain the tuple of superclass that is stored in the __mro__ attribute of the class. A metaclass can override this method to customize the method resolution order of the clas under constructin."
   ]
  }
 ],
 "metadata": {
  "kernelspec": {
   "display_name": "Python 3",
   "language": "python",
   "name": "python3"
  },
  "language_info": {
   "codemirror_mode": {
    "name": "ipython",
    "version": 3
   },
   "file_extension": ".py",
   "mimetype": "text/x-python",
   "name": "python",
   "nbconvert_exporter": "python",
   "pygments_lexer": "ipython3",
   "version": "3.7.3"
  },
  "toc": {
   "base_numbering": 1,
   "nav_menu": {},
   "number_sections": true,
   "sideBar": true,
   "skip_h1_title": false,
   "title_cell": "Table of Contents",
   "title_sidebar": "Contents",
   "toc_cell": false,
   "toc_position": {},
   "toc_section_display": true,
   "toc_window_display": false
  }
 },
 "nbformat": 4,
 "nbformat_minor": 4
}
