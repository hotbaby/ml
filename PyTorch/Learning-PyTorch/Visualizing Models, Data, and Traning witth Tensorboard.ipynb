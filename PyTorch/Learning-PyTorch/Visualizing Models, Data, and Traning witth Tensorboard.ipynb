{
 "cells": [
  {
   "cell_type": "markdown",
   "metadata": {},
   "source": [
    "# Visualizing Models, Data and Traning with Tensorboard"
   ]
  },
  {
   "cell_type": "markdown",
   "metadata": {},
   "source": [
    "In this tutorial, we'll learn how to:\n",
    "\n",
    "1. Read in data and with appropriate transforms\n",
    "2. Set up TensorBoard\n",
    "3. Write to TensorBoard\n",
    "4. Inspect a model architecutre using TensorBoard\n",
    "5. Use TensorBoard to create interactive versions of the visualizations we created in last tutorial."
   ]
  },
  {
   "cell_type": "markdown",
   "metadata": {},
   "source": [
    "Specially, on point 5, we'll see:\n",
    "\n",
    "* A couple of ways to insepect our training data\n",
    "* How to track our model's performance as it trains\n",
    "* How to assess our model's performance once it is trained"
   ]
  },
  {
   "cell_type": "code",
   "execution_count": 1,
   "metadata": {},
   "outputs": [
    {
     "name": "stderr",
     "output_type": "stream",
     "text": [
      "\r",
      "0it [00:00, ?it/s]"
     ]
    },
    {
     "name": "stdout",
     "output_type": "stream",
     "text": [
      "Downloading http://fashion-mnist.s3-website.eu-central-1.amazonaws.com/train-images-idx3-ubyte.gz to ./data/FashionMNIST/raw/train-images-idx3-ubyte.gz\n"
     ]
    },
    {
     "name": "stderr",
     "output_type": "stream",
     "text": [
      "100%|█████████▉| 26394624/26421880 [01:36<00:00, 682814.36it/s]"
     ]
    },
    {
     "name": "stdout",
     "output_type": "stream",
     "text": [
      "Extracting ./data/FashionMNIST/raw/train-images-idx3-ubyte.gz to ./data/FashionMNIST/raw\n"
     ]
    },
    {
     "name": "stderr",
     "output_type": "stream",
     "text": [
      "\n",
      "0it [00:00, ?it/s]\u001b[A"
     ]
    },
    {
     "name": "stdout",
     "output_type": "stream",
     "text": [
      "Downloading http://fashion-mnist.s3-website.eu-central-1.amazonaws.com/train-labels-idx1-ubyte.gz to ./data/FashionMNIST/raw/train-labels-idx1-ubyte.gz\n"
     ]
    },
    {
     "name": "stderr",
     "output_type": "stream",
     "text": [
      "26427392it [01:50, 682814.36it/s]                              \n",
      "  0%|          | 0/29515 [00:15<?, ?it/s]\u001b[A\n",
      " 56%|█████▌    | 16384/29515 [00:15<00:00, 75450.16it/s]\u001b[A\n",
      "\n",
      "0it [00:00, ?it/s]\u001b[A\u001b[A"
     ]
    },
    {
     "name": "stdout",
     "output_type": "stream",
     "text": [
      "Extracting ./data/FashionMNIST/raw/train-labels-idx1-ubyte.gz to ./data/FashionMNIST/raw\n",
      "Downloading http://fashion-mnist.s3-website.eu-central-1.amazonaws.com/t10k-images-idx3-ubyte.gz to ./data/FashionMNIST/raw/t10k-images-idx3-ubyte.gz\n"
     ]
    },
    {
     "name": "stderr",
     "output_type": "stream",
     "text": [
      "\n",
      "\n",
      "  0%|          | 0/4422102 [00:00<?, ?it/s]\u001b[A\u001b[A\n",
      "\n",
      "  0%|          | 16384/4422102 [00:00<00:44, 99011.29it/s]\u001b[A\u001b[A\n",
      "\n",
      "  1%|          | 49152/4422102 [00:00<00:37, 116198.73it/s]\u001b[A\u001b[A\n",
      "\n",
      "  2%|▏         | 106496/4422102 [00:01<00:30, 142268.12it/s]\u001b[A\u001b[A\n",
      "\n",
      "  4%|▍         | 188416/4422102 [00:01<00:22, 189016.06it/s]\u001b[A\u001b[A\n",
      "\n",
      "  6%|▌         | 245760/4422102 [00:01<00:17, 236363.36it/s]\u001b[A\u001b[A\n",
      "\n",
      "  7%|▋         | 319488/4422102 [00:01<00:13, 294687.75it/s]\u001b[A\u001b[A\n",
      "\n",
      "  9%|▊         | 376832/4422102 [00:01<00:14, 276312.13it/s]\u001b[A\u001b[A\n",
      "\n",
      " 13%|█▎        | 565248/4422102 [00:01<00:10, 369449.29it/s]\u001b[A\u001b[A\n",
      "\n",
      " 15%|█▍        | 647168/4422102 [00:01<00:08, 434531.77it/s]\u001b[A\u001b[A\n",
      "\n",
      " 16%|█▋        | 729088/4422102 [00:02<00:07, 488843.68it/s]\u001b[A\u001b[A\n",
      "\n",
      " 18%|█▊        | 811008/4422102 [00:02<00:06, 520624.75it/s]\u001b[A\u001b[A\n",
      "\n",
      " 20%|██        | 892928/4422102 [00:02<00:06, 576332.11it/s]\u001b[A\u001b[A\n",
      "\n",
      " 22%|██▏       | 974848/4422102 [00:02<00:05, 618716.30it/s]\u001b[A\u001b[A\n",
      "\n",
      " 24%|██▍       | 1056768/4422102 [00:02<00:05, 646519.99it/s]\u001b[A\u001b[A\n",
      "\n",
      " 26%|██▌       | 1130496/4422102 [00:02<00:04, 665792.61it/s]\u001b[A\u001b[A\n",
      "\n",
      " 27%|██▋       | 1204224/4422102 [00:02<00:04, 676360.09it/s]\u001b[A\u001b[A\n",
      "\n",
      " 29%|██▉       | 1277952/4422102 [00:02<00:04, 685490.61it/s]\u001b[A\u001b[A\n",
      "\n",
      " 31%|███       | 1351680/4422102 [00:02<00:04, 691921.82it/s]\u001b[A\u001b[A\n",
      "\n",
      " 32%|███▏      | 1425408/4422102 [00:03<00:04, 672237.20it/s]\u001b[A\u001b[A\n",
      "\n",
      " 34%|███▍      | 1507328/4422102 [00:03<00:04, 691583.35it/s]\u001b[A\u001b[A\n",
      "\n",
      " 36%|███▌      | 1589248/4422102 [00:03<00:04, 672576.45it/s]\u001b[A\u001b[A\n",
      "\n",
      " 38%|███▊      | 1662976/4422102 [00:03<00:04, 675858.13it/s]\u001b[A\u001b[A\n",
      "\n",
      " 39%|███▉      | 1744896/4422102 [00:03<00:03, 705980.35it/s]\u001b[A\u001b[A\n",
      "\n",
      " 41%|████▏     | 1826816/4422102 [00:03<00:03, 715247.38it/s]\u001b[A\u001b[A\n",
      "\n",
      " 43%|████▎     | 1900544/4422102 [00:03<00:03, 693164.25it/s]\u001b[A\u001b[A\n",
      "\n",
      " 45%|████▍     | 1974272/4422102 [00:03<00:03, 687756.68it/s]\u001b[A\u001b[A\n",
      "\n",
      " 46%|████▋     | 2056192/4422102 [00:03<00:03, 708609.59it/s]\u001b[A\u001b[A\n",
      "\n",
      " 48%|████▊     | 2129920/4422102 [00:04<00:03, 705804.94it/s]\u001b[A\u001b[A\n",
      "\n",
      " 50%|████▉     | 2203648/4422102 [00:04<00:03, 702654.41it/s]\u001b[A\u001b[A\n",
      "\n",
      " 51%|█████▏    | 2277376/4422102 [00:04<00:03, 705045.04it/s]\u001b[A\u001b[A\n",
      "\n",
      " 53%|█████▎    | 2351104/4422102 [00:04<00:03, 676339.88it/s]\u001b[A\u001b[A\n",
      "\n",
      " 55%|█████▌    | 2433024/4422102 [00:04<00:02, 700581.46it/s]\u001b[A\u001b[A\n",
      "\n",
      " 57%|█████▋    | 2506752/4422102 [00:04<00:02, 705244.50it/s]\u001b[A\u001b[A\n",
      "\n",
      " 58%|█████▊    | 2580480/4422102 [00:04<00:02, 700479.25it/s]\u001b[A\u001b[A\n",
      "\n",
      " 60%|██████    | 2654208/4422102 [00:04<00:02, 707052.62it/s]\u001b[A\u001b[A\n",
      "\n",
      " 62%|██████▏   | 2727936/4422102 [00:04<00:02, 703950.51it/s]\u001b[A\u001b[A\n",
      "\n",
      " 64%|██████▎   | 2809856/4422102 [00:05<00:02, 714274.27it/s]\u001b[A\u001b[A\n",
      "\n",
      " 65%|██████▌   | 2883584/4422102 [00:05<00:02, 701472.78it/s]\u001b[A\u001b[A\n",
      "\n",
      " 67%|██████▋   | 2957312/4422102 [00:05<00:02, 691615.60it/s]\u001b[A\u001b[A\n",
      "\n",
      " 69%|██████▊   | 3031040/4422102 [00:05<00:01, 697965.13it/s]\u001b[A\u001b[A\n",
      "\n",
      " 70%|███████   | 3104768/4422102 [00:05<00:01, 701413.18it/s]\u001b[A\u001b[A\n",
      "\n",
      " 72%|███████▏  | 3186688/4422102 [00:05<00:01, 718784.76it/s]\u001b[A\u001b[A\n",
      "\n",
      " 74%|███████▎  | 3260416/4422102 [00:05<00:01, 700018.94it/s]\u001b[A\u001b[A\n",
      "\n",
      " 75%|███████▌  | 3334144/4422102 [00:05<00:01, 690835.35it/s]\u001b[A\u001b[A\n",
      "\n",
      " 77%|███████▋  | 3407872/4422102 [00:05<00:01, 558654.15it/s]\u001b[A\u001b[A\n",
      "\n",
      " 79%|███████▊  | 3473408/4422102 [00:06<00:01, 485802.41it/s]\u001b[A\u001b[A\n",
      "\n",
      " 80%|████████  | 3538944/4422102 [00:06<00:01, 519966.51it/s]\u001b[A\u001b[A\n",
      "\n",
      " 82%|████████▏ | 3612672/4422102 [00:06<00:01, 565018.80it/s]\u001b[A\u001b[A\n",
      "\n",
      " 83%|████████▎ | 3686400/4422102 [00:06<00:01, 594471.44it/s]\u001b[A\u001b[A\n",
      "\n",
      " 85%|████████▌ | 3760128/4422102 [00:06<00:01, 616272.52it/s]\u001b[A\u001b[A\n",
      "\n",
      " 87%|████████▋ | 3833856/4422102 [00:06<00:00, 647697.84it/s]\u001b[A\u001b[A\n",
      "\n",
      " 88%|████████▊ | 3907584/4422102 [00:06<00:00, 669585.34it/s]\u001b[A\u001b[A\n",
      "\n",
      " 90%|█████████ | 3989504/4422102 [00:06<00:00, 690414.23it/s]\u001b[A\u001b[A\n",
      "\n",
      " 92%|█████████▏| 4063232/4422102 [00:06<00:00, 696186.36it/s]\u001b[A\u001b[A\n",
      "\n",
      " 94%|█████████▎| 4136960/4422102 [00:07<00:00, 688833.40it/s]\u001b[A\u001b[A\n",
      "\n",
      " 95%|█████████▌| 4218880/4422102 [00:07<00:00, 702718.09it/s]\u001b[A\u001b[A\n",
      "\n",
      " 97%|█████████▋| 4292608/4422102 [00:07<00:00, 706732.10it/s]\u001b[A\u001b[A\n",
      "\n",
      " 99%|█████████▊| 4366336/4422102 [00:07<00:00, 710344.83it/s]\u001b[A\u001b[A\n",
      "\n",
      "\n",
      "0it [00:00, ?it/s]\u001b[A\u001b[A\u001b[A"
     ]
    },
    {
     "name": "stdout",
     "output_type": "stream",
     "text": [
      "Extracting ./data/FashionMNIST/raw/t10k-images-idx3-ubyte.gz to ./data/FashionMNIST/raw\n",
      "Downloading http://fashion-mnist.s3-website.eu-central-1.amazonaws.com/t10k-labels-idx1-ubyte.gz to ./data/FashionMNIST/raw/t10k-labels-idx1-ubyte.gz\n"
     ]
    },
    {
     "name": "stderr",
     "output_type": "stream",
     "text": [
      "\n",
      "\n",
      "\n",
      "32768it [00:23, 1395.37it/s]                            \n",
      "4423680it [00:08, 540810.36it/s]                             \n",
      "8192it [00:00, 12789.25it/s]            "
     ]
    },
    {
     "name": "stdout",
     "output_type": "stream",
     "text": [
      "Extracting ./data/FashionMNIST/raw/t10k-labels-idx1-ubyte.gz to ./data/FashionMNIST/raw\n",
      "Processing...\n",
      "Done!\n"
     ]
    },
    {
     "name": "stderr",
     "output_type": "stream",
     "text": [
      "\n"
     ]
    }
   ],
   "source": [
    "import matplotlib.pyplot as plt\n",
    "import numpy as np\n",
    "\n",
    "import torch\n",
    "import torchvision\n",
    "import torchvision.transforms as transforms\n",
    "\n",
    "import torch.nn as nn\n",
    "import torch.nn.functional as F\n",
    "import torch.optim as optim\n",
    "\n",
    "\n",
    "# transforms\n",
    "transform = transforms.Compose(\n",
    "    [transforms.ToTensor(),\n",
    "    transforms.Normalize((0.5,), (0.5,))])\n",
    "\n",
    "\n",
    "# dataset\n",
    "trainset = torchvision.datasets.FashionMNIST(\n",
    "    './data', download=True, train=True,\n",
    "    transform=transform)\n",
    "testset = torchvision.datasets.FashionMNIST(\n",
    "    './data', download=True, train=False,\n",
    "    transform=transform)\n",
    "\n",
    "# dataloader\n",
    "trainloader = torch.utils.data.DataLoader(trainset, batch_size=4,\n",
    "                                         shuffle=True)\n",
    "testloader = torch.utils.data.DataLoader(testset, batch_size=4,\n",
    "                                        shuffle=False)\n",
    "\n",
    "# constant for classes\n",
    "classes = ('T-shirt/top', 'Trouser', 'Pullover', 'Dress', 'Coat',\n",
    "        'Sandal', 'Shirt', 'Sneaker', 'Bag', 'Ankle Boot')\n",
    "\n",
    "# helper function to show an image\n",
    "def matplotlib_imshow(img, one_channel=False):\n",
    "    if one_channel:\n",
    "        img = img.mean(dim=0)\n",
    "        \n",
    "    img = img / 2 +  0.5  # unnormlize\n",
    "    npimg = img.numpy()\n",
    "    \n",
    "    if one_channel:\n",
    "        plt.imshow(npimg, cmap='Greys')\n",
    "    else:\n",
    "        plt.imshow(np.transpose(npimg, (1, 2, 0)))"
   ]
  },
  {
   "cell_type": "markdown",
   "metadata": {},
   "source": [
    "We'll define a similar model architecutre from that tutorial, making only minor modifications to account for the fact that the images are now one channel instead of three and 28*28 instead of 32*32."
   ]
  },
  {
   "cell_type": "code",
   "execution_count": 2,
   "metadata": {},
   "outputs": [],
   "source": [
    "class Net(nn.Module):\n",
    "    def __init__(self):\n",
    "        super(Net, self).__init__()\n",
    "        self.conv1 = nn.Conv2d(1, 6, 5)\n",
    "        self.pool = nn.MaxPool2d(2, 2)\n",
    "        self.conv2 = nn.Conv2d(6, 16, 5)\n",
    "        self.fc1 = nn.Linear(16*4*4, 120)\n",
    "        self.fc2 = nn.Linear(120, 84)\n",
    "        self.fc3 = nn.Linear(84, 10)\n",
    "        \n",
    "    def forward(self, x):\n",
    "        x = self.pool(F.relu(self.conv1(x)))\n",
    "        x = self.pool(F.relu(self.conv2(x)))\n",
    "        x = x.view(-1, 16*4*4)\n",
    "        x = F.relu(self.fc1(x))\n",
    "        x = F.relu(self.fc2(x))\n",
    "        x = self.fc3(x)\n",
    "        return x\n",
    "\n",
    "net = Net()"
   ]
  },
  {
   "cell_type": "markdown",
   "metadata": {},
   "source": [
    "We'll define the same `optimizer` and `criterion` from before:"
   ]
  },
  {
   "cell_type": "code",
   "execution_count": 3,
   "metadata": {},
   "outputs": [],
   "source": [
    "criterion = nn.CrossEntropyLoss()\n",
    "optimizer = optim.SGD(net.parameters(), lr=1e-3, momentum=0.9)"
   ]
  },
  {
   "cell_type": "markdown",
   "metadata": {},
   "source": [
    "## TensorBord setup"
   ]
  },
  {
   "cell_type": "markdown",
   "metadata": {},
   "source": [
    "Now we'll set up TensorBoard, importing `tensorboard` from `torch.utils` and defining a `SummaryWriter`, our key object for writing information to TensorBoard."
   ]
  },
  {
   "cell_type": "code",
   "execution_count": 4,
   "metadata": {},
   "outputs": [
    {
     "name": "stderr",
     "output_type": "stream",
     "text": [
      "/Users/hotbaby/miniconda/miniconda3/envs/ml/lib/python3.7/site-packages/tensorboard/compat/tensorflow_stub/dtypes.py:541: FutureWarning: Passing (type, 1) or '1type' as a synonym of type is deprecated; in a future version of numpy, it will be understood as (type, (1,)) / '(1,)type'.\n",
      "  _np_qint8 = np.dtype([(\"qint8\", np.int8, 1)])\n",
      "/Users/hotbaby/miniconda/miniconda3/envs/ml/lib/python3.7/site-packages/tensorboard/compat/tensorflow_stub/dtypes.py:542: FutureWarning: Passing (type, 1) or '1type' as a synonym of type is deprecated; in a future version of numpy, it will be understood as (type, (1,)) / '(1,)type'.\n",
      "  _np_quint8 = np.dtype([(\"quint8\", np.uint8, 1)])\n",
      "/Users/hotbaby/miniconda/miniconda3/envs/ml/lib/python3.7/site-packages/tensorboard/compat/tensorflow_stub/dtypes.py:543: FutureWarning: Passing (type, 1) or '1type' as a synonym of type is deprecated; in a future version of numpy, it will be understood as (type, (1,)) / '(1,)type'.\n",
      "  _np_qint16 = np.dtype([(\"qint16\", np.int16, 1)])\n",
      "/Users/hotbaby/miniconda/miniconda3/envs/ml/lib/python3.7/site-packages/tensorboard/compat/tensorflow_stub/dtypes.py:544: FutureWarning: Passing (type, 1) or '1type' as a synonym of type is deprecated; in a future version of numpy, it will be understood as (type, (1,)) / '(1,)type'.\n",
      "  _np_quint16 = np.dtype([(\"quint16\", np.uint16, 1)])\n",
      "/Users/hotbaby/miniconda/miniconda3/envs/ml/lib/python3.7/site-packages/tensorboard/compat/tensorflow_stub/dtypes.py:545: FutureWarning: Passing (type, 1) or '1type' as a synonym of type is deprecated; in a future version of numpy, it will be understood as (type, (1,)) / '(1,)type'.\n",
      "  _np_qint32 = np.dtype([(\"qint32\", np.int32, 1)])\n",
      "/Users/hotbaby/miniconda/miniconda3/envs/ml/lib/python3.7/site-packages/tensorboard/compat/tensorflow_stub/dtypes.py:550: FutureWarning: Passing (type, 1) or '1type' as a synonym of type is deprecated; in a future version of numpy, it will be understood as (type, (1,)) / '(1,)type'.\n",
      "  np_resource = np.dtype([(\"resource\", np.ubyte, 1)])\n"
     ]
    }
   ],
   "source": [
    "from torch.utils.tensorboard import SummaryWriter\n",
    "\n",
    "writer = SummaryWriter('runs/fashion_mnist_experiment_1')"
   ]
  },
  {
   "cell_type": "markdown",
   "metadata": {},
   "source": [
    "## Writing to TensorBoard"
   ]
  },
  {
   "cell_type": "code",
   "execution_count": 5,
   "metadata": {},
   "outputs": [
    {
     "data": {
      "image/png": "[encoded data removed]",
      "text/plain": [
       "<Figure size 432x288 with 1 Axes>"
      ]
     },
     "metadata": {
      "needs_background": "light"
     },
     "output_type": "display_data"
    }
   ],
   "source": [
    "# get some random training images\n",
    "dataiter = iter(trainloader)\n",
    "images, labels = dataiter.next()\n",
    "\n",
    "# create grid of images\n",
    "img_grid = torchvision.utils.make_grid(images)\n",
    "\n",
    "# show images\n",
    "matplotlib_imshow(img_grid, one_channel=True)\n",
    "\n",
    "# write to tensorboard\n",
    "writer.add_image('four_fashion_mnist_images', img_grid)"
   ]
  },
  {
   "cell_type": "markdown",
   "metadata": {},
   "source": [
    "![](https://pytorch.org/tutorials/_static/img/tensorboard_first_view.png)"
   ]
  },
  {
   "cell_type": "markdown",
   "metadata": {},
   "source": [
    "## Inspect the model using TensorBoard"
   ]
  },
  {
   "cell_type": "markdown",
   "metadata": {},
   "source": [
    "One of TensorBoad's strenghts is its ability to visualize model structures. Let's visualize the model we built."
   ]
  },
  {
   "cell_type": "code",
   "execution_count": 6,
   "metadata": {},
   "outputs": [],
   "source": [
    "writer.add_graph(net, images)\n",
    "writer.close()"
   ]
  },
  {
   "cell_type": "markdown",
   "metadata": {},
   "source": [
    "![](https://pytorch.org/tutorials/_static/img/tensorboard_model_viz.png)"
   ]
  },
  {
   "cell_type": "markdown",
   "metadata": {},
   "source": [
    "Go ahead and double click on `Net` to see it expand, seeing a detailed view of the individual operations that make up the model."
   ]
  },
  {
   "cell_type": "markdown",
   "metadata": {},
   "source": [
    "## Adding a \"Projector\" to TensorBoard"
   ]
  },
  {
   "cell_type": "markdown",
   "metadata": {},
   "source": [
    "We can visualize the lower dimensional representation of higher  dimensional data via the `add_embedding` method."
   ]
  },
  {
   "cell_type": "code",
   "execution_count": 8,
   "metadata": {},
   "outputs": [
    {
     "name": "stdout",
     "output_type": "stream",
     "text": [
      "warning: Embedding dir exists, did you set global_step for add_embedding()?\n"
     ]
    }
   ],
   "source": [
    "def select_n_random(data, labels, n=100):\n",
    "    \"\"\"\n",
    "    Select n random datapoints and their corresponding lables from\n",
    "    a dataset.\n",
    "    \"\"\"\n",
    "    assert len(data) == len(labels)\n",
    "    \n",
    "    perm = torch.randperm(len(data))\n",
    "    return data[perm][:n], labels[perm][:n]\n",
    "\n",
    "# select random iamges and their target indices\n",
    "images, labels = select_n_random(trainset.data, trainset.targets)\n",
    "\n",
    "# get the class labels for each image\n",
    "class_labels = [classes[lab] for lab in labels]\n",
    "\n",
    "# log embedding\n",
    "features = images.view(-1, 28*28)\n",
    "writer.add_embedding(features,\n",
    "                    metadata=class_labels,\n",
    "                    label_img=images.unsqueeze(1))\n",
    "writer.close()"
   ]
  },
  {
   "cell_type": "code",
   "execution_count": 9,
   "metadata": {},
   "outputs": [
    {
     "data": {
      "text/plain": [
       "(torch.Size([100, 28, 28]), torch.Size([100]))"
      ]
     },
     "execution_count": 9,
     "metadata": {},
     "output_type": "execute_result"
    }
   ],
   "source": [
    "images.shape, labels.shape"
   ]
  },
  {
   "cell_type": "markdown",
   "metadata": {},
   "source": [
    "## Tracking model training with TensorBoard"
   ]
  },
  {
   "cell_type": "code",
   "execution_count": 101,
   "metadata": {},
   "outputs": [],
   "source": [
    "# help functions\n",
    "\n",
    "def images_to_probs(net, images):\n",
    "    \"\"\"\n",
    "    Generates predictions adn corresonding probabilities from a\n",
    "    trained network and a list of images.\n",
    "    \"\"\"\n",
    "    output = net(images)\n",
    "    # convert output probilities to predicted class\n",
    "    _, pred_tensor = torch.max(output, 1)\n",
    "    preds = np.squeeze(pred_tensor.numpy())\n",
    "    return preds, [F.softmax(el, dim=0)[i].item() for i, el in zip(preds, output)]\n",
    "\n",
    "def plot_classes_preds(net, images, labels):\n",
    "    \"\"\"\n",
    "    Generates matplotlib Figure using a trained network, along with\n",
    "    images and labels from a batch, that shows the network's top \n",
    "    prediction along with its probability, alongnside the actual\n",
    "    label, coloring this information based on wheterh the prediction\n",
    "    was correct or not.\n",
    "    Uses the \"iamgess_to_probs\" function.\n",
    "    \"\"\"\n",
    "    preds, probs = images_to_probs(net, images)\n",
    "    \n",
    "    # plot the images in the batch, along with predicted and true labels\n",
    "    fig = plt.figure(figsize=(12, 48))\n",
    "    for idx in np.arange(4):\n",
    "        ax = fig.add_subplot(1, 4, idx+1, xticks=[], yticks=[])\n",
    "        matplotlib_imshow(images[idx], one_channel=True)\n",
    "        ax.set_title(\"{0}, {1:.1f}%\\n(label: {2})\".format(\n",
    "            classes[preds[idx]],\n",
    "            probs[idx] * 100.0,\n",
    "            classes[labels[idx]]),\n",
    "                    color=(\"green\" if preds[idx]==labels[idx].item() else \"red\"))\n",
    "    return fig"
   ]
  },
  {
   "cell_type": "code",
   "execution_count": 104,
   "metadata": {},
   "outputs": [
    {
     "name": "stdout",
     "output_type": "stream",
     "text": [
      "Finishing Training\n"
     ]
    }
   ],
   "source": [
    "running_loss = 0.0\n",
    "\n",
    "for epoch in range(1):\n",
    "\n",
    "        for i, data in enumerate(trainloader, 0):\n",
    "            \n",
    "            # get the inputs, data is a list of [inputs, labels]\n",
    "            inputs, labels = data\n",
    "            \n",
    "            # zero the parameter gradients\n",
    "            optimizer.zero_grad()\n",
    "            \n",
    "            # forward + backward + optimize\n",
    "            outpus = net(inputs)\n",
    "            loss = criterion(outpus, labels)\n",
    "            loss.backward()\n",
    "            optimizer.step()\n",
    "            \n",
    "            running_loss += loss.item()\n",
    "            if i % 1000 == 99:\n",
    "                # log the running loss\n",
    "                writer.add_scalar('training loass',\n",
    "                                 running_loss / 1000,\n",
    "                                 epoch * len(trainloader) + i)\n",
    "                \n",
    "                writer.add_figure('predictions vs. actuals',\n",
    "                                 plot_classes_preds(net, inputs, labels),\n",
    "                                 global_step=epoch*len(trainloader) + i)\n",
    "                \n",
    "                running_loss = 0.0\n",
    "                \n",
    "print('Finishing Training')"
   ]
  }
 ],
 "metadata": {
  "kernelspec": {
   "display_name": "Python 3",
   "language": "python",
   "name": "python3"
  },
  "language_info": {
   "codemirror_mode": {
    "name": "ipython",
    "version": 3
   },
   "file_extension": ".py",
   "mimetype": "text/x-python",
   "name": "python",
   "nbconvert_exporter": "python",
   "pygments_lexer": "ipython3",
   "version": "3.7.8"
  },
  "toc": {
   "base_numbering": 1,
   "nav_menu": {},
   "number_sections": true,
   "sideBar": true,
   "skip_h1_title": false,
   "title_cell": "Table of Contents",
   "title_sidebar": "Contents",
   "toc_cell": false,
   "toc_position": {},
   "toc_section_display": true,
   "toc_window_display": false
  }
 },
 "nbformat": 4,
 "nbformat_minor": 4
}
