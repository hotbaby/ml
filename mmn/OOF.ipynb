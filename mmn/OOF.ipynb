{
 "cells": [
  {
   "cell_type": "markdown",
   "metadata": {},
   "source": [
    "# Out-Of-Fold"
   ]
  },
  {
   "cell_type": "markdown",
   "metadata": {},
   "source": [
    "References\n",
    "\n",
    "* *https://www.kaggle.com/adarshchavakula/out-of-fold-oof-model-cross-validation/data*\n",
    "* *https://machinelearningmastery.com/k-fold-cross-validation/*\n",
    "* *https://www.kaggle.com/adarshchavakula/out-of-fold-oof-model-cross-validation*"
   ]
  },
  {
   "cell_type": "markdown",
   "metadata": {},
   "source": [
    "## Examples"
   ]
  },
  {
   "cell_type": "markdown",
   "metadata": {},
   "source": [
    "### Scikit-Learn OOF"
   ]
  },
  {
   "cell_type": "markdown",
   "metadata": {},
   "source": [
    "```python\n",
    "\"\"\"\n",
    "Use Scikit Learn's cross_val_predict to do a Out-of-Fold Cross validation as opposed \n",
    "to averaging out the scores on each fold.\n",
    "This **usually** tends to be more stable/reliable compared to within fold average.\n",
    "\n",
    "This script works for all Scikit Learn models as well as the Scikit Learn APIs of\n",
    "XGBoost, LightGBM and Keras.\n",
    "\"\"\"\n",
    "\n",
    "import numpy as np \n",
    "import pandas as pd \n",
    "from xgboost import XGBRegressor\n",
    "from sklearn.metrics import mean_squared_error\n",
    "from sklearn.model_selection import cross_val_predict\n",
    "\n",
    "# Read Data\n",
    "print(\"Reading Dataset...\")\n",
    "train = pd.read_csv(\"../input/train.csv\")\n",
    "target = np.array(train[\"target\"])\n",
    "target_log = np.log1p(target) # Log transform target as the evaluation metric uses it\n",
    "xtrain = np.array(train.iloc[:,2:])\n",
    "print(\"Shape of training data: {}\".format(np.shape(xtrain)))\n",
    "\n",
    "# Define Model \n",
    "xgb_model = XGBRegressor(max_depth=6, learning_rate=0.1, n_estimators=70,\n",
    "                         min_child_weight=100, subsample=1.0, \n",
    "                         colsample_bytree=0.8, colsample_bylevel=0.8,\n",
    "                         random_state=42, n_jobs=4)\n",
    "\n",
    "# Make OOF predictions using 5 folds\n",
    "print(\"Cross Validating...\")\n",
    "oof_preds_log = cross_val_predict(xgb_model, xtrain, target_log, cv=5, \n",
    "                                  n_jobs=1, method=\"predict\")\n",
    "                                  \n",
    "# Calculate RMSLE (RMSE of Log(1+y))\n",
    "cv_rmsle = np.sqrt(mean_squared_error(target_log, oof_preds_log))\n",
    "print(\"\\nOOF RMSLE Score: {:.4f}\".format(cv_rmsle))\n",
    "\n",
    "```"
   ]
  },
  {
   "cell_type": "markdown",
   "metadata": {},
   "source": [
    "### 自己实现OOF"
   ]
  },
  {
   "cell_type": "markdown",
   "metadata": {},
   "source": [
    "```py\n",
    "ycol = 'target'\n",
    "feature_names = list(\n",
    "    filter(lambda x: x not in [ycol, 'timestamp', 'ts', 'id', 'day', 'hour', 'minute', 'ts_datetime', 'minute10',\n",
    "                               'personidentification', 'level', 'followscore', 'personalscore', 'gender',\n",
    "                               'hourl', 'group'],\n",
    "           df_train.columns))\n",
    "\n",
    "model = lgb.LGBMClassifier(num_leaves=64,\n",
    "                           max_depth=10,\n",
    "                           learning_rate=0.4,\n",
    "                           n_estimators=10000000,\n",
    "                           subsample=0.8,\n",
    "                           feature_fraction=0.8,\n",
    "                           reg_alpha=0.5,\n",
    "                           reg_lambda=0.5,\n",
    "                           random_state=seed,\n",
    "                           metric='auc'\n",
    "                           )\n",
    "\n",
    "oof = []\n",
    "prediction = df_test[['id']]\n",
    "prediction['target'] = 0\n",
    "df_importance_list = []\n",
    "\n",
    "kfold = StratifiedKFold(n_splits=n_fold, shuffle=False, random_state=seed)\n",
    "for fold_id, (trn_idx, val_idx) in enumerate(kfold.split(df_train[feature_names], df_train['day'])):\n",
    "    X_train = df_train.iloc[trn_idx][feature_names]\n",
    "    Y_train = df_train.iloc[trn_idx][ycol]\n",
    "\n",
    "    X_val = df_train.iloc[val_idx][feature_names]\n",
    "    Y_val = df_train.iloc[val_idx][ycol]\n",
    "\n",
    "    print('\\nFold_{} Training ================================\\n'.format(fold_id+1))\n",
    "\n",
    "    lgb_model = model.fit(X_train,\n",
    "                          Y_train,\n",
    "                          eval_names=['train', 'valid'],\n",
    "                          eval_set=[(X_train, Y_train), (X_val, Y_val)],\n",
    "                          verbose=100,\n",
    "                          eval_metric='auc',\n",
    "                          early_stopping_rounds=50)\n",
    "\n",
    "    pred_val = lgb_model.predict_proba(\n",
    "        X_val, num_iteration=lgb_model.best_iteration_)[:, 1]\n",
    "    df_oof = df_train.iloc[val_idx][['id', ycol]].copy()\n",
    "    df_oof['pred'] = pred_val\n",
    "    oof.append(df_oof)\n",
    "\n",
    "    pred_test = lgb_model.predict_proba(\n",
    "        df_test[feature_names], num_iteration=lgb_model.best_iteration_)[:, 1]\n",
    "    prediction['target'] += pred_test / n_fold\n",
    "\n",
    "    df_importance = pd.DataFrame({\n",
    "        'column': feature_names,\n",
    "        'importance': lgb_model.feature_importances_,\n",
    "    })\n",
    "    df_importance_list.append(df_importance)\n",
    "\n",
    "```"
   ]
  },
  {
   "cell_type": "markdown",
   "metadata": {},
   "source": [
    "**oof evaluation**"
   ]
  },
  {
   "cell_type": "markdown",
   "metadata": {},
   "source": [
    "```py\n",
    "df_oof = pd.concat(oof)\n",
    "df_oof['pred_bin'] = df_oof['pred'].rank()\n",
    "df_oof['pred_bin'] = (df_oof['pred_bin'] >= df_oof.shape[0]\n",
    "                      * 0.8934642948637943).astype(int)\n",
    "\n",
    "auc = roc_auc_score(df_oof['target'], df_oof['pred_bin'])\n",
    "f1 = f1_score(df_oof['target'], df_oof['pred_bin'])\n",
    "\n",
    "print('f1:', f1)\n",
    "print('auc:', auc)\n",
    "```"
   ]
  }
 ],
 "metadata": {
  "kernelspec": {
   "display_name": "Python 3",
   "language": "python",
   "name": "python3"
  },
  "language_info": {
   "codemirror_mode": {
    "name": "ipython",
    "version": 3
   },
   "file_extension": ".py",
   "mimetype": "text/x-python",
   "name": "python",
   "nbconvert_exporter": "python",
   "pygments_lexer": "ipython3",
   "version": "3.7.6"
  },
  "toc": {
   "base_numbering": 1,
   "nav_menu": {},
   "number_sections": true,
   "sideBar": true,
   "skip_h1_title": false,
   "title_cell": "Table of Contents",
   "title_sidebar": "Contents",
   "toc_cell": false,
   "toc_position": {},
   "toc_section_display": true,
   "toc_window_display": true
  }
 },
 "nbformat": 4,
 "nbformat_minor": 4
}
