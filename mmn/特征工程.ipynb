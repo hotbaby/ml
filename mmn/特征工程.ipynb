{
 "cells": [
  {
   "cell_type": "markdown",
   "metadata": {
    "deletable": false,
    "editable": false,
    "run_control": {
     "frozen": true
    }
   },
   "source": [
    "# 特征工程"
   ]
  },
  {
   "cell_type": "markdown",
   "metadata": {
    "deletable": false,
    "editable": false,
    "run_control": {
     "frozen": true
    }
   },
   "source": [
    "**数据和特征决定了机器学习算法的上限，而模型和算法只是不断逼近这个上限而已。**"
   ]
  },
  {
   "cell_type": "markdown",
   "metadata": {
    "deletable": false,
    "editable": false,
    "run_control": {
     "frozen": true
    }
   },
   "source": [
    "美国计算机科学家Peter Nervig有句名言：“基于大量数据的简单模型胜于基于少量数据的复杂模型。更多的数据胜于聪明的算法，而好的数据胜于多的数据。”"
   ]
  },
  {
   "cell_type": "markdown",
   "metadata": {
    "deletable": false,
    "editable": false,
    "run_control": {
     "frozen": true
    }
   },
   "source": [
    "吴恩达曾说过：“特征工程不仅操作困难、耗时，而且需要专业领域知识。应用机器学习基本上就是特征工程。“"
   ]
  },
  {
   "cell_type": "markdown",
   "metadata": {
    "deletable": false,
    "editable": false,
    "run_control": {
     "frozen": true
    }
   },
   "source": [
    "## 特征提取"
   ]
  },
  {
   "cell_type": "markdown",
   "metadata": {
    "deletable": false,
    "editable": false,
    "run_control": {
     "frozen": true
    }
   },
   "source": [
    "### 数值特征"
   ]
  },
  {
   "cell_type": "markdown",
   "metadata": {
    "deletable": false,
    "editable": false,
    "run_control": {
     "frozen": true
    }
   },
   "source": [
    "* 截断\n",
    "* 二值化\n",
    "* 分桶\n",
    "* 缩放\n",
    "* 缺失值处理\n",
    "* 特征交叉\n",
    "* 统计特征，计数、均值、方差、最大、最小、中间值等"
   ]
  },
  {
   "cell_type": "markdown",
   "metadata": {
    "deletable": false,
    "editable": false,
    "run_control": {
     "frozen": true
    }
   },
   "source": [
    "### 类别特征"
   ]
  },
  {
   "cell_type": "markdown",
   "metadata": {
    "deletable": false,
    "editable": false,
    "run_control": {
     "frozen": true
    }
   },
   "source": [
    "* 自然数编码\n",
    "* 独热编码\n",
    "* 分层编码\n",
    "* 散列编码\n",
    "* 计数编码\n",
    "* 类别特征之间交叉组合\n",
    "* 类别特征和数据特征之间交叉组合"
   ]
  },
  {
   "cell_type": "markdown",
   "metadata": {
    "deletable": false,
    "editable": false,
    "run_control": {
     "frozen": true
    }
   },
   "source": [
    "### 时间特征"
   ]
  },
  {
   "cell_type": "markdown",
   "metadata": {
    "deletable": false,
    "editable": false,
    "run_control": {
     "frozen": true
    }
   },
   "source": [
    "在实际应用中，时间往往是一个非常重要的因素。"
   ]
  },
  {
   "cell_type": "markdown",
   "metadata": {
    "deletable": false,
    "editable": false,
    "run_control": {
     "frozen": true
    }
   },
   "source": [
    "时间特征可以直接作为类别特征处理，类别特征的处理方式对于时间特征同样适用。另外时间特征还包含其他更加丰富的信息。时间特征常用的表达方式有年、月、日、时、分、秒、星期几，以及一年过了多少天、一年过了多少分钟、季度、是否闰年、是否季度初、是否季度末、是否月初、是否月末、是否周末，还有是否营业时间、是否节假日等。"
   ]
  },
  {
   "cell_type": "markdown",
   "metadata": {
    "deletable": false,
    "editable": false,
    "run_control": {
     "frozen": true
    }
   },
   "source": [
    "另外，时间变量是包含更重要的时间序列相关的特征。\n",
    "\n",
    "1. 对于时间时序信息，当前时间点之前的信息通畅非常重要，例如滞后特征使用非常广泛。**滞后特征时时间序列预测转化为监督学习问题的一种经典方法**。若我们的问题时利用历史数据预测未来，则对于t时刻，可以将t-1、t-2和t-3时刻的值作为特征使用。\n",
    "2. 另一种有效的方法是华东窗口统计特征，例如计算前n个值的均值（回归问题），或者前n个值中每个类别的分布（分类问题）。"
   ]
  },
  {
   "cell_type": "markdown",
   "metadata": {
    "deletable": false,
    "editable": false,
    "run_control": {
     "frozen": true
    }
   },
   "source": [
    "### 空间特征"
   ]
  },
  {
   "cell_type": "markdown",
   "metadata": {
    "deletable": false,
    "editable": false,
    "run_control": {
     "frozen": true
    }
   },
   "source": [
    "基于空间位置变量是一类非常重要的信息，例如经纬度。对于经纬度，除了将其作为树枝变量使用之外，还有其他更有效的使用方式。\n",
    "\n",
    "* 可以对经纬度做散列，从而对空间区域分块，得到一个类别特征\n",
    "* 通过坐标拾取当前位置行政区ID、街道ID、城市ID等类别特征，进而利用类别特征的处理方法进行特征处理\n",
    "* 计算两个位置之间的距离，例如用户到超市或电影院的距离。"
   ]
  },
  {
   "cell_type": "markdown",
   "metadata": {
    "deletable": false,
    "editable": false,
    "run_control": {
     "frozen": true
    }
   },
   "source": [
    "### 文本特征"
   ]
  },
  {
   "cell_type": "markdown",
   "metadata": {
    "deletable": false,
    "editable": false,
    "run_control": {
     "frozen": true
    }
   },
   "source": [
    "TODO"
   ]
  },
  {
   "cell_type": "markdown",
   "metadata": {
    "deletable": false,
    "editable": false,
    "run_control": {
     "frozen": true
    }
   },
   "source": [
    "## 特征选择"
   ]
  },
  {
   "cell_type": "markdown",
   "metadata": {
    "deletable": false,
    "editable": false,
    "run_control": {
     "frozen": true
    }
   },
   "source": [
    "特征提取是从原始数据中构造新的特征，特征选择是从这些特征集合中选出一个子集。特征选择对机器学习应用来说非常重要。特征选择也称为属性选择，是指为了构建模型而选择相关特征子集的过程。"
   ]
  },
  {
   "cell_type": "markdown",
   "metadata": {
    "deletable": false,
    "editable": false,
    "run_control": {
     "frozen": true
    }
   },
   "source": [
    "特征选择的目的："
   ]
  },
  {
   "cell_type": "markdown",
   "metadata": {
    "deletable": false,
    "editable": false,
    "run_control": {
     "frozen": true
    }
   },
   "source": [
    "* 简化模型，使模型更易于研究人员和用户理解。可解释性不仅让我们对模型效果的稳定性有更好的把握，而且也能为业务运营等工作提供指引和决策支持。\n",
    "* 改善性能。特征选择的另一个作用是节省存储和计算开销。\n",
    "* 改善通用性、降低过拟合风险。特征的增多会大大增加模型的搜索空间，大多数模型所有的训练岩本数据随着特征数量的增加而显著增加，特征的增加虽然能更好的拟合训练数据，但也可能增加方差。"
   ]
  },
  {
   "cell_type": "markdown",
   "metadata": {
    "deletable": false,
    "editable": false,
    "run_control": {
     "frozen": true
    }
   },
   "source": [
    "使用特征选择的前提是：训练数据中包含许多冗余或者无关的特征，移除这些特征并不会导致丢失信息。**冗余和无关是两个概念。** 如果一个特征本身有用，但这个特征和另外一个有用特征强相关，则这个特征可能变得冗余。"
   ]
  },
  {
   "cell_type": "markdown",
   "metadata": {
    "deletable": false,
    "editable": false,
    "run_control": {
     "frozen": true
    }
   },
   "source": [
    "特征选择议案包括生产过程、评价函数、停止准则、验证过程。为了进行特征选择，我们首先要产生特征或特征子集候选集合，其次需要衡量特征的重要性和好快程度，因此需要量化特征变量和目标变量之间的联系。为了避免过拟合，我们一般采用交叉验证的方法来评估特征的好坏；为了减少计算复杂度，我们可能还需要设置一个阈值，当评价函数达到阈值后搜索停止；最后我们需要再验证数据集上验证选出来的特征子集的有效性。"
   ]
  },
  {
   "cell_type": "markdown",
   "metadata": {
    "deletable": false,
    "editable": false,
    "run_control": {
     "frozen": true
    }
   },
   "source": [
    "### 过滤方法"
   ]
  },
  {
   "cell_type": "markdown",
   "metadata": {
    "deletable": false,
    "editable": false,
    "run_control": {
     "frozen": true
    }
   },
   "source": [
    "TODO"
   ]
  },
  {
   "cell_type": "markdown",
   "metadata": {
    "deletable": false,
    "editable": false,
    "run_control": {
     "frozen": true
    }
   },
   "source": [
    "### 封装方法"
   ]
  },
  {
   "cell_type": "markdown",
   "metadata": {
    "deletable": false,
    "editable": false,
    "run_control": {
     "frozen": true
    }
   },
   "source": [
    "TODO"
   ]
  },
  {
   "cell_type": "markdown",
   "metadata": {
    "deletable": false,
    "editable": false,
    "run_control": {
     "frozen": true
    }
   },
   "source": [
    "### 嵌入方法"
   ]
  },
  {
   "cell_type": "markdown",
   "metadata": {
    "deletable": false,
    "editable": false,
    "run_control": {
     "frozen": true
    }
   },
   "source": [
    "过滤方法与机器学习算法相互独立，而且不需要交叉验证，计算效率比较高。但是过滤方法没有考虑机器学习算法的特点。封装方法使用预先定义的机器学习算法来评估特征子集的质量，需要很多次训练模型，计算效率很低。潜入方法则将特征选择潜入到模型的构建过程，具有封装方法和机器学习算法相结合的优点，而且具有过滤方法计算高低优点。"
   ]
  },
  {
   "cell_type": "markdown",
   "metadata": {
    "deletable": false,
    "editable": false,
    "run_control": {
     "frozen": true
    }
   },
   "source": [
    "# 1. 嵌入方法最经典是LASSO(Least Absolue Shrinkage and Selection Operator)方法。在使用LASSO之前，大家都是通过采用岭回归，通过回归系数进行衰减来防止过拟合，但是岭回归不能进行特征选择，对模型的可解释性没有帮组。LASSO方法类似岭回归，它通过对回归系数L1惩罚来防止过拟合，可以让特定的回归系数变0，从而可以选择一个不包含那些系数的更简单的模型。实际应用中，$\\lambda$越大，回归系数越洗漱，$\\lambda$一般采用交叉验证的方式来确定。"
   ]
  },
  {
   "cell_type": "markdown",
   "metadata": {
    "deletable": false,
    "editable": false,
    "run_control": {
     "frozen": true
    }
   },
   "source": [
    "2. 另外一类嵌入方法是基于树模型的特征选择方法。在决策树中，深度较浅的节点一般对应的特征分类能力更强（可以将更多的样本区分开）。杜宇基于决策树的算法，如随机森林，重要的特征更有可能出现在深度较浅的节点，而且出现的次数可能越多。因此，可以基于树模型中特征出现的次数等指标对特征进行重要性排序。"
   ]
  },
  {
   "cell_type": "markdown",
   "metadata": {
    "deletable": false,
    "editable": false,
    "run_control": {
     "frozen": true
    }
   },
   "source": [
    "Rdige成本函数： $J(\\theta) = MSE(\\theta) + \\alpha \\frac{1}{2} \\sum \\limits_{i=1} ^n \\theta^2$\n",
    "\n",
    "LASSO成本函数： $J(\\theta) = MSE(\\theta) + \\alpha \\sum \\limits_{i=1} ^n |\\theta_{i}|$"
   ]
  },
  {
   "cell_type": "markdown",
   "metadata": {
    "deletable": false,
    "editable": false,
    "run_control": {
     "frozen": true
    }
   },
   "source": [
    "### 参考文献"
   ]
  },
  {
   "cell_type": "markdown",
   "metadata": {
    "deletable": false,
    "editable": false,
    "run_control": {
     "frozen": true
    }
   },
   "source": [
    "* *美团机器学习实战*\n",
    "* *https://scikit-learn.org/stable/modules/feature_selection.html*"
   ]
  }
 ],
 "metadata": {
  "kernelspec": {
   "display_name": "Python 3",
   "language": "python",
   "name": "python3"
  },
  "language_info": {
   "codemirror_mode": {
    "name": "ipython",
    "version": 3
   },
   "file_extension": ".py",
   "mimetype": "text/x-python",
   "name": "python",
   "nbconvert_exporter": "python",
   "pygments_lexer": "ipython3",
   "version": "3.7.6"
  },
  "toc": {
   "base_numbering": 1,
   "nav_menu": {},
   "number_sections": true,
   "sideBar": true,
   "skip_h1_title": false,
   "title_cell": "Table of Contents",
   "title_sidebar": "Contents",
   "toc_cell": false,
   "toc_position": {},
   "toc_section_display": true,
   "toc_window_display": false
  }
 },
 "nbformat": 4,
 "nbformat_minor": 4
}
