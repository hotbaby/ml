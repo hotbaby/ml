{
 "cells": [
  {
   "cell_type": "markdown",
   "metadata": {
    "deletable": false,
    "editable": false,
    "run_control": {
     "frozen": true
    }
   },
   "source": [
    "**参考文献**"
   ]
  },
  {
   "cell_type": "markdown",
   "metadata": {},
   "source": [
    "* *托马斯微积分*\n",
    "* *线性代数引论*\n",
    "* *概率导论*\n",
    "* *Python数据科学手册*\n",
    "* *深度学习*\n",
    "* *机器学习实战 基于Scikit-Learn与Tensorflow*\n",
    "* *统计学习方法*\n",
    "* *美团机器学习实战*"
   ]
  },
  {
   "cell_type": "markdown",
   "metadata": {
    "deletable": false,
    "editable": false,
    "run_control": {
     "frozen": true
    }
   },
   "source": [
    "**网络资源**\n",
    "\n",
    "* [李宏毅教授ML课程](http://speech.ee.ntu.edu.tw/~tlkagk/courses_ML17_2.html)\n",
    "* [Standford cs231n](http://cs231n.github.io/)\n",
    "* *https://github.com/NLP-LOVE/ML-NLP*\n",
    "* *https://blog.slinuxer.com/tag/pca*"
   ]
  }
 ],
 "metadata": {
  "kernelspec": {
   "display_name": "Python 3",
   "language": "python",
   "name": "python3"
  },
  "language_info": {
   "codemirror_mode": {
    "name": "ipython",
    "version": 3
   },
   "file_extension": ".py",
   "mimetype": "text/x-python",
   "name": "python",
   "nbconvert_exporter": "python",
   "pygments_lexer": "ipython3",
   "version": "3.7.6"
  },
  "toc": {
   "base_numbering": 1,
   "nav_menu": {},
   "number_sections": true,
   "sideBar": true,
   "skip_h1_title": false,
   "title_cell": "Table of Contents",
   "title_sidebar": "Contents",
   "toc_cell": false,
   "toc_position": {},
   "toc_section_display": true,
   "toc_window_display": false
  }
 },
 "nbformat": 4,
 "nbformat_minor": 4
}
