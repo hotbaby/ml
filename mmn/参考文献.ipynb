{
 "cells": [
  {
   "cell_type": "markdown",
   "metadata": {
    "deletable": false,
    "editable": false,
    "run_control": {
     "frozen": true
    }
   },
   "source": [
    "**参考文献**"
   ]
  },
  {
   "cell_type": "markdown",
   "metadata": {
    "deletable": false,
    "editable": false,
    "run_control": {
     "frozen": true
    }
   },
   "source": [
    "**书籍**\n",
    "\n",
    "* *托马斯微积分*\n",
    "* *线性代数引论*\n",
    "* *概率导论 Introduction to Probability*\n",
    "* *Python数据科学手册 Python Data Science Handbook*\n",
    "* *深度学习 Deep Learning*\n",
    "* *机器学习实战 Hands-On Machine Learning with Scikit-Learn & Tensorflow*\n",
    "* *精通特征工程 Feature Engineering for Machine Learning*\n",
    "* *统计学习方法*\n",
    "* *美团机器学习实战*"
   ]
  },
  {
   "cell_type": "markdown",
   "metadata": {},
   "source": [
    "**课程**\n",
    "\n",
    "* [李宏毅教授ML课程](http://speech.ee.ntu.edu.tw/~tlkagk/courses_ML17_2.html)\n",
    "* [Standford cs231n](http://cs231n.github.io/)\n",
    "* *https://course.fast.ai/*\n"
   ]
  },
  {
   "cell_type": "markdown",
   "metadata": {},
   "source": [
    "## **网络资源**\n",
    "\n",
    "* *https://github.com/NLP-LOVE/ML-NLP*\n",
    "* *https://github.com/alicezheng/feature-engineering-book*\n",
    "* *https://github.com/ageron/handson-ml*\n",
    "* *https://xgboost.readthedocs.io/en/latest/index.html*\n",
    "* *https://lightgbm.readthedocs.io/en/latest/*\n",
    "* *https://catboost.ai/*\n",
    "* *https://github.com/catboost*\n",
    "* *https://github.com/catboost/tutorials*\n",
    "* *https://pandas.pydata.org/*\n",
    "* *https://www.youtube.com/watch?v=usdEWSDisS0&feature=youtu.be*"
   ]
  }
 ],
 "metadata": {
  "kernelspec": {
   "display_name": "Python 3",
   "language": "python",
   "name": "python3"
  },
  "language_info": {
   "codemirror_mode": {
    "name": "ipython",
    "version": 3
   },
   "file_extension": ".py",
   "mimetype": "text/x-python",
   "name": "python",
   "nbconvert_exporter": "python",
   "pygments_lexer": "ipython3",
   "version": "3.7.6"
  },
  "toc": {
   "base_numbering": 1,
   "nav_menu": {},
   "number_sections": true,
   "sideBar": true,
   "skip_h1_title": false,
   "title_cell": "Table of Contents",
   "title_sidebar": "Contents",
   "toc_cell": false,
   "toc_position": {},
   "toc_section_display": true,
   "toc_window_display": false
  }
 },
 "nbformat": 4,
 "nbformat_minor": 4
}
